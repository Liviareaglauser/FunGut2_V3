{
 "cells": [
  {
   "cell_type": "code",
   "execution_count": null,
   "id": "d72ee92c-eca8-4a75-98d8-4349309c41bc",
   "metadata": {},
   "outputs": [],
   "source": [
    "hallo"
   ]
  }
 ],
 "metadata": {
  "kernelspec": {
   "display_name": "QIIME 2",
   "language": "python",
   "name": "python3"
  },
  "language_info": {
   "codemirror_mode": {
    "name": "ipython",
    "version": 3
   },
   "file_extension": ".py",
   "mimetype": "text/x-python",
   "name": "python",
   "nbconvert_exporter": "python",
   "pygments_lexer": "ipython3",
   "version": "3.10.14"
  }
 },
 "nbformat": 4,
 "nbformat_minor": 5
}
