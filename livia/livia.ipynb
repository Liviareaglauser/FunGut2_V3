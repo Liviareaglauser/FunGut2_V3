{
 "cells": [
  {
   "cell_type": "code",
   "execution_count": 1,
   "id": "8be1c88c-b49a-4e31-a8f1-2615f9e08841",
   "metadata": {
    "execution": {
     "iopub.execute_input": "2025-10-20T08:37:18.450858Z",
     "iopub.status.busy": "2025-10-20T08:37:18.450543Z",
     "iopub.status.idle": "2025-10-20T08:37:20.334892Z",
     "shell.execute_reply": "2025-10-20T08:37:20.334271Z",
     "shell.execute_reply.started": "2025-10-20T08:37:18.450837Z"
    },
    "tags": []
   },
   "outputs": [],
   "source": [
    "import IPython\n",
    "\n",
    "import pandas as pd\n",
    "import matplotlib.pyplot as plt\n",
    "import qiime2 as q2\n",
    "import seaborn as sns\n",
    "from qiime2 import Visualization\n",
    "\n",
    "\n",
    "import os\n",
    "\n",
    "import matplotlib.pyplot as plt\n",
    "%matplotlib inline"
   ]
  },
  {
   "cell_type": "code",
   "execution_count": 2,
   "id": "59bdf43e-affd-4db3-92be-d2fd422f6d04",
   "metadata": {
    "execution": {
     "iopub.execute_input": "2025-10-20T08:37:20.336516Z",
     "iopub.status.busy": "2025-10-20T08:37:20.335839Z",
     "iopub.status.idle": "2025-10-20T08:37:20.339195Z",
     "shell.execute_reply": "2025-10-20T08:37:20.338751Z",
     "shell.execute_reply.started": "2025-10-20T08:37:20.336485Z"
    },
    "tags": []
   },
   "outputs": [],
   "source": [
    "PATH = \"livia_data/fungut_metadata.tsv\""
   ]
  },
  {
   "cell_type": "code",
   "execution_count": 3,
   "id": "1ef48201-5280-43b2-b4d4-5844c629771b",
   "metadata": {
    "execution": {
     "iopub.execute_input": "2025-10-20T08:37:20.340181Z",
     "iopub.status.busy": "2025-10-20T08:37:20.339852Z",
     "iopub.status.idle": "2025-10-20T08:37:20.362627Z",
     "shell.execute_reply": "2025-10-20T08:37:20.362038Z",
     "shell.execute_reply.started": "2025-10-20T08:37:20.340162Z"
    },
    "tags": []
   },
   "outputs": [],
   "source": [
    "surveys_df = pd.read_csv(PATH, sep=\"\\t\")"
   ]
  },
  {
   "cell_type": "code",
   "execution_count": 4,
   "id": "d5ca018a-d1b7-4c01-8f73-b30031608982",
   "metadata": {
    "execution": {
     "iopub.execute_input": "2025-10-20T08:37:20.364362Z",
     "iopub.status.busy": "2025-10-20T08:37:20.363777Z",
     "iopub.status.idle": "2025-10-20T08:37:20.366780Z",
     "shell.execute_reply": "2025-10-20T08:37:20.366341Z",
     "shell.execute_reply.started": "2025-10-20T08:37:20.364331Z"
    },
    "tags": []
   },
   "outputs": [],
   "source": [
    "data_dir = 'livia_data'"
   ]
  },
  {
   "cell_type": "code",
   "execution_count": 5,
   "id": "d86cdfc7-8f34-4783-8ab8-4bd96199cb8e",
   "metadata": {
    "collapsed": true,
    "execution": {
     "iopub.execute_input": "2025-10-20T08:37:20.368184Z",
     "iopub.status.busy": "2025-10-20T08:37:20.367436Z",
     "iopub.status.idle": "2025-10-20T08:37:22.239568Z",
     "shell.execute_reply": "2025-10-20T08:37:22.236980Z",
     "shell.execute_reply.started": "2025-10-20T08:37:20.368161Z"
    },
    "jupyter": {
     "outputs_hidden": true
    },
    "tags": []
   },
   "outputs": [
    {
     "name": "stdout",
     "output_type": "stream",
     "text": [
      "\u001b[32mUUID\u001b[0m:        3638611d-1767-413b-9390-70ee3d78e4ff\n",
      "\u001b[32mType\u001b[0m:        SampleData[SequencesWithQuality]\n",
      "\u001b[32mData format\u001b[0m: SingleLanePerSampleSingleEndFastqDirFmt\n"
     ]
    }
   ],
   "source": [
    "!qiime tools peek $data_dir/fungut_forward_reads.qza\n"
   ]
  },
  {
   "cell_type": "code",
   "execution_count": 10,
   "id": "68341200-2ac9-4308-a05d-82647e7525bc",
   "metadata": {
    "collapsed": true,
    "execution": {
     "iopub.execute_input": "2025-10-15T07:44:20.204688Z",
     "iopub.status.busy": "2025-10-15T07:44:20.203938Z",
     "iopub.status.idle": "2025-10-15T07:45:57.408646Z",
     "shell.execute_reply": "2025-10-15T07:45:57.407778Z",
     "shell.execute_reply.started": "2025-10-15T07:44:20.204654Z"
    },
    "jupyter": {
     "outputs_hidden": true
    },
    "tags": []
   },
   "outputs": [
    {
     "name": "stdout",
     "output_type": "stream",
     "text": [
      "/opt/conda/lib/python3.10/site-packages/unifrac/__init__.py:9: UserWarning: pkg_resources is deprecated as an API. See https://setuptools.pypa.io/en/latest/pkg_resources.html. The pkg_resources package is slated for removal as early as 2025-11-30. Refrain from using this package or pin to Setuptools<81.\n",
      "  import pkg_resources\n",
      "\u001b[32mSaved Visualization to: livia_data/demux_summary.qzv\u001b[0m\n",
      "\u001b[0m\u001b[?25h"
     ]
    }
   ],
   "source": [
    "!qiime demux summarize \\\n",
    "  --i-data $data_dir/fungut_forward_reads.qza \\\n",
    "  --o-visualization $data_dir/demux_summary.qzv"
   ]
  },
  {
   "cell_type": "markdown",
   "id": "fb0e3593-5497-4db2-bb9e-61cc44b7787a",
   "metadata": {},
   "source": [
    "# Denoising"
   ]
  },
  {
   "cell_type": "code",
   "execution_count": 12,
   "id": "9525fc7f-4081-42c8-810a-4eee2d24915e",
   "metadata": {
    "collapsed": true,
    "execution": {
     "iopub.execute_input": "2025-10-15T08:01:17.859564Z",
     "iopub.status.busy": "2025-10-15T08:01:17.859356Z",
     "iopub.status.idle": "2025-10-15T08:15:53.381279Z",
     "shell.execute_reply": "2025-10-15T08:15:53.380221Z",
     "shell.execute_reply.started": "2025-10-15T08:01:17.859544Z"
    },
    "jupyter": {
     "outputs_hidden": true
    },
    "tags": []
   },
   "outputs": [
    {
     "name": "stdout",
     "output_type": "stream",
     "text": [
      "/opt/conda/lib/python3.10/site-packages/unifrac/__init__.py:9: UserWarning: pkg_resources is deprecated as an API. See https://setuptools.pypa.io/en/latest/pkg_resources.html. The pkg_resources package is slated for removal as early as 2025-11-30. Refrain from using this package or pin to Setuptools<81.\n",
      "  import pkg_resources\n",
      "\u001b[32mSaved FeatureTable[Frequency] to: livia_data/table.qza\u001b[0m\n",
      "\u001b[32mSaved FeatureData[Sequence] to: livia_data/rep_seqs.qza\u001b[0m\n",
      "\u001b[32mSaved SampleData[DADA2Stats] to: livia_data/stats.qza\u001b[0m\n",
      "\u001b[0m\u001b[?25h"
     ]
    }
   ],
   "source": [
    "!qiime dada2 denoise-single \\\n",
    "   --i-demultiplexed-seqs $data_dir/fungut_forward_reads.qza \\\n",
    "   --p-trim-left 0 \\\n",
    "   --p-trunc-len 0 \\\n",
    "   --p-min-fold-parent-over-abundance 4 \\\n",
    "   --p-max-ee 4 \\\n",
    "    --o-representative-sequences $data_dir/rep_seqs.qza \\\n",
    "    --o-table $data_dir/table.qza \\\n",
    "    --o-denoising-stats $data_dir/stats.qza"
   ]
  },
  {
   "cell_type": "code",
   "execution_count": 13,
   "id": "e4eda527-4719-4531-a93a-7bc7d628dd33",
   "metadata": {
    "collapsed": true,
    "execution": {
     "iopub.execute_input": "2025-10-15T08:17:22.868231Z",
     "iopub.status.busy": "2025-10-15T08:17:22.866987Z",
     "iopub.status.idle": "2025-10-15T08:17:54.381360Z",
     "shell.execute_reply": "2025-10-15T08:17:54.380660Z",
     "shell.execute_reply.started": "2025-10-15T08:17:22.868184Z"
    },
    "jupyter": {
     "outputs_hidden": true
    },
    "tags": []
   },
   "outputs": [
    {
     "name": "stdout",
     "output_type": "stream",
     "text": [
      "/opt/conda/lib/python3.10/site-packages/unifrac/__init__.py:9: UserWarning: pkg_resources is deprecated as an API. See https://setuptools.pypa.io/en/latest/pkg_resources.html. The pkg_resources package is slated for removal as early as 2025-11-30. Refrain from using this package or pin to Setuptools<81.\n",
      "  import pkg_resources\n",
      "\u001b[32mSaved Visualization to: livia_data/table_summary.qzv\u001b[0m\n",
      "\u001b[0m\u001b[?25h"
     ]
    }
   ],
   "source": [
    "!qiime feature-table summarize \\\n",
    "  --i-table $data_dir/table.qza \\\n",
    "  --o-visualization $data_dir/table_summary.qzv \\\n",
    "--m-sample-metadata-file $data_dir/fungut_metadata.tsv"
   ]
  },
  {
   "cell_type": "code",
   "execution_count": 14,
   "id": "438bdd01-689a-4c83-a103-242e0d7bba9e",
   "metadata": {
    "collapsed": true,
    "execution": {
     "iopub.execute_input": "2025-10-15T08:18:20.985160Z",
     "iopub.status.busy": "2025-10-15T08:18:20.984766Z",
     "iopub.status.idle": "2025-10-15T08:18:52.340868Z",
     "shell.execute_reply": "2025-10-15T08:18:52.339947Z",
     "shell.execute_reply.started": "2025-10-15T08:18:20.985131Z"
    },
    "jupyter": {
     "outputs_hidden": true
    },
    "tags": []
   },
   "outputs": [
    {
     "name": "stdout",
     "output_type": "stream",
     "text": [
      "/opt/conda/lib/python3.10/site-packages/unifrac/__init__.py:9: UserWarning: pkg_resources is deprecated as an API. See https://setuptools.pypa.io/en/latest/pkg_resources.html. The pkg_resources package is slated for removal as early as 2025-11-30. Refrain from using this package or pin to Setuptools<81.\n",
      "  import pkg_resources\n",
      "\u001b[32mSaved Visualization to: livia_data/rep_seqs.qzv\u001b[0m\n",
      "\u001b[0m\u001b[?25h"
     ]
    }
   ],
   "source": [
    "! qiime feature-table tabulate-seqs \\\n",
    "  --i-data $data_dir/rep_seqs.qza \\\n",
    "  --o-visualization $data_dir/rep_seqs.qzv"
   ]
  },
  {
   "cell_type": "code",
   "execution_count": 6,
   "id": "b23ef5c2-3751-4f34-8510-dac6a6f71f02",
   "metadata": {
    "collapsed": true,
    "execution": {
     "iopub.execute_input": "2025-10-20T08:37:26.027895Z",
     "iopub.status.busy": "2025-10-20T08:37:26.027417Z",
     "iopub.status.idle": "2025-10-20T08:37:26.091787Z",
     "shell.execute_reply": "2025-10-20T08:37:26.091171Z",
     "shell.execute_reply.started": "2025-10-20T08:37:26.027848Z"
    },
    "jupyter": {
     "outputs_hidden": true
    },
    "tags": []
   },
   "outputs": [
    {
     "data": {
      "text/html": [
       "<div><img onload=\"(function(div, url){\n",
       "if (typeof require !== 'undefined') {\n",
       "    var baseURL = require.toUrl('').split('/').slice(0, -2).join('/');\n",
       "} else {\n",
       "    var baseURL = JSON.parse(\n",
       "        document.getElementById('jupyter-config-data').innerHTML\n",
       "    ).baseUrl.slice(0, -1);\n",
       "}\n",
       "url = baseURL + url;\n",
       "fetch(url).then(function(res) {\n",
       "    if (res.status === 404) {\n",
       "        div.innerHTML = 'Install QIIME 2 Jupyter extension with:<br />' +\n",
       "                        '<code>jupyter server extension enable --py qiime2' +\n",
       "                        ' --sys-prefix</code><br />then restart your server.' +\n",
       "                        '<br /><br />(Interactive output not available on ' +\n",
       "                        'static notebook viewer services like nbviewer.)';\n",
       "    } else if (res.status === 409) {\n",
       "        div.innerHTML = 'Visualization no longer in scope. Re-run this cell' +\n",
       "                        ' to see the visualization.';\n",
       "    } else if (res.ok) {\n",
       "        url = res.url;\n",
       "        div.innerHTML = '<iframe src=\\'' + url + '\\' style=\\'' +\n",
       "                        'width: 100%; height: 700px; border: 0;\\'>' +\n",
       "                        '</iframe><hr />Open in a: <a href=\\'' + url + '\\'' +\n",
       "                        ' target=\\'_blank\\'>new window</a>'\n",
       "    } else {\n",
       "        div.innerHTML = 'Something has gone wrong. Check notebook server for' +\n",
       "                        ' errors.';\n",
       "    }\n",
       "});\n",
       "})(this.parentElement, '/qiime2/redirect?location=/tmp/qiime2/jovyan/data/a5a348e8-bc44-4076-96e2-00a801352821')\" src=\"data:image/gif;base64,R0lGODlhAQABAIAAAP///wAAACH5BAEAAAAALAAAAAABAAEAAAICRAEAOw==\" /></div>"
      ],
      "text/plain": [
       "<visualization: Visualization uuid: a5a348e8-bc44-4076-96e2-00a801352821>"
      ]
     },
     "execution_count": 6,
     "metadata": {},
     "output_type": "execute_result"
    }
   ],
   "source": [
    "Visualization.load(f\"{data_dir}/rep_seqs.qzv\")"
   ]
  },
  {
   "cell_type": "markdown",
   "id": "5d289b11-0954-44be-a6db-a4dc31aa9519",
   "metadata": {
    "execution": {
     "iopub.execute_input": "2025-10-20T08:41:08.675652Z",
     "iopub.status.busy": "2025-10-20T08:41:08.675308Z",
     "iopub.status.idle": "2025-10-20T08:41:08.679068Z",
     "shell.execute_reply": "2025-10-20T08:41:08.678299Z",
     "shell.execute_reply.started": "2025-10-20T08:41:08.675627Z"
    }
   },
   "source": [
    "# Taxonomy"
   ]
  },
  {
   "cell_type": "code",
   "execution_count": null,
   "id": "a02c1cf6-85f5-4812-9c83-c02590fc4a11",
   "metadata": {},
   "outputs": [],
   "source": [
    "qiime rescript filter-seqs-length-by-taxon \\\n",
    "  --i-sequences $data_dir/its-refseqs-unfiltered.qza \\\n",
    "  --i-taxonomy $data_dir/its-taxonomy-unfiltered.qza \\\n",
    "  --p-labels Fungi \\\n",
    "  --p-min-lens 150 \\\n",
    "  --o-filtered-seqs $data_dir/its-refseqs-filtered.qza \\\n",
    "  --o-discarded-seqs $data_dir/its-refseqs-discarded.qza"
   ]
  }
 ],
 "metadata": {
  "kernelspec": {
   "display_name": "QIIME 2",
   "language": "python",
   "name": "python3"
  },
  "language_info": {
   "codemirror_mode": {
    "name": "ipython",
    "version": 3
   },
   "file_extension": ".py",
   "mimetype": "text/x-python",
   "name": "python",
   "nbconvert_exporter": "python",
   "pygments_lexer": "ipython3",
   "version": "3.10.14"
  }
 },
 "nbformat": 4,
 "nbformat_minor": 5
}
