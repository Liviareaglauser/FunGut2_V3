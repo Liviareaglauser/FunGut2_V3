{
 "cells": [
  {
   "cell_type": "code",
   "execution_count": 2,
   "id": "8be1c88c-b49a-4e31-a8f1-2615f9e08841",
   "metadata": {
    "execution": {
     "iopub.execute_input": "2025-10-09T07:39:43.041721Z",
     "iopub.status.busy": "2025-10-09T07:39:43.040073Z",
     "iopub.status.idle": "2025-10-09T07:39:43.049504Z",
     "shell.execute_reply": "2025-10-09T07:39:43.048024Z",
     "shell.execute_reply.started": "2025-10-09T07:39:43.041656Z"
    },
    "tags": []
   },
   "outputs": [],
   "source": [
    "import IPython\n",
    "\n",
    "import pandas as pd\n",
    "import matplotlib.pyplot as plt\n",
    "import qiime2 as q2\n",
    "import seaborn as sns\n",
    "\n",
    "import os\n",
    "\n",
    "import matplotlib.pyplot as plt\n",
    "%matplotlib inline"
   ]
  },
  {
   "cell_type": "code",
   "execution_count": 3,
   "id": "59bdf43e-affd-4db3-92be-d2fd422f6d04",
   "metadata": {
    "execution": {
     "iopub.execute_input": "2025-10-09T07:39:43.833719Z",
     "iopub.status.busy": "2025-10-09T07:39:43.833076Z",
     "iopub.status.idle": "2025-10-09T07:39:43.840047Z",
     "shell.execute_reply": "2025-10-09T07:39:43.838681Z",
     "shell.execute_reply.started": "2025-10-09T07:39:43.833664Z"
    },
    "tags": []
   },
   "outputs": [],
   "source": [
    "PATH = \"livia_data_raw/fungut_metadata.tsv\""
   ]
  },
  {
   "cell_type": "code",
   "execution_count": 4,
   "id": "1ef48201-5280-43b2-b4d4-5844c629771b",
   "metadata": {
    "execution": {
     "iopub.execute_input": "2025-10-09T07:39:44.567163Z",
     "iopub.status.busy": "2025-10-09T07:39:44.565852Z",
     "iopub.status.idle": "2025-10-09T07:39:44.575850Z",
     "shell.execute_reply": "2025-10-09T07:39:44.574963Z",
     "shell.execute_reply.started": "2025-10-09T07:39:44.567104Z"
    },
    "tags": []
   },
   "outputs": [],
   "source": [
    "surveys_df = pd.read_csv(PATH, sep=\"\\t\")"
   ]
  },
  {
   "cell_type": "code",
   "execution_count": 5,
   "id": "d86cdfc7-8f34-4783-8ab8-4bd96199cb8e",
   "metadata": {
    "execution": {
     "iopub.execute_input": "2025-10-09T07:39:45.971215Z",
     "iopub.status.busy": "2025-10-09T07:39:45.970535Z",
     "iopub.status.idle": "2025-10-09T07:39:47.682695Z",
     "shell.execute_reply": "2025-10-09T07:39:47.680525Z",
     "shell.execute_reply.started": "2025-10-09T07:39:45.971165Z"
    },
    "tags": []
   },
   "outputs": [
    {
     "name": "stdout",
     "output_type": "stream",
     "text": [
      "\u001b[32mUUID\u001b[0m:        3638611d-1767-413b-9390-70ee3d78e4ff\n",
      "\u001b[32mType\u001b[0m:        SampleData[SequencesWithQuality]\n",
      "\u001b[32mData format\u001b[0m: SingleLanePerSampleSingleEndFastqDirFmt\n"
     ]
    }
   ],
   "source": [
    "!qiime tools peek livia_data_raw/fungut_forward_reads.qza\n"
   ]
  },
  {
   "cell_type": "code",
   "execution_count": 6,
   "id": "68341200-2ac9-4308-a05d-82647e7525bc",
   "metadata": {
    "execution": {
     "iopub.execute_input": "2025-10-09T07:39:48.586694Z",
     "iopub.status.busy": "2025-10-09T07:39:48.586216Z",
     "iopub.status.idle": "2025-10-09T07:41:21.315692Z",
     "shell.execute_reply": "2025-10-09T07:41:21.314885Z",
     "shell.execute_reply.started": "2025-10-09T07:39:48.586648Z"
    },
    "tags": []
   },
   "outputs": [
    {
     "name": "stdout",
     "output_type": "stream",
     "text": [
      "/opt/conda/lib/python3.10/site-packages/unifrac/__init__.py:9: UserWarning: pkg_resources is deprecated as an API. See https://setuptools.pypa.io/en/latest/pkg_resources.html. The pkg_resources package is slated for removal as early as 2025-11-30. Refrain from using this package or pin to Setuptools<81.\n",
      "  import pkg_resources\n",
      "\u001b[32mSaved Visualization to: livia_data_create/demux_summary.qzv\u001b[0m\n",
      "\u001b[0m\u001b[?25h"
     ]
    }
   ],
   "source": [
    "!qiime demux summarize \\\n",
    "  --i-data livia_data_raw/fungut_forward_reads.qza \\\n",
    "  --o-visualization livia_data_create/demux_summary.qzv"
   ]
  },
  {
   "cell_type": "code",
   "execution_count": null,
   "id": "9525fc7f-4081-42c8-810a-4eee2d24915e",
   "metadata": {
    "execution": {
     "iopub.execute_input": "2025-10-09T07:41:23.586286Z",
     "iopub.status.busy": "2025-10-09T07:41:23.585593Z"
    },
    "tags": []
   },
   "outputs": [
    {
     "name": "stdout",
     "output_type": "stream",
     "text": [
      "/opt/conda/lib/python3.10/site-packages/unifrac/__init__.py:9: UserWarning: pkg_resources is deprecated as an API. See https://setuptools.pypa.io/en/latest/pkg_resources.html. The pkg_resources package is slated for removal as early as 2025-11-30. Refrain from using this package or pin to Setuptools<81.\n",
      "  import pkg_resources\n"
     ]
    }
   ],
   "source": [
    "!qiime dada2 denoise-single \\\n",
    "   --i-demultiplexed-seqs livia_data_raw/fungut_forward_reads.qza \\\n",
    "   --p-trim-left 0 \\\n",
    "   --p-trunc-len 140 \\\n",
    "   --p-min-fold-parent-over-abundance 4 \\\n",
    "   --p-max-ee 4 \\\n",
    "    --o-representative-sequences livia_data_create/rep_seqs.qza \\\n",
    "    --o-table livia_data_create/table.qza \\\n",
    "    --o-denoising-stats livia_data_create/stats.qza"
   ]
  },
  {
   "cell_type": "code",
   "execution_count": null,
   "id": "e4eda527-4719-4531-a93a-7bc7d628dd33",
   "metadata": {},
   "outputs": [],
   "source": [
    "!qiime feature-table summarize \\\n",
    "  --i-table livia_data_create/table.qza \\\n",
    "  --o-visualization livia_data_create/table_summary.qzv \\\n",
    "--m-sample-metadata-file livia_data_raw/fungut_metadata.tsv"
   ]
  }
 ],
 "metadata": {
  "kernelspec": {
   "display_name": "QIIME 2",
   "language": "python",
   "name": "python3"
  },
  "language_info": {
   "codemirror_mode": {
    "name": "ipython",
    "version": 3
   },
   "file_extension": ".py",
   "mimetype": "text/x-python",
   "name": "python",
   "nbconvert_exporter": "python",
   "pygments_lexer": "ipython3",
   "version": "3.10.14"
  }
 },
 "nbformat": 4,
 "nbformat_minor": 5
}
