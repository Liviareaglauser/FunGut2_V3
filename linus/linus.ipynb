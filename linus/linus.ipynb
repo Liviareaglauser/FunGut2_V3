{
 "cells": [
  {
   "cell_type": "code",
   "execution_count": null,
   "id": "664da90e-14fc-4fa1-8c86-e51043e92b68",
   "metadata": {},
   "outputs": [],
   "source": [
    "test"
   ]
  },
  {
   "cell_type": "code",
   "execution_count": null,
   "id": "4162e772-912e-4c17-9a3f-5e317811cf05",
   "metadata": {},
   "outputs": [],
   "source": [
    "i gsehs"
   ]
  }
 ],
 "metadata": {
  "kernelspec": {
   "display_name": "QIIME 2",
   "language": "python",
   "name": "python3"
  },
  "language_info": {
   "codemirror_mode": {
    "name": "ipython",
    "version": 3
   },
   "file_extension": ".py",
   "mimetype": "text/x-python",
   "name": "python",
   "nbconvert_exporter": "python",
   "pygments_lexer": "ipython3",
   "version": "3.10.14"
  }
 },
 "nbformat": 4,
 "nbformat_minor": 5
}
