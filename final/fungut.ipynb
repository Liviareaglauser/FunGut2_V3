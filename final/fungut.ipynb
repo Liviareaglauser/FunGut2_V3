{
 "cells": [
  {
   "cell_type": "markdown",
   "id": "b5faf083-ac8b-47db-8ad8-763dcb6b7bcd",
   "metadata": {
    "tags": []
   },
   "source": [
    "# Fungut"
   ]
  },
  {
   "cell_type": "markdown",
   "id": "19941a9b-a21b-4edb-aab3-311eca5dabb5",
   "metadata": {},
   "source": [
    "# 00 Packages and Directory"
   ]
  },
  {
   "cell_type": "code",
   "execution_count": 1,
   "id": "56a5745e-add5-4f1e-907d-c95b249b4e45",
   "metadata": {
    "tags": []
   },
   "outputs": [],
   "source": [
    "import IPython\n",
    "\n",
    "import pandas as pd\n",
    "import matplotlib.pyplot as plt\n",
    "import qiime2 as q2\n",
    "import seaborn as sns\n",
    "from qiime2 import Visualization\n",
    "\n",
    "\n",
    "import os\n",
    "\n",
    "import matplotlib.pyplot as plt\n",
    "%matplotlib inline"
   ]
  },
  {
   "cell_type": "markdown",
   "id": "38445ca3-9c18-4c47-8252-26fe43e9cd6c",
   "metadata": {},
   "source": [
    "# 01 Data import"
   ]
  },
  {
   "cell_type": "code",
   "execution_count": 2,
   "id": "60a3b4c3-e780-4bcd-99b6-c2fd567c6991",
   "metadata": {
    "tags": []
   },
   "outputs": [],
   "source": [
    "PATH = \"fungut_data/fungut_metadata.tsv\""
   ]
  },
  {
   "cell_type": "code",
   "execution_count": 5,
   "id": "17f73795-faa9-49e8-b9a2-b090076c3597",
   "metadata": {
    "tags": []
   },
   "outputs": [],
   "source": [
    "surveys_df = pd.read_csv(PATH, sep=\"\\t\")"
   ]
  },
  {
   "cell_type": "code",
   "execution_count": 6,
   "id": "6e2442fb-c4e4-4ec8-a1c1-77b61928357a",
   "metadata": {
    "tags": []
   },
   "outputs": [],
   "source": [
    "data_dir = 'fungut_data'"
   ]
  },
  {
   "cell_type": "code",
   "execution_count": 7,
   "id": "c9a1920e-4c65-4299-b7cd-d5e2b2a2faf1",
   "metadata": {
    "tags": []
   },
   "outputs": [
    {
     "name": "stdout",
     "output_type": "stream",
     "text": [
      "\u001b[32mUUID\u001b[0m:        3638611d-1767-413b-9390-70ee3d78e4ff\n",
      "\u001b[32mType\u001b[0m:        SampleData[SequencesWithQuality]\n",
      "\u001b[32mData format\u001b[0m: SingleLanePerSampleSingleEndFastqDirFmt\n"
     ]
    }
   ],
   "source": [
    "!qiime tools peek $data_dir/fungut_forward_reads.qza"
   ]
  },
  {
   "cell_type": "code",
   "execution_count": 8,
   "id": "a279d38a-b3ee-4e2b-a12d-6b2153ddeb36",
   "metadata": {
    "tags": []
   },
   "outputs": [
    {
     "name": "stdout",
     "output_type": "stream",
     "text": [
      "/opt/conda/lib/python3.10/site-packages/unifrac/__init__.py:9: UserWarning: pkg_resources is deprecated as an API. See https://setuptools.pypa.io/en/latest/pkg_resources.html. The pkg_resources package is slated for removal as early as 2025-11-30. Refrain from using this package or pin to Setuptools<81.\n",
      "  import pkg_resources\n",
      "\u001b[32mSaved Visualization to: fungut_data/demux_summary.qzv\u001b[0m\n",
      "\u001b[0m\u001b[?25h"
     ]
    }
   ],
   "source": [
    "!qiime demux summarize \\\n",
    "  --i-data $data_dir/fungut_forward_reads.qza \\\n",
    "  --o-visualization $data_dir/demux_summary.qzv"
   ]
  },
  {
   "cell_type": "code",
   "execution_count": 9,
   "id": "c86a0e8d-b04c-4679-97ad-9c72eaf093e3",
   "metadata": {
    "collapsed": true,
    "jupyter": {
     "outputs_hidden": true
    },
    "tags": []
   },
   "outputs": [
    {
     "data": {
      "text/html": [
       "<div><img onload=\"(function(div, url){\n",
       "if (typeof require !== 'undefined') {\n",
       "    var baseURL = require.toUrl('').split('/').slice(0, -2).join('/');\n",
       "} else {\n",
       "    var baseURL = JSON.parse(\n",
       "        document.getElementById('jupyter-config-data').innerHTML\n",
       "    ).baseUrl.slice(0, -1);\n",
       "}\n",
       "url = baseURL + url;\n",
       "fetch(url).then(function(res) {\n",
       "    if (res.status === 404) {\n",
       "        div.innerHTML = 'Install QIIME 2 Jupyter extension with:<br />' +\n",
       "                        '<code>jupyter server extension enable --py qiime2' +\n",
       "                        ' --sys-prefix</code><br />then restart your server.' +\n",
       "                        '<br /><br />(Interactive output not available on ' +\n",
       "                        'static notebook viewer services like nbviewer.)';\n",
       "    } else if (res.status === 409) {\n",
       "        div.innerHTML = 'Visualization no longer in scope. Re-run this cell' +\n",
       "                        ' to see the visualization.';\n",
       "    } else if (res.ok) {\n",
       "        url = res.url;\n",
       "        div.innerHTML = '<iframe src=\\'' + url + '\\' style=\\'' +\n",
       "                        'width: 100%; height: 700px; border: 0;\\'>' +\n",
       "                        '</iframe><hr />Open in a: <a href=\\'' + url + '\\'' +\n",
       "                        ' target=\\'_blank\\'>new window</a>'\n",
       "    } else {\n",
       "        div.innerHTML = 'Something has gone wrong. Check notebook server for' +\n",
       "                        ' errors.';\n",
       "    }\n",
       "});\n",
       "})(this.parentElement, '/qiime2/redirect?location=/tmp/qiime2/jovyan/data/f14c242f-4d16-44a9-b651-4b64f42c1d40')\" src=\"data:image/gif;base64,R0lGODlhAQABAIAAAP///wAAACH5BAEAAAAALAAAAAABAAEAAAICRAEAOw==\" /></div>"
      ],
      "text/plain": [
       "<visualization: Visualization uuid: f14c242f-4d16-44a9-b651-4b64f42c1d40>"
      ]
     },
     "execution_count": 9,
     "metadata": {},
     "output_type": "execute_result"
    }
   ],
   "source": [
    "Visualization.load(f\"{data_dir}/demux_summary.qzv\")"
   ]
  },
  {
   "cell_type": "markdown",
   "id": "1b853438-416a-4d66-a2ac-80eabfc1f842",
   "metadata": {},
   "source": [
    "# 02 Denoising"
   ]
  },
  {
   "cell_type": "markdown",
   "id": "a8031c55-a0e2-4acf-a2e8-5f265cf3269d",
   "metadata": {},
   "source": [
    "### 1. Denoising Versuch mit trim left 0 und trunc len 0"
   ]
  },
  {
   "cell_type": "code",
   "execution_count": 11,
   "id": "8cf3d1e5-2571-47fe-8f03-bdd9ea990c87",
   "metadata": {
    "tags": []
   },
   "outputs": [
    {
     "name": "stdout",
     "output_type": "stream",
     "text": [
      "/opt/conda/lib/python3.10/site-packages/unifrac/__init__.py:9: UserWarning: pkg_resources is deprecated as an API. See https://setuptools.pypa.io/en/latest/pkg_resources.html. The pkg_resources package is slated for removal as early as 2025-11-30. Refrain from using this package or pin to Setuptools<81.\n",
      "  import pkg_resources\n",
      "\u001b[32mSaved FeatureTable[Frequency] to: fungut_data/dada2_table_1.qza\u001b[0m\n",
      "\u001b[32mSaved FeatureData[Sequence] to: fungut_data/dada2_rep_seqs_1.qza\u001b[0m\n",
      "\u001b[32mSaved SampleData[DADA2Stats] to: fungut_data/dada2_stats_1.qza\u001b[0m\n",
      "\u001b[0m\u001b[?25h"
     ]
    }
   ],
   "source": [
    "!qiime dada2 denoise-single \\\n",
    "   --i-demultiplexed-seqs $data_dir/fungut_forward_reads.qza \\\n",
    "   --p-trim-left 0 \\\n",
    "   --p-trunc-len 0 \\\n",
    "   --p-min-fold-parent-over-abundance 4 \\\n",
    "   --p-max-ee 4 \\\n",
    "    --o-representative-sequences $data_dir/dada2_rep_seqs_1.qza \\\n",
    "    --o-table $data_dir/dada2_table_1.qza \\\n",
    "    --o-denoising-stats $data_dir/dada2_stats_1.qza"
   ]
  },
  {
   "cell_type": "code",
   "execution_count": 12,
   "id": "9038f08b-5d53-4c61-873f-af915c5c8a5e",
   "metadata": {
    "tags": []
   },
   "outputs": [
    {
     "name": "stdout",
     "output_type": "stream",
     "text": [
      "/opt/conda/lib/python3.10/site-packages/unifrac/__init__.py:9: UserWarning: pkg_resources is deprecated as an API. See https://setuptools.pypa.io/en/latest/pkg_resources.html. The pkg_resources package is slated for removal as early as 2025-11-30. Refrain from using this package or pin to Setuptools<81.\n",
      "  import pkg_resources\n",
      "\u001b[32mSaved Visualization to: fungut_data/dada2_stats_1.qzv\u001b[0m\n",
      "\u001b[0m\u001b[?25h"
     ]
    }
   ],
   "source": [
    "! qiime metadata tabulate \\\n",
    "    --m-input-file $data_dir/dada2_stats_1.qza \\\n",
    "    --o-visualization $data_dir/dada2_stats_1.qzv"
   ]
  },
  {
   "cell_type": "code",
   "execution_count": 13,
   "id": "c4520275-69d3-475d-a71a-f118e3b3df40",
   "metadata": {
    "tags": []
   },
   "outputs": [
    {
     "data": {
      "text/html": [
       "<div><img onload=\"(function(div, url){\n",
       "if (typeof require !== 'undefined') {\n",
       "    var baseURL = require.toUrl('').split('/').slice(0, -2).join('/');\n",
       "} else {\n",
       "    var baseURL = JSON.parse(\n",
       "        document.getElementById('jupyter-config-data').innerHTML\n",
       "    ).baseUrl.slice(0, -1);\n",
       "}\n",
       "url = baseURL + url;\n",
       "fetch(url).then(function(res) {\n",
       "    if (res.status === 404) {\n",
       "        div.innerHTML = 'Install QIIME 2 Jupyter extension with:<br />' +\n",
       "                        '<code>jupyter server extension enable --py qiime2' +\n",
       "                        ' --sys-prefix</code><br />then restart your server.' +\n",
       "                        '<br /><br />(Interactive output not available on ' +\n",
       "                        'static notebook viewer services like nbviewer.)';\n",
       "    } else if (res.status === 409) {\n",
       "        div.innerHTML = 'Visualization no longer in scope. Re-run this cell' +\n",
       "                        ' to see the visualization.';\n",
       "    } else if (res.ok) {\n",
       "        url = res.url;\n",
       "        div.innerHTML = '<iframe src=\\'' + url + '\\' style=\\'' +\n",
       "                        'width: 100%; height: 700px; border: 0;\\'>' +\n",
       "                        '</iframe><hr />Open in a: <a href=\\'' + url + '\\'' +\n",
       "                        ' target=\\'_blank\\'>new window</a>'\n",
       "    } else {\n",
       "        div.innerHTML = 'Something has gone wrong. Check notebook server for' +\n",
       "                        ' errors.';\n",
       "    }\n",
       "});\n",
       "})(this.parentElement, '/qiime2/redirect?location=/tmp/qiime2/jovyan/data/9089797b-56d2-4839-80de-ade4e6d423d5')\" src=\"data:image/gif;base64,R0lGODlhAQABAIAAAP///wAAACH5BAEAAAAALAAAAAABAAEAAAICRAEAOw==\" /></div>"
      ],
      "text/plain": [
       "<visualization: Visualization uuid: 9089797b-56d2-4839-80de-ade4e6d423d5>"
      ]
     },
     "execution_count": 13,
     "metadata": {},
     "output_type": "execute_result"
    }
   ],
   "source": [
    "Visualization.load(f\"{data_dir}/dada2_stats_1.qzv\")"
   ]
  },
  {
   "cell_type": "code",
   "execution_count": 14,
   "id": "dbfa724b-0056-4f82-bb65-4550c0f6fba8",
   "metadata": {
    "tags": []
   },
   "outputs": [
    {
     "name": "stdout",
     "output_type": "stream",
     "text": [
      "/opt/conda/lib/python3.10/site-packages/unifrac/__init__.py:9: UserWarning: pkg_resources is deprecated as an API. See https://setuptools.pypa.io/en/latest/pkg_resources.html. The pkg_resources package is slated for removal as early as 2025-11-30. Refrain from using this package or pin to Setuptools<81.\n",
      "  import pkg_resources\n",
      "\u001b[32mSaved Visualization to: fungut_data/dada2_rep_seqs_1.qzv\u001b[0m\n",
      "\u001b[0m\u001b[?25h"
     ]
    }
   ],
   "source": [
    "! qiime feature-table tabulate-seqs \\\n",
    "    --i-data $data_dir/dada2_rep_seqs_1.qza \\\n",
    "    --o-visualization $data_dir/dada2_rep_seqs_1.qzv"
   ]
  },
  {
   "cell_type": "code",
   "execution_count": 15,
   "id": "dc609b42-1349-4f40-9782-6cf646556e34",
   "metadata": {
    "tags": []
   },
   "outputs": [
    {
     "data": {
      "text/html": [
       "<div><img onload=\"(function(div, url){\n",
       "if (typeof require !== 'undefined') {\n",
       "    var baseURL = require.toUrl('').split('/').slice(0, -2).join('/');\n",
       "} else {\n",
       "    var baseURL = JSON.parse(\n",
       "        document.getElementById('jupyter-config-data').innerHTML\n",
       "    ).baseUrl.slice(0, -1);\n",
       "}\n",
       "url = baseURL + url;\n",
       "fetch(url).then(function(res) {\n",
       "    if (res.status === 404) {\n",
       "        div.innerHTML = 'Install QIIME 2 Jupyter extension with:<br />' +\n",
       "                        '<code>jupyter server extension enable --py qiime2' +\n",
       "                        ' --sys-prefix</code><br />then restart your server.' +\n",
       "                        '<br /><br />(Interactive output not available on ' +\n",
       "                        'static notebook viewer services like nbviewer.)';\n",
       "    } else if (res.status === 409) {\n",
       "        div.innerHTML = 'Visualization no longer in scope. Re-run this cell' +\n",
       "                        ' to see the visualization.';\n",
       "    } else if (res.ok) {\n",
       "        url = res.url;\n",
       "        div.innerHTML = '<iframe src=\\'' + url + '\\' style=\\'' +\n",
       "                        'width: 100%; height: 700px; border: 0;\\'>' +\n",
       "                        '</iframe><hr />Open in a: <a href=\\'' + url + '\\'' +\n",
       "                        ' target=\\'_blank\\'>new window</a>'\n",
       "    } else {\n",
       "        div.innerHTML = 'Something has gone wrong. Check notebook server for' +\n",
       "                        ' errors.';\n",
       "    }\n",
       "});\n",
       "})(this.parentElement, '/qiime2/redirect?location=/tmp/qiime2/jovyan/data/e8071f18-285a-4b5b-98c5-9a5143a51843')\" src=\"data:image/gif;base64,R0lGODlhAQABAIAAAP///wAAACH5BAEAAAAALAAAAAABAAEAAAICRAEAOw==\" /></div>"
      ],
      "text/plain": [
       "<visualization: Visualization uuid: e8071f18-285a-4b5b-98c5-9a5143a51843>"
      ]
     },
     "execution_count": 15,
     "metadata": {},
     "output_type": "execute_result"
    }
   ],
   "source": [
    "Visualization.load(f\"{data_dir}/dada2_rep_seqs_1.qzv\")"
   ]
  },
  {
   "cell_type": "code",
   "execution_count": 16,
   "id": "92090998-28bd-4b0a-9209-4a9f4b1c2074",
   "metadata": {
    "tags": []
   },
   "outputs": [
    {
     "name": "stdout",
     "output_type": "stream",
     "text": [
      "/opt/conda/lib/python3.10/site-packages/unifrac/__init__.py:9: UserWarning: pkg_resources is deprecated as an API. See https://setuptools.pypa.io/en/latest/pkg_resources.html. The pkg_resources package is slated for removal as early as 2025-11-30. Refrain from using this package or pin to Setuptools<81.\n",
      "  import pkg_resources\n",
      "\u001b[32mSaved Visualization to: fungut_data/dada2_table_1.qzv\u001b[0m\n",
      "\u001b[0m\u001b[?25h"
     ]
    }
   ],
   "source": [
    "! qiime feature-table summarize \\\n",
    "    --i-table $data_dir/dada2_table_1.qza \\\n",
    "    --m-sample-metadata-file $data_dir/fungut_metadata.tsv \\\n",
    "    --o-visualization $data_dir/dada2_table_1.qzv"
   ]
  },
  {
   "cell_type": "code",
   "execution_count": 17,
   "id": "bbc6ac7e-5753-44e0-bd31-1d23fc02dc2a",
   "metadata": {
    "tags": []
   },
   "outputs": [
    {
     "data": {
      "text/html": [
       "<div><img onload=\"(function(div, url){\n",
       "if (typeof require !== 'undefined') {\n",
       "    var baseURL = require.toUrl('').split('/').slice(0, -2).join('/');\n",
       "} else {\n",
       "    var baseURL = JSON.parse(\n",
       "        document.getElementById('jupyter-config-data').innerHTML\n",
       "    ).baseUrl.slice(0, -1);\n",
       "}\n",
       "url = baseURL + url;\n",
       "fetch(url).then(function(res) {\n",
       "    if (res.status === 404) {\n",
       "        div.innerHTML = 'Install QIIME 2 Jupyter extension with:<br />' +\n",
       "                        '<code>jupyter server extension enable --py qiime2' +\n",
       "                        ' --sys-prefix</code><br />then restart your server.' +\n",
       "                        '<br /><br />(Interactive output not available on ' +\n",
       "                        'static notebook viewer services like nbviewer.)';\n",
       "    } else if (res.status === 409) {\n",
       "        div.innerHTML = 'Visualization no longer in scope. Re-run this cell' +\n",
       "                        ' to see the visualization.';\n",
       "    } else if (res.ok) {\n",
       "        url = res.url;\n",
       "        div.innerHTML = '<iframe src=\\'' + url + '\\' style=\\'' +\n",
       "                        'width: 100%; height: 700px; border: 0;\\'>' +\n",
       "                        '</iframe><hr />Open in a: <a href=\\'' + url + '\\'' +\n",
       "                        ' target=\\'_blank\\'>new window</a>'\n",
       "    } else {\n",
       "        div.innerHTML = 'Something has gone wrong. Check notebook server for' +\n",
       "                        ' errors.';\n",
       "    }\n",
       "});\n",
       "})(this.parentElement, '/qiime2/redirect?location=/tmp/qiime2/jovyan/data/019f5bf9-11ae-42bc-be76-620732aa8db8')\" src=\"data:image/gif;base64,R0lGODlhAQABAIAAAP///wAAACH5BAEAAAAALAAAAAABAAEAAAICRAEAOw==\" /></div>"
      ],
      "text/plain": [
       "<visualization: Visualization uuid: 019f5bf9-11ae-42bc-be76-620732aa8db8>"
      ]
     },
     "execution_count": 17,
     "metadata": {},
     "output_type": "execute_result"
    }
   ],
   "source": [
    "Visualization.load(f\"{data_dir}/dada2_table_1.qzv\")"
   ]
  },
  {
   "cell_type": "markdown",
   "id": "19b7bbe2-6461-4c19-aee6-83fa7b310d7d",
   "metadata": {},
   "source": []
  },
  {
   "cell_type": "markdown",
   "id": "c4889e58-38db-412c-b2c8-0568373b0e00",
   "metadata": {
    "jp-MarkdownHeadingCollapsed": true,
    "tags": []
   },
   "source": [
    "### 2. Denoising Versuch mit trim left 15 und trunc len 130"
   ]
  },
  {
   "cell_type": "code",
   "execution_count": null,
   "id": "e2f10677-2f1f-4e8b-b35a-659ccda61d26",
   "metadata": {
    "tags": []
   },
   "outputs": [],
   "source": [
    "!qiime dada2 denoise-single \\\n",
    "   --i-demultiplexed-seqs $data_dir/fungut_forward_reads.qza \\\n",
    "   --p-trim-left 15 \\\n",
    "   --p-trunc-len 130 \\\n",
    "   --p-min-fold-parent-over-abundance 4 \\\n",
    "   --p-max-ee 4 \\\n",
    "    --o-representative-sequences $data_dir/dada2_rep_seqs_2.qza \\\n",
    "    --o-table $data_dir/dada2_table_2.qza \\\n",
    "    --o-denoising-stats $data_dir/dada2_stats_2.qza"
   ]
  },
  {
   "cell_type": "code",
   "execution_count": null,
   "id": "cd199b20-b564-4936-be41-d22307c6c779",
   "metadata": {
    "tags": []
   },
   "outputs": [],
   "source": [
    "! qiime metadata tabulate \\\n",
    "    --m-input-file $data_dir/dada2_stats_2.qza \\\n",
    "    --o-visualization $data_dir/dada2_stats_2.qzv"
   ]
  },
  {
   "cell_type": "code",
   "execution_count": null,
   "id": "bfdce52c-2692-4c70-90d3-f68e06a1b223",
   "metadata": {
    "tags": []
   },
   "outputs": [],
   "source": [
    "Visualization.load(f\"{data_dir}/dada2_stats_2.qzv\")"
   ]
  },
  {
   "cell_type": "code",
   "execution_count": null,
   "id": "7c013a3e-03da-4655-a288-3cae5d8e1b81",
   "metadata": {
    "tags": []
   },
   "outputs": [],
   "source": [
    "! qiime feature-table tabulate-seqs \\\n",
    "    --i-data $data_dir/dada2_rep_seqs_2.qza \\\n",
    "    --o-visualization $data_dir/dada2_rep_seqs_2.qzv"
   ]
  },
  {
   "cell_type": "code",
   "execution_count": null,
   "id": "b3d4373f-323c-40c2-9908-d8d5333c75fd",
   "metadata": {
    "tags": []
   },
   "outputs": [],
   "source": [
    "Visualization.load(f\"{data_dir}/dada2_rep_seqs_2.qzv\")"
   ]
  },
  {
   "cell_type": "code",
   "execution_count": null,
   "id": "fa47ca28-ad12-410f-ad26-cd8c11664187",
   "metadata": {
    "tags": []
   },
   "outputs": [],
   "source": [
    "! qiime feature-table summarize \\\n",
    "    --i-table $data_dir/dada2_table_2.qza \\\n",
    "    --m-sample-metadata-file $data_dir/fungut_metadata.tsv \\\n",
    "    --o-visualization $data_dir/dada2_table_2.qzv"
   ]
  },
  {
   "cell_type": "code",
   "execution_count": null,
   "id": "f7364e1b-8c83-4e1c-bb6b-669a08714c0a",
   "metadata": {
    "tags": []
   },
   "outputs": [],
   "source": [
    "Visualization.load(f\"{data_dir}/dada2_table_2.qzv\")"
   ]
  },
  {
   "cell_type": "markdown",
   "id": "d0983d8b-afd1-4921-9d19-592e85c8b158",
   "metadata": {},
   "source": [
    "Comparing denoised data 1&2:\n",
    "ITS sequences are more variable in length than 16S data. There is the risk of cutting the truncation length too short and loose valid ITS reads. Regarding that the the original data was good overall (everywhere over 30), it is better to keep all sequences. With this conclusion, it is decided to continue further steps with the data optained by run 1."
   ]
  },
  {
   "cell_type": "code",
   "execution_count": null,
   "id": "f28b9d60-3e83-43e4-9406-200cc3d36cfe",
   "metadata": {
    "tags": []
   },
   "outputs": [],
   "source": [
    "! qiime feature-classifier classify-sklearn ?\n"
   ]
  },
  {
   "cell_type": "markdown",
   "id": "82b02b51-f332-412a-9aa8-fd6173257d9e",
   "metadata": {
    "execution": {
     "iopub.execute_input": "2025-10-15T09:32:46.029016Z",
     "iopub.status.busy": "2025-10-15T09:32:46.028062Z",
     "iopub.status.idle": "2025-10-15T09:32:46.032468Z",
     "shell.execute_reply": "2025-10-15T09:32:46.031780Z",
     "shell.execute_reply.started": "2025-10-15T09:32:46.028955Z"
    },
    "tags": []
   },
   "source": [
    "# 03 Taxonomy"
   ]
  },
  {
   "cell_type": "markdown",
   "id": "548cb797-91b7-41bf-83ff-ad9c33620ba8",
   "metadata": {
    "tags": []
   },
   "source": [
    "### 03.01 Taxonomy Preparation / Removing primers and dereplicating"
   ]
  },
  {
   "cell_type": "code",
   "execution_count": null,
   "id": "6cc3ad55-b50f-4fe6-abbf-73026668f7e8",
   "metadata": {},
   "outputs": [],
   "source": [
    "Zuerst (Primers)\n",
    "\n",
    "! qiime feature-classifier extract-reads \\\n",
    "    --i-sequences $data_dir/ncbi-refseqs-filtered.qza \\\n",
    "    --p-f-primer GTGCCAGCMGCCGCGGTAA \\\n",
    "    --p-r-primer GGACTACHVGGGTWTCTAAT \\\n",
    "    --p-n-jobs 3 \\\n",
    "    --p-read-orientation 'forward' \\\n",
    "    --o-reads $data_dir/ncbi-refseqs-515f-806r.qza"
   ]
  },
  {
   "cell_type": "code",
   "execution_count": null,
   "id": "237ba254-6731-46bd-9c76-92776ba6da55",
   "metadata": {},
   "outputs": [],
   "source": [
    "Danach (Dereplication)\n",
    "\n",
    "! qiime rescript dereplicate \\\n",
    "    --i-sequences $data_dir/ncbi-refseqs-515f-806r.qza \\\n",
    "    --i-taxa $data_dir/ncbi-refseqs-taxonomy-unfiltered.qza \\\n",
    "    --p-threads 3 \\\n",
    "    --p-mode 'lca' \\\n",
    "    --o-dereplicated-sequences $data_dir/ncbi-refseqs-515f-806r-lca.qza \\\n",
    "    --o-dereplicated-taxa  $data_dir/ncbi-refseqs-taxonomy-515f-806r-derep-lca.qza"
   ]
  },
  {
   "cell_type": "markdown",
   "id": "f962ca56-e136-487a-a6ce-cc95d3101cac",
   "metadata": {
    "tags": []
   },
   "source": [
    "### 03.02 Taxonomy using pretrained classifier"
   ]
  },
  {
   "cell_type": "code",
   "execution_count": null,
   "id": "cf7f3ea1-092a-4673-bb6c-40959bace59d",
   "metadata": {},
   "outputs": [],
   "source": [
    "classifier = unite_ver10_dynamic_s_all_19.02.2025-Q2-2024.10.qza"
   ]
  },
  {
   "cell_type": "code",
   "execution_count": null,
   "id": "6899591a-4374-4d1b-883b-531465939a8a",
   "metadata": {},
   "outputs": [],
   "source": [
    "euler:\n",
    "    miniconda und chiime auf euler laden\n",
    "    jetzt könne wir mit euler kommunizieren\n",
    "    für jeden job die parameter definieren + wo sollen datein abgespeichert werden\n",
    "    laufen lassen\n",
    "    Hat es funktioniert?"
   ]
  },
  {
   "cell_type": "code",
   "execution_count": null,
   "id": "5eecd432-9ba6-48e3-8b76-6e4e750db8d2",
   "metadata": {
    "tags": []
   },
   "outputs": [],
   "source": [
    "conda \n",
    "-> ampicon distribution (nicht m)\n",
    "transferring files\n",
    "zeit: 24h\n",
    "cpu: nach datenbank orientieren -> etwas mehr als das\n"
   ]
  }
 ],
 "metadata": {
  "kernelspec": {
   "display_name": "QIIME 2",
   "language": "python",
   "name": "python3"
  },
  "language_info": {
   "codemirror_mode": {
    "name": "ipython",
    "version": 3
   },
   "file_extension": ".py",
   "mimetype": "text/x-python",
   "name": "python",
   "nbconvert_exporter": "python",
   "pygments_lexer": "ipython3",
   "version": "3.10.14"
  }
 },
 "nbformat": 4,
 "nbformat_minor": 5
}
