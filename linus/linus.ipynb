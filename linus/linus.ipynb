{
 "cells": [
  {
   "cell_type": "markdown",
   "id": "2cc1e140-76d9-441b-a299-42e47072e6ea",
   "metadata": {},
   "source": [
    "# FunGut"
   ]
  },
  {
   "cell_type": "markdown",
   "id": "61ac85c4-6de2-4148-9b66-22c9612f4787",
   "metadata": {
    "tags": []
   },
   "source": [
    "# 0. Packages and Directory"
   ]
  },
  {
   "cell_type": "markdown",
   "id": "9ec3e4da-de51-44cf-84ae-9b0d360529a5",
   "metadata": {
    "tags": []
   },
   "source": [
    "# 1. Data Import"
   ]
  },
  {
   "cell_type": "markdown",
   "id": "447220a7-cb4a-4347-9496-880d85c7b448",
   "metadata": {
    "tags": []
   },
   "source": [
    "# 2. Denoising"
   ]
  },
  {
   "cell_type": "markdown",
   "id": "ffc2aa45-7ecb-420d-9159-91f2904c78b9",
   "metadata": {
    "tags": []
   },
   "source": [
    "# 3. Taxonomy"
   ]
  },
  {
   "cell_type": "code",
   "execution_count": null,
   "id": "4162e772-912e-4c17-9a3f-5e317811cf05",
   "metadata": {},
   "outputs": [],
   "source": []
  }
 ],
 "metadata": {
  "kernelspec": {
   "display_name": "QIIME 2",
   "language": "python",
   "name": "python3"
  },
  "language_info": {
   "codemirror_mode": {
    "name": "ipython",
    "version": 3
   },
   "file_extension": ".py",
   "mimetype": "text/x-python",
   "name": "python",
   "nbconvert_exporter": "python",
   "pygments_lexer": "ipython3",
   "version": "3.10.14"
  }
 },
 "nbformat": 4,
 "nbformat_minor": 5
}
