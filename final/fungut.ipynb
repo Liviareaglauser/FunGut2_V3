{
 "cells": [
  {
   "cell_type": "markdown",
   "id": "b5faf083-ac8b-47db-8ad8-763dcb6b7bcd",
   "metadata": {
    "tags": []
   },
   "source": [
    "# Fungut"
   ]
  },
  {
   "cell_type": "markdown",
   "id": "19941a9b-a21b-4edb-aab3-311eca5dabb5",
   "metadata": {},
   "source": [
    "# 00 Packages and Directory"
   ]
  },
  {
   "cell_type": "code",
   "execution_count": 1,
   "id": "56a5745e-add5-4f1e-907d-c95b249b4e45",
   "metadata": {
    "tags": []
   },
   "outputs": [],
   "source": [
    "import IPython\n",
    "\n",
    "import pandas as pd\n",
    "import matplotlib.pyplot as plt\n",
    "import qiime2 as q2\n",
    "import seaborn as sns\n",
    "from qiime2 import Visualization\n",
    "\n",
    "\n",
    "import os\n",
    "\n",
    "import matplotlib.pyplot as plt\n",
    "%matplotlib inline"
   ]
  },
  {
   "cell_type": "markdown",
   "id": "38445ca3-9c18-4c47-8252-26fe43e9cd6c",
   "metadata": {},
   "source": [
    "# 01 Data import"
   ]
  },
  {
   "cell_type": "code",
   "execution_count": 2,
   "id": "60a3b4c3-e780-4bcd-99b6-c2fd567c6991",
   "metadata": {
    "tags": []
   },
   "outputs": [],
   "source": [
    "PATH = \"fungut_data/fungut_metadata.tsv\""
   ]
  },
  {
   "cell_type": "code",
   "execution_count": 3,
   "id": "17f73795-faa9-49e8-b9a2-b090076c3597",
   "metadata": {
    "tags": []
   },
   "outputs": [
    {
     "ename": "FileNotFoundError",
     "evalue": "[Errno 2] No such file or directory: 'fungut_data/fungut_metadata.tsv'",
     "output_type": "error",
     "traceback": [
      "\u001b[0;31m---------------------------------------------------------------------------\u001b[0m",
      "\u001b[0;31mFileNotFoundError\u001b[0m                         Traceback (most recent call last)",
      "Cell \u001b[0;32mIn[3], line 1\u001b[0m\n\u001b[0;32m----> 1\u001b[0m surveys_df \u001b[38;5;241m=\u001b[39m \u001b[43mpd\u001b[49m\u001b[38;5;241;43m.\u001b[39;49m\u001b[43mread_csv\u001b[49m\u001b[43m(\u001b[49m\u001b[43mPATH\u001b[49m\u001b[43m,\u001b[49m\u001b[43m \u001b[49m\u001b[43msep\u001b[49m\u001b[38;5;241;43m=\u001b[39;49m\u001b[38;5;124;43m\"\u001b[39;49m\u001b[38;5;130;43;01m\\t\u001b[39;49;00m\u001b[38;5;124;43m\"\u001b[39;49m\u001b[43m)\u001b[49m\n",
      "File \u001b[0;32m/opt/conda/lib/python3.10/site-packages/pandas/io/parsers/readers.py:1026\u001b[0m, in \u001b[0;36mread_csv\u001b[0;34m(filepath_or_buffer, sep, delimiter, header, names, index_col, usecols, dtype, engine, converters, true_values, false_values, skipinitialspace, skiprows, skipfooter, nrows, na_values, keep_default_na, na_filter, verbose, skip_blank_lines, parse_dates, infer_datetime_format, keep_date_col, date_parser, date_format, dayfirst, cache_dates, iterator, chunksize, compression, thousands, decimal, lineterminator, quotechar, quoting, doublequote, escapechar, comment, encoding, encoding_errors, dialect, on_bad_lines, delim_whitespace, low_memory, memory_map, float_precision, storage_options, dtype_backend)\u001b[0m\n\u001b[1;32m   1013\u001b[0m kwds_defaults \u001b[38;5;241m=\u001b[39m _refine_defaults_read(\n\u001b[1;32m   1014\u001b[0m     dialect,\n\u001b[1;32m   1015\u001b[0m     delimiter,\n\u001b[0;32m   (...)\u001b[0m\n\u001b[1;32m   1022\u001b[0m     dtype_backend\u001b[38;5;241m=\u001b[39mdtype_backend,\n\u001b[1;32m   1023\u001b[0m )\n\u001b[1;32m   1024\u001b[0m kwds\u001b[38;5;241m.\u001b[39mupdate(kwds_defaults)\n\u001b[0;32m-> 1026\u001b[0m \u001b[38;5;28;01mreturn\u001b[39;00m \u001b[43m_read\u001b[49m\u001b[43m(\u001b[49m\u001b[43mfilepath_or_buffer\u001b[49m\u001b[43m,\u001b[49m\u001b[43m \u001b[49m\u001b[43mkwds\u001b[49m\u001b[43m)\u001b[49m\n",
      "File \u001b[0;32m/opt/conda/lib/python3.10/site-packages/pandas/io/parsers/readers.py:620\u001b[0m, in \u001b[0;36m_read\u001b[0;34m(filepath_or_buffer, kwds)\u001b[0m\n\u001b[1;32m    617\u001b[0m _validate_names(kwds\u001b[38;5;241m.\u001b[39mget(\u001b[38;5;124m\"\u001b[39m\u001b[38;5;124mnames\u001b[39m\u001b[38;5;124m\"\u001b[39m, \u001b[38;5;28;01mNone\u001b[39;00m))\n\u001b[1;32m    619\u001b[0m \u001b[38;5;66;03m# Create the parser.\u001b[39;00m\n\u001b[0;32m--> 620\u001b[0m parser \u001b[38;5;241m=\u001b[39m \u001b[43mTextFileReader\u001b[49m\u001b[43m(\u001b[49m\u001b[43mfilepath_or_buffer\u001b[49m\u001b[43m,\u001b[49m\u001b[43m \u001b[49m\u001b[38;5;241;43m*\u001b[39;49m\u001b[38;5;241;43m*\u001b[39;49m\u001b[43mkwds\u001b[49m\u001b[43m)\u001b[49m\n\u001b[1;32m    622\u001b[0m \u001b[38;5;28;01mif\u001b[39;00m chunksize \u001b[38;5;129;01mor\u001b[39;00m iterator:\n\u001b[1;32m    623\u001b[0m     \u001b[38;5;28;01mreturn\u001b[39;00m parser\n",
      "File \u001b[0;32m/opt/conda/lib/python3.10/site-packages/pandas/io/parsers/readers.py:1620\u001b[0m, in \u001b[0;36mTextFileReader.__init__\u001b[0;34m(self, f, engine, **kwds)\u001b[0m\n\u001b[1;32m   1617\u001b[0m     \u001b[38;5;28mself\u001b[39m\u001b[38;5;241m.\u001b[39moptions[\u001b[38;5;124m\"\u001b[39m\u001b[38;5;124mhas_index_names\u001b[39m\u001b[38;5;124m\"\u001b[39m] \u001b[38;5;241m=\u001b[39m kwds[\u001b[38;5;124m\"\u001b[39m\u001b[38;5;124mhas_index_names\u001b[39m\u001b[38;5;124m\"\u001b[39m]\n\u001b[1;32m   1619\u001b[0m \u001b[38;5;28mself\u001b[39m\u001b[38;5;241m.\u001b[39mhandles: IOHandles \u001b[38;5;241m|\u001b[39m \u001b[38;5;28;01mNone\u001b[39;00m \u001b[38;5;241m=\u001b[39m \u001b[38;5;28;01mNone\u001b[39;00m\n\u001b[0;32m-> 1620\u001b[0m \u001b[38;5;28mself\u001b[39m\u001b[38;5;241m.\u001b[39m_engine \u001b[38;5;241m=\u001b[39m \u001b[38;5;28;43mself\u001b[39;49m\u001b[38;5;241;43m.\u001b[39;49m\u001b[43m_make_engine\u001b[49m\u001b[43m(\u001b[49m\u001b[43mf\u001b[49m\u001b[43m,\u001b[49m\u001b[43m \u001b[49m\u001b[38;5;28;43mself\u001b[39;49m\u001b[38;5;241;43m.\u001b[39;49m\u001b[43mengine\u001b[49m\u001b[43m)\u001b[49m\n",
      "File \u001b[0;32m/opt/conda/lib/python3.10/site-packages/pandas/io/parsers/readers.py:1880\u001b[0m, in \u001b[0;36mTextFileReader._make_engine\u001b[0;34m(self, f, engine)\u001b[0m\n\u001b[1;32m   1878\u001b[0m     \u001b[38;5;28;01mif\u001b[39;00m \u001b[38;5;124m\"\u001b[39m\u001b[38;5;124mb\u001b[39m\u001b[38;5;124m\"\u001b[39m \u001b[38;5;129;01mnot\u001b[39;00m \u001b[38;5;129;01min\u001b[39;00m mode:\n\u001b[1;32m   1879\u001b[0m         mode \u001b[38;5;241m+\u001b[39m\u001b[38;5;241m=\u001b[39m \u001b[38;5;124m\"\u001b[39m\u001b[38;5;124mb\u001b[39m\u001b[38;5;124m\"\u001b[39m\n\u001b[0;32m-> 1880\u001b[0m \u001b[38;5;28mself\u001b[39m\u001b[38;5;241m.\u001b[39mhandles \u001b[38;5;241m=\u001b[39m \u001b[43mget_handle\u001b[49m\u001b[43m(\u001b[49m\n\u001b[1;32m   1881\u001b[0m \u001b[43m    \u001b[49m\u001b[43mf\u001b[49m\u001b[43m,\u001b[49m\n\u001b[1;32m   1882\u001b[0m \u001b[43m    \u001b[49m\u001b[43mmode\u001b[49m\u001b[43m,\u001b[49m\n\u001b[1;32m   1883\u001b[0m \u001b[43m    \u001b[49m\u001b[43mencoding\u001b[49m\u001b[38;5;241;43m=\u001b[39;49m\u001b[38;5;28;43mself\u001b[39;49m\u001b[38;5;241;43m.\u001b[39;49m\u001b[43moptions\u001b[49m\u001b[38;5;241;43m.\u001b[39;49m\u001b[43mget\u001b[49m\u001b[43m(\u001b[49m\u001b[38;5;124;43m\"\u001b[39;49m\u001b[38;5;124;43mencoding\u001b[39;49m\u001b[38;5;124;43m\"\u001b[39;49m\u001b[43m,\u001b[49m\u001b[43m \u001b[49m\u001b[38;5;28;43;01mNone\u001b[39;49;00m\u001b[43m)\u001b[49m\u001b[43m,\u001b[49m\n\u001b[1;32m   1884\u001b[0m \u001b[43m    \u001b[49m\u001b[43mcompression\u001b[49m\u001b[38;5;241;43m=\u001b[39;49m\u001b[38;5;28;43mself\u001b[39;49m\u001b[38;5;241;43m.\u001b[39;49m\u001b[43moptions\u001b[49m\u001b[38;5;241;43m.\u001b[39;49m\u001b[43mget\u001b[49m\u001b[43m(\u001b[49m\u001b[38;5;124;43m\"\u001b[39;49m\u001b[38;5;124;43mcompression\u001b[39;49m\u001b[38;5;124;43m\"\u001b[39;49m\u001b[43m,\u001b[49m\u001b[43m \u001b[49m\u001b[38;5;28;43;01mNone\u001b[39;49;00m\u001b[43m)\u001b[49m\u001b[43m,\u001b[49m\n\u001b[1;32m   1885\u001b[0m \u001b[43m    \u001b[49m\u001b[43mmemory_map\u001b[49m\u001b[38;5;241;43m=\u001b[39;49m\u001b[38;5;28;43mself\u001b[39;49m\u001b[38;5;241;43m.\u001b[39;49m\u001b[43moptions\u001b[49m\u001b[38;5;241;43m.\u001b[39;49m\u001b[43mget\u001b[49m\u001b[43m(\u001b[49m\u001b[38;5;124;43m\"\u001b[39;49m\u001b[38;5;124;43mmemory_map\u001b[39;49m\u001b[38;5;124;43m\"\u001b[39;49m\u001b[43m,\u001b[49m\u001b[43m \u001b[49m\u001b[38;5;28;43;01mFalse\u001b[39;49;00m\u001b[43m)\u001b[49m\u001b[43m,\u001b[49m\n\u001b[1;32m   1886\u001b[0m \u001b[43m    \u001b[49m\u001b[43mis_text\u001b[49m\u001b[38;5;241;43m=\u001b[39;49m\u001b[43mis_text\u001b[49m\u001b[43m,\u001b[49m\n\u001b[1;32m   1887\u001b[0m \u001b[43m    \u001b[49m\u001b[43merrors\u001b[49m\u001b[38;5;241;43m=\u001b[39;49m\u001b[38;5;28;43mself\u001b[39;49m\u001b[38;5;241;43m.\u001b[39;49m\u001b[43moptions\u001b[49m\u001b[38;5;241;43m.\u001b[39;49m\u001b[43mget\u001b[49m\u001b[43m(\u001b[49m\u001b[38;5;124;43m\"\u001b[39;49m\u001b[38;5;124;43mencoding_errors\u001b[39;49m\u001b[38;5;124;43m\"\u001b[39;49m\u001b[43m,\u001b[49m\u001b[43m \u001b[49m\u001b[38;5;124;43m\"\u001b[39;49m\u001b[38;5;124;43mstrict\u001b[39;49m\u001b[38;5;124;43m\"\u001b[39;49m\u001b[43m)\u001b[49m\u001b[43m,\u001b[49m\n\u001b[1;32m   1888\u001b[0m \u001b[43m    \u001b[49m\u001b[43mstorage_options\u001b[49m\u001b[38;5;241;43m=\u001b[39;49m\u001b[38;5;28;43mself\u001b[39;49m\u001b[38;5;241;43m.\u001b[39;49m\u001b[43moptions\u001b[49m\u001b[38;5;241;43m.\u001b[39;49m\u001b[43mget\u001b[49m\u001b[43m(\u001b[49m\u001b[38;5;124;43m\"\u001b[39;49m\u001b[38;5;124;43mstorage_options\u001b[39;49m\u001b[38;5;124;43m\"\u001b[39;49m\u001b[43m,\u001b[49m\u001b[43m \u001b[49m\u001b[38;5;28;43;01mNone\u001b[39;49;00m\u001b[43m)\u001b[49m\u001b[43m,\u001b[49m\n\u001b[1;32m   1889\u001b[0m \u001b[43m\u001b[49m\u001b[43m)\u001b[49m\n\u001b[1;32m   1890\u001b[0m \u001b[38;5;28;01massert\u001b[39;00m \u001b[38;5;28mself\u001b[39m\u001b[38;5;241m.\u001b[39mhandles \u001b[38;5;129;01mis\u001b[39;00m \u001b[38;5;129;01mnot\u001b[39;00m \u001b[38;5;28;01mNone\u001b[39;00m\n\u001b[1;32m   1891\u001b[0m f \u001b[38;5;241m=\u001b[39m \u001b[38;5;28mself\u001b[39m\u001b[38;5;241m.\u001b[39mhandles\u001b[38;5;241m.\u001b[39mhandle\n",
      "File \u001b[0;32m/opt/conda/lib/python3.10/site-packages/pandas/io/common.py:873\u001b[0m, in \u001b[0;36mget_handle\u001b[0;34m(path_or_buf, mode, encoding, compression, memory_map, is_text, errors, storage_options)\u001b[0m\n\u001b[1;32m    868\u001b[0m \u001b[38;5;28;01melif\u001b[39;00m \u001b[38;5;28misinstance\u001b[39m(handle, \u001b[38;5;28mstr\u001b[39m):\n\u001b[1;32m    869\u001b[0m     \u001b[38;5;66;03m# Check whether the filename is to be opened in binary mode.\u001b[39;00m\n\u001b[1;32m    870\u001b[0m     \u001b[38;5;66;03m# Binary mode does not support 'encoding' and 'newline'.\u001b[39;00m\n\u001b[1;32m    871\u001b[0m     \u001b[38;5;28;01mif\u001b[39;00m ioargs\u001b[38;5;241m.\u001b[39mencoding \u001b[38;5;129;01mand\u001b[39;00m \u001b[38;5;124m\"\u001b[39m\u001b[38;5;124mb\u001b[39m\u001b[38;5;124m\"\u001b[39m \u001b[38;5;129;01mnot\u001b[39;00m \u001b[38;5;129;01min\u001b[39;00m ioargs\u001b[38;5;241m.\u001b[39mmode:\n\u001b[1;32m    872\u001b[0m         \u001b[38;5;66;03m# Encoding\u001b[39;00m\n\u001b[0;32m--> 873\u001b[0m         handle \u001b[38;5;241m=\u001b[39m \u001b[38;5;28;43mopen\u001b[39;49m\u001b[43m(\u001b[49m\n\u001b[1;32m    874\u001b[0m \u001b[43m            \u001b[49m\u001b[43mhandle\u001b[49m\u001b[43m,\u001b[49m\n\u001b[1;32m    875\u001b[0m \u001b[43m            \u001b[49m\u001b[43mioargs\u001b[49m\u001b[38;5;241;43m.\u001b[39;49m\u001b[43mmode\u001b[49m\u001b[43m,\u001b[49m\n\u001b[1;32m    876\u001b[0m \u001b[43m            \u001b[49m\u001b[43mencoding\u001b[49m\u001b[38;5;241;43m=\u001b[39;49m\u001b[43mioargs\u001b[49m\u001b[38;5;241;43m.\u001b[39;49m\u001b[43mencoding\u001b[49m\u001b[43m,\u001b[49m\n\u001b[1;32m    877\u001b[0m \u001b[43m            \u001b[49m\u001b[43merrors\u001b[49m\u001b[38;5;241;43m=\u001b[39;49m\u001b[43merrors\u001b[49m\u001b[43m,\u001b[49m\n\u001b[1;32m    878\u001b[0m \u001b[43m            \u001b[49m\u001b[43mnewline\u001b[49m\u001b[38;5;241;43m=\u001b[39;49m\u001b[38;5;124;43m\"\u001b[39;49m\u001b[38;5;124;43m\"\u001b[39;49m\u001b[43m,\u001b[49m\n\u001b[1;32m    879\u001b[0m \u001b[43m        \u001b[49m\u001b[43m)\u001b[49m\n\u001b[1;32m    880\u001b[0m     \u001b[38;5;28;01melse\u001b[39;00m:\n\u001b[1;32m    881\u001b[0m         \u001b[38;5;66;03m# Binary mode\u001b[39;00m\n\u001b[1;32m    882\u001b[0m         handle \u001b[38;5;241m=\u001b[39m \u001b[38;5;28mopen\u001b[39m(handle, ioargs\u001b[38;5;241m.\u001b[39mmode)\n",
      "\u001b[0;31mFileNotFoundError\u001b[0m: [Errno 2] No such file or directory: 'fungut_data/fungut_metadata.tsv'"
     ]
    }
   ],
   "source": [
    "surveys_df = pd.read_csv(PATH, sep=\"\\t\")"
   ]
  },
  {
   "cell_type": "code",
   "execution_count": null,
   "id": "6e2442fb-c4e4-4ec8-a1c1-77b61928357a",
   "metadata": {
    "tags": []
   },
   "outputs": [],
   "source": [
    "data_dir = 'fungut_data'"
   ]
  },
  {
   "cell_type": "code",
   "execution_count": null,
   "id": "c9a1920e-4c65-4299-b7cd-d5e2b2a2faf1",
   "metadata": {
    "collapsed": true,
    "jupyter": {
     "outputs_hidden": true
    },
    "tags": []
   },
   "outputs": [],
   "source": [
    "!qiime tools peek $data_dir/fungut_forward_reads.qza"
   ]
  },
  {
   "cell_type": "code",
   "execution_count": null,
   "id": "a279d38a-b3ee-4e2b-a12d-6b2153ddeb36",
   "metadata": {
    "collapsed": true,
    "jupyter": {
     "outputs_hidden": true
    },
    "tags": []
   },
   "outputs": [],
   "source": [
    "!qiime demux summarize \\\n",
    "  --i-data $data_dir/fungut_forward_reads.qza \\\n",
    "  --o-visualization $data_dir/demux_summary.qzv"
   ]
  },
  {
   "cell_type": "code",
   "execution_count": null,
   "id": "c86a0e8d-b04c-4679-97ad-9c72eaf093e3",
   "metadata": {
    "collapsed": true,
    "jupyter": {
     "outputs_hidden": true
    },
    "tags": []
   },
   "outputs": [],
   "source": [
    "Visualization.load(f\"{data_dir}/demux_summary.qzv\")"
   ]
  },
  {
   "cell_type": "markdown",
   "id": "1b853438-416a-4d66-a2ac-80eabfc1f842",
   "metadata": {},
   "source": [
    "# 02 Denoising"
   ]
  },
  {
   "cell_type": "markdown",
   "id": "a8031c55-a0e2-4acf-a2e8-5f265cf3269d",
   "metadata": {},
   "source": [
    "### 1. Denoising Versuch mit trim left 0 und trunc len 0"
   ]
  },
  {
   "cell_type": "code",
   "execution_count": null,
   "id": "8cf3d1e5-2571-47fe-8f03-bdd9ea990c87",
   "metadata": {
    "collapsed": true,
    "jupyter": {
     "outputs_hidden": true
    },
    "tags": []
   },
   "outputs": [],
   "source": [
    "!qiime dada2 denoise-single \\\n",
    "   --i-demultiplexed-seqs $data_dir/fungut_forward_reads.qza \\\n",
    "   --p-trim-left 0 \\\n",
    "   --p-trunc-len 0 \\\n",
    "   --p-min-fold-parent-over-abundance 4 \\\n",
    "   --p-max-ee 4 \\\n",
    "    --o-representative-sequences $data_dir/dada2_rep_seqs_1.qza \\\n",
    "    --o-table $data_dir/dada2_table_1.qza \\\n",
    "    --o-denoising-stats $data_dir/dada2_stats_1.qza"
   ]
  },
  {
   "cell_type": "code",
   "execution_count": null,
   "id": "9038f08b-5d53-4c61-873f-af915c5c8a5e",
   "metadata": {
    "collapsed": true,
    "jupyter": {
     "outputs_hidden": true
    },
    "tags": []
   },
   "outputs": [],
   "source": [
    "! qiime metadata tabulate \\\n",
    "    --m-input-file $data_dir/dada2_stats_1.qza \\\n",
    "    --o-visualization $data_dir/dada2_stats_1.qzv"
   ]
  },
  {
   "cell_type": "code",
   "execution_count": null,
   "id": "c4520275-69d3-475d-a71a-f118e3b3df40",
   "metadata": {
    "tags": []
   },
   "outputs": [],
   "source": [
    "Visualization.load(f\"{data_dir}/dada2_stats_1.qzv\")"
   ]
  },
  {
   "cell_type": "code",
   "execution_count": null,
   "id": "dbfa724b-0056-4f82-bb65-4550c0f6fba8",
   "metadata": {
    "collapsed": true,
    "jupyter": {
     "outputs_hidden": true
    },
    "tags": []
   },
   "outputs": [],
   "source": [
    "! qiime feature-table tabulate-seqs \\\n",
    "    --i-data $data_dir/dada2_rep_seqs_1.qza \\\n",
    "    --o-visualization $data_dir/dada2_rep_seqs_1.qzv"
   ]
  },
  {
   "cell_type": "code",
   "execution_count": null,
   "id": "dc609b42-1349-4f40-9782-6cf646556e34",
   "metadata": {
    "tags": []
   },
   "outputs": [],
   "source": [
    "Visualization.load(f\"{data_dir}/dada2_rep_seqs_1.qzv\")"
   ]
  },
  {
   "cell_type": "code",
   "execution_count": null,
   "id": "92090998-28bd-4b0a-9209-4a9f4b1c2074",
   "metadata": {
    "collapsed": true,
    "jupyter": {
     "outputs_hidden": true
    },
    "tags": []
   },
   "outputs": [],
   "source": [
    "! qiime feature-table summarize \\\n",
    "    --i-table $data_dir/dada2_table_1.qza \\\n",
    "    --m-sample-metadata-file $data_dir/fungut_metadata.tsv \\\n",
    "    --o-visualization $data_dir/dada2_table_1.qzv"
   ]
  },
  {
   "cell_type": "code",
   "execution_count": null,
   "id": "bbc6ac7e-5753-44e0-bd31-1d23fc02dc2a",
   "metadata": {
    "tags": []
   },
   "outputs": [],
   "source": [
    "Visualization.load(f\"{data_dir}/dada2_table_1.qzv\")"
   ]
  },
  {
   "cell_type": "markdown",
   "id": "19b7bbe2-6461-4c19-aee6-83fa7b310d7d",
   "metadata": {},
   "source": []
  },
  {
   "cell_type": "markdown",
   "id": "c4889e58-38db-412c-b2c8-0568373b0e00",
   "metadata": {},
   "source": [
    "### 2. Denoising Versuch mit trim left 15 und trunc len 130"
   ]
  },
  {
   "cell_type": "code",
   "execution_count": null,
   "id": "e2f10677-2f1f-4e8b-b35a-659ccda61d26",
   "metadata": {
    "collapsed": true,
    "jupyter": {
     "outputs_hidden": true
    },
    "tags": []
   },
   "outputs": [],
   "source": [
    "!qiime dada2 denoise-single \\\n",
    "   --i-demultiplexed-seqs $data_dir/fungut_forward_reads.qza \\\n",
    "   --p-trim-left 15 \\\n",
    "   --p-trunc-len 130 \\\n",
    "   --p-min-fold-parent-over-abundance 4 \\\n",
    "   --p-max-ee 4 \\\n",
    "    --o-representative-sequences $data_dir/dada2_rep_seqs_2.qza \\\n",
    "    --o-table $data_dir/dada2_table_2.qza \\\n",
    "    --o-denoising-stats $data_dir/dada2_stats_2.qza"
   ]
  },
  {
   "cell_type": "code",
   "execution_count": null,
   "id": "cd199b20-b564-4936-be41-d22307c6c779",
   "metadata": {
    "collapsed": true,
    "jupyter": {
     "outputs_hidden": true
    },
    "tags": []
   },
   "outputs": [],
   "source": [
    "! qiime metadata tabulate \\\n",
    "    --m-input-file $data_dir/dada2_stats_2.qza \\\n",
    "    --o-visualization $data_dir/dada2_stats_2.qzv"
   ]
  },
  {
   "cell_type": "code",
   "execution_count": null,
   "id": "bfdce52c-2692-4c70-90d3-f68e06a1b223",
   "metadata": {
    "collapsed": true,
    "jupyter": {
     "outputs_hidden": true
    },
    "tags": []
   },
   "outputs": [],
   "source": [
    "Visualization.load(f\"{data_dir}/dada2_stats_2.qzv\")"
   ]
  },
  {
   "cell_type": "code",
   "execution_count": null,
   "id": "7c013a3e-03da-4655-a288-3cae5d8e1b81",
   "metadata": {
    "collapsed": true,
    "jupyter": {
     "outputs_hidden": true
    },
    "tags": []
   },
   "outputs": [],
   "source": [
    "! qiime feature-table tabulate-seqs \\\n",
    "    --i-data $data_dir/dada2_rep_seqs_2.qza \\\n",
    "    --o-visualization $data_dir/dada2_rep_seqs_2.qzv"
   ]
  },
  {
   "cell_type": "code",
   "execution_count": null,
   "id": "b3d4373f-323c-40c2-9908-d8d5333c75fd",
   "metadata": {
    "collapsed": true,
    "jupyter": {
     "outputs_hidden": true
    },
    "tags": []
   },
   "outputs": [],
   "source": [
    "Visualization.load(f\"{data_dir}/dada2_rep_seqs_2.qzv\")"
   ]
  },
  {
   "cell_type": "code",
   "execution_count": null,
   "id": "fa47ca28-ad12-410f-ad26-cd8c11664187",
   "metadata": {
    "collapsed": true,
    "jupyter": {
     "outputs_hidden": true
    },
    "tags": []
   },
   "outputs": [],
   "source": [
    "! qiime feature-table summarize \\\n",
    "    --i-table $data_dir/dada2_table_2.qza \\\n",
    "    --m-sample-metadata-file $data_dir/fungut_metadata.tsv \\\n",
    "    --o-visualization $data_dir/dada2_table_2.qzv"
   ]
  },
  {
   "cell_type": "code",
   "execution_count": null,
   "id": "f7364e1b-8c83-4e1c-bb6b-669a08714c0a",
   "metadata": {
    "collapsed": true,
    "jupyter": {
     "outputs_hidden": true
    },
    "tags": []
   },
   "outputs": [],
   "source": [
    "Visualization.load(f\"{data_dir}/dada2_table_2.qzv\")"
   ]
  },
  {
   "cell_type": "markdown",
   "id": "d0983d8b-afd1-4921-9d19-592e85c8b158",
   "metadata": {},
   "source": [
    "Comparing denoised data 1&2:\n",
    "ITS sequences are more variable in length than 16S data. There is the risk of cutting the truncation length too short and loose valid ITS reads. Regarding that the the original data was good overall (everywhere over 30), it is better to keep all sequences. With this conclusion, it is decided to continue further steps with the data optained by run 1."
   ]
  },
  {
   "cell_type": "code",
   "execution_count": null,
   "id": "f28b9d60-3e83-43e4-9406-200cc3d36cfe",
   "metadata": {
    "collapsed": true,
    "jupyter": {
     "outputs_hidden": true
    },
    "tags": []
   },
   "outputs": [],
   "source": [
    "! qiime feature-classifier classify-sklearn ?\n"
   ]
  },
  {
   "cell_type": "markdown",
   "id": "82b02b51-f332-412a-9aa8-fd6173257d9e",
   "metadata": {
    "execution": {
     "iopub.execute_input": "2025-10-15T09:32:46.029016Z",
     "iopub.status.busy": "2025-10-15T09:32:46.028062Z",
     "iopub.status.idle": "2025-10-15T09:32:46.032468Z",
     "shell.execute_reply": "2025-10-15T09:32:46.031780Z",
     "shell.execute_reply.started": "2025-10-15T09:32:46.028955Z"
    },
    "tags": []
   },
   "source": [
    "# 03 Taxonomy"
   ]
  },
  {
   "cell_type": "markdown",
   "id": "548cb797-91b7-41bf-83ff-ad9c33620ba8",
   "metadata": {
    "jp-MarkdownHeadingCollapsed": true,
    "tags": []
   },
   "source": [
    "### 03.01 Taxonomy Preparation / Removing primers and dereplicating"
   ]
  },
  {
   "cell_type": "code",
   "execution_count": null,
   "id": "6cc3ad55-b50f-4fe6-abbf-73026668f7e8",
   "metadata": {},
   "outputs": [],
   "source": [
    "Zuerst (Primers)\n",
    "\n",
    "! qiime feature-classifier extract-reads \\\n",
    "    --i-sequences $data_dir/ncbi-refseqs-filtered.qza \\\n",
    "    --p-f-primer GTGCCAGCMGCCGCGGTAA \\\n",
    "    --p-r-primer GGACTACHVGGGTWTCTAAT \\\n",
    "    --p-n-jobs 3 \\\n",
    "    --p-read-orientation 'forward' \\\n",
    "    --o-reads $data_dir/ncbi-refseqs-515f-806r.qza"
   ]
  },
  {
   "cell_type": "code",
   "execution_count": null,
   "id": "237ba254-6731-46bd-9c76-92776ba6da55",
   "metadata": {},
   "outputs": [],
   "source": [
    "Danach (Dereplication)\n",
    "\n",
    "! qiime rescript dereplicate \\\n",
    "    --i-sequences $data_dir/ncbi-refseqs-515f-806r.qza \\\n",
    "    --i-taxa $data_dir/ncbi-refseqs-taxonomy-unfiltered.qza \\\n",
    "    --p-threads 3 \\\n",
    "    --p-mode 'lca' \\\n",
    "    --o-dereplicated-sequences $data_dir/ncbi-refseqs-515f-806r-lca.qza \\\n",
    "    --o-dereplicated-taxa  $data_dir/ncbi-refseqs-taxonomy-515f-806r-derep-lca.qza"
   ]
  },
  {
   "cell_type": "markdown",
   "id": "f962ca56-e136-487a-a6ce-cc95d3101cac",
   "metadata": {
    "tags": []
   },
   "source": [
    "### 03.02 Taxonomy using pretrained classifier"
   ]
  },
  {
   "cell_type": "code",
   "execution_count": null,
   "id": "cf7f3ea1-092a-4673-bb6c-40959bace59d",
   "metadata": {},
   "outputs": [],
   "source": [
    "classifier = unite_ver10_dynamic_s_all_19.02.2025-Q2-2024.10.qza"
   ]
  },
  {
   "cell_type": "code",
   "execution_count": null,
   "id": "6899591a-4374-4d1b-883b-531465939a8a",
   "metadata": {},
   "outputs": [],
   "source": [
    "euler:\n",
    "    miniconda und chiime auf euler laden\n",
    "    jetzt könne wir mit euler kommunizieren\n",
    "    für jeden job die parameter definieren + wo sollen datein abgespeichert werden\n",
    "    laufen lassen\n",
    "    Hat es funktioniert?"
   ]
  },
  {
   "cell_type": "code",
   "execution_count": null,
   "id": "5eecd432-9ba6-48e3-8b76-6e4e750db8d2",
   "metadata": {
    "tags": []
   },
   "outputs": [],
   "source": [
    "conda \n",
    "-> ampicon distribution (nicht m)\n",
    "transferring files\n",
    "zeit: 24h\n",
    "cpu: nach datenbank orientieren -> etwas mehr als das\n"
   ]
  }
 ],
 "metadata": {
  "kernelspec": {
   "display_name": "QIIME 2",
   "language": "python",
   "name": "python3"
  },
  "language_info": {
   "codemirror_mode": {
    "name": "ipython",
    "version": 3
   },
   "file_extension": ".py",
   "mimetype": "text/x-python",
   "name": "python",
   "nbconvert_exporter": "python",
   "pygments_lexer": "ipython3",
   "version": "3.10.14"
  }
 },
 "nbformat": 4,
 "nbformat_minor": 5
}
