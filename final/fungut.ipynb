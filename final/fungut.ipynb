{
 "cells": [
  {
   "cell_type": "markdown",
   "id": "b5faf083-ac8b-47db-8ad8-763dcb6b7bcd",
   "metadata": {
    "tags": []
   },
   "source": [
    "# Fungut"
   ]
  },
  {
   "cell_type": "markdown",
   "id": "19941a9b-a21b-4edb-aab3-311eca5dabb5",
   "metadata": {},
   "source": [
    "# 00 Packages and Directory"
   ]
  },
  {
   "cell_type": "code",
   "execution_count": 13,
   "id": "56a5745e-add5-4f1e-907d-c95b249b4e45",
   "metadata": {
    "execution": {
     "iopub.execute_input": "2025-10-15T09:35:39.666252Z",
     "iopub.status.busy": "2025-10-15T09:35:39.665884Z",
     "iopub.status.idle": "2025-10-15T09:35:39.672492Z",
     "shell.execute_reply": "2025-10-15T09:35:39.671619Z",
     "shell.execute_reply.started": "2025-10-15T09:35:39.666217Z"
    },
    "tags": []
   },
   "outputs": [],
   "source": [
    "import IPython\n",
    "\n",
    "import pandas as pd\n",
    "import matplotlib.pyplot as plt\n",
    "import qiime2 as q2\n",
    "import seaborn as sns\n",
    "from qiime2 import Visualization\n",
    "\n",
    "\n",
    "import os\n",
    "\n",
    "import matplotlib.pyplot as plt\n",
    "%matplotlib inline"
   ]
  },
  {
   "cell_type": "markdown",
   "id": "38445ca3-9c18-4c47-8252-26fe43e9cd6c",
   "metadata": {},
   "source": [
    "# 01 Data import"
   ]
  },
  {
   "cell_type": "code",
   "execution_count": 16,
   "id": "60a3b4c3-e780-4bcd-99b6-c2fd567c6991",
   "metadata": {
    "execution": {
     "iopub.execute_input": "2025-10-15T09:36:03.418370Z",
     "iopub.status.busy": "2025-10-15T09:36:03.417499Z",
     "iopub.status.idle": "2025-10-15T09:36:03.422783Z",
     "shell.execute_reply": "2025-10-15T09:36:03.421707Z",
     "shell.execute_reply.started": "2025-10-15T09:36:03.418330Z"
    },
    "tags": []
   },
   "outputs": [],
   "source": [
    "PATH = \"final/fungut_data/fungut_metadata.tsv\""
   ]
  },
  {
   "cell_type": "code",
   "execution_count": 17,
   "id": "17f73795-faa9-49e8-b9a2-b090076c3597",
   "metadata": {
    "execution": {
     "iopub.execute_input": "2025-10-15T09:36:03.789750Z",
     "iopub.status.busy": "2025-10-15T09:36:03.789420Z",
     "iopub.status.idle": "2025-10-15T09:36:03.813580Z",
     "shell.execute_reply": "2025-10-15T09:36:03.812724Z",
     "shell.execute_reply.started": "2025-10-15T09:36:03.789724Z"
    },
    "tags": []
   },
   "outputs": [],
   "source": [
    "surveys_df = pd.read_csv(PATH, sep=\"\\t\")"
   ]
  },
  {
   "cell_type": "code",
   "execution_count": 19,
   "id": "6e2442fb-c4e4-4ec8-a1c1-77b61928357a",
   "metadata": {
    "execution": {
     "iopub.execute_input": "2025-10-15T09:36:30.465459Z",
     "iopub.status.busy": "2025-10-15T09:36:30.465049Z",
     "iopub.status.idle": "2025-10-15T09:36:30.469516Z",
     "shell.execute_reply": "2025-10-15T09:36:30.468823Z",
     "shell.execute_reply.started": "2025-10-15T09:36:30.465425Z"
    },
    "tags": []
   },
   "outputs": [],
   "source": [
    "data_dir = 'final/fungut_data'"
   ]
  },
  {
   "cell_type": "code",
   "execution_count": 20,
   "id": "c9a1920e-4c65-4299-b7cd-d5e2b2a2faf1",
   "metadata": {
    "collapsed": true,
    "execution": {
     "iopub.execute_input": "2025-10-15T09:36:30.920088Z",
     "iopub.status.busy": "2025-10-15T09:36:30.919707Z",
     "iopub.status.idle": "2025-10-15T09:36:32.824233Z",
     "shell.execute_reply": "2025-10-15T09:36:32.823387Z",
     "shell.execute_reply.started": "2025-10-15T09:36:30.920062Z"
    },
    "jupyter": {
     "outputs_hidden": true
    },
    "tags": []
   },
   "outputs": [
    {
     "name": "stdout",
     "output_type": "stream",
     "text": [
      "\u001b[32mUUID\u001b[0m:        3638611d-1767-413b-9390-70ee3d78e4ff\n",
      "\u001b[32mType\u001b[0m:        SampleData[SequencesWithQuality]\n",
      "\u001b[32mData format\u001b[0m: SingleLanePerSampleSingleEndFastqDirFmt\n"
     ]
    }
   ],
   "source": [
    "!qiime tools peek $data_dir/fungut_forward_reads.qza"
   ]
  },
  {
   "cell_type": "code",
   "execution_count": 21,
   "id": "a279d38a-b3ee-4e2b-a12d-6b2153ddeb36",
   "metadata": {
    "collapsed": true,
    "execution": {
     "iopub.execute_input": "2025-10-15T09:36:47.846114Z",
     "iopub.status.busy": "2025-10-15T09:36:47.845723Z",
     "iopub.status.idle": "2025-10-15T09:38:21.068601Z",
     "shell.execute_reply": "2025-10-15T09:38:21.067402Z",
     "shell.execute_reply.started": "2025-10-15T09:36:47.846084Z"
    },
    "jupyter": {
     "outputs_hidden": true
    },
    "tags": []
   },
   "outputs": [
    {
     "name": "stdout",
     "output_type": "stream",
     "text": [
      "/opt/conda/lib/python3.10/site-packages/unifrac/__init__.py:9: UserWarning: pkg_resources is deprecated as an API. See https://setuptools.pypa.io/en/latest/pkg_resources.html. The pkg_resources package is slated for removal as early as 2025-11-30. Refrain from using this package or pin to Setuptools<81.\n",
      "  import pkg_resources\n",
      "\u001b[32mSaved Visualization to: final/fungut_data/demux_summary.qzv\u001b[0m\n",
      "\u001b[0m\u001b[?25h"
     ]
    }
   ],
   "source": [
    "!qiime demux summarize \\\n",
    "  --i-data $data_dir/fungut_forward_reads.qza \\\n",
    "  --o-visualization $data_dir/demux_summary.qzv"
   ]
  },
  {
   "cell_type": "code",
   "execution_count": 22,
   "id": "c86a0e8d-b04c-4679-97ad-9c72eaf093e3",
   "metadata": {
    "collapsed": true,
    "execution": {
     "iopub.execute_input": "2025-10-15T09:38:21.070687Z",
     "iopub.status.busy": "2025-10-15T09:38:21.070203Z",
     "iopub.status.idle": "2025-10-15T09:38:21.106048Z",
     "shell.execute_reply": "2025-10-15T09:38:21.104704Z",
     "shell.execute_reply.started": "2025-10-15T09:38:21.070650Z"
    },
    "jupyter": {
     "outputs_hidden": true
    },
    "tags": []
   },
   "outputs": [
    {
     "data": {
      "text/html": [
       "<div><img onload=\"(function(div, url){\n",
       "if (typeof require !== 'undefined') {\n",
       "    var baseURL = require.toUrl('').split('/').slice(0, -2).join('/');\n",
       "} else {\n",
       "    var baseURL = JSON.parse(\n",
       "        document.getElementById('jupyter-config-data').innerHTML\n",
       "    ).baseUrl.slice(0, -1);\n",
       "}\n",
       "url = baseURL + url;\n",
       "fetch(url).then(function(res) {\n",
       "    if (res.status === 404) {\n",
       "        div.innerHTML = 'Install QIIME 2 Jupyter extension with:<br />' +\n",
       "                        '<code>jupyter server extension enable --py qiime2' +\n",
       "                        ' --sys-prefix</code><br />then restart your server.' +\n",
       "                        '<br /><br />(Interactive output not available on ' +\n",
       "                        'static notebook viewer services like nbviewer.)';\n",
       "    } else if (res.status === 409) {\n",
       "        div.innerHTML = 'Visualization no longer in scope. Re-run this cell' +\n",
       "                        ' to see the visualization.';\n",
       "    } else if (res.ok) {\n",
       "        url = res.url;\n",
       "        div.innerHTML = '<iframe src=\\'' + url + '\\' style=\\'' +\n",
       "                        'width: 100%; height: 700px; border: 0;\\'>' +\n",
       "                        '</iframe><hr />Open in a: <a href=\\'' + url + '\\'' +\n",
       "                        ' target=\\'_blank\\'>new window</a>'\n",
       "    } else {\n",
       "        div.innerHTML = 'Something has gone wrong. Check notebook server for' +\n",
       "                        ' errors.';\n",
       "    }\n",
       "});\n",
       "})(this.parentElement, '/qiime2/redirect?location=/tmp/qiime2/jovyan/data/f3cf44e4-fbc6-4d58-8edc-c3ecd63e6329')\" src=\"data:image/gif;base64,R0lGODlhAQABAIAAAP///wAAACH5BAEAAAAALAAAAAABAAEAAAICRAEAOw==\" /></div>"
      ],
      "text/plain": [
       "<visualization: Visualization uuid: f3cf44e4-fbc6-4d58-8edc-c3ecd63e6329>"
      ]
     },
     "execution_count": 22,
     "metadata": {},
     "output_type": "execute_result"
    }
   ],
   "source": [
    "Visualization.load(f\"{data_dir}/demux_summary.qzv\")"
   ]
  },
  {
   "cell_type": "markdown",
   "id": "1b853438-416a-4d66-a2ac-80eabfc1f842",
   "metadata": {},
   "source": [
    "# 02 Denoising"
   ]
  },
  {
   "cell_type": "code",
   "execution_count": 23,
   "id": "8cf3d1e5-2571-47fe-8f03-bdd9ea990c87",
   "metadata": {
    "execution": {
     "iopub.execute_input": "2025-10-15T09:38:30.013365Z",
     "iopub.status.busy": "2025-10-15T09:38:30.012953Z",
     "iopub.status.idle": "2025-10-15T09:40:34.561788Z",
     "shell.execute_reply": "2025-10-15T09:40:34.561016Z",
     "shell.execute_reply.started": "2025-10-15T09:38:30.013330Z"
    },
    "tags": []
   },
   "outputs": [
    {
     "name": "stdout",
     "output_type": "stream",
     "text": [
      "/opt/conda/lib/python3.10/site-packages/unifrac/__init__.py:9: UserWarning: pkg_resources is deprecated as an API. See https://setuptools.pypa.io/en/latest/pkg_resources.html. The pkg_resources package is slated for removal as early as 2025-11-30. Refrain from using this package or pin to Setuptools<81.\n",
      "  import pkg_resources\n",
      "^C\n"
     ]
    }
   ],
   "source": [
    "!qiime dada2 denoise-single \\\n",
    "   --i-demultiplexed-seqs $data_dir/fungut_forward_reads.qza \\\n",
    "   --p-trim-left 0 \\\n",
    "   --p-trunc-len 0 \\\n",
    "   --p-min-fold-parent-over-abundance 4 \\\n",
    "   --p-max-ee 4 \\\n",
    "    --o-representative-sequences $data_dir/rep_seqs.qza \\\n",
    "    --o-table $data_dir/table.qza \\\n",
    "    --o-denoising-stats $data_dir/stats.qza"
   ]
  },
  {
   "cell_type": "code",
   "execution_count": null,
   "id": "e2f10677-2f1f-4e8b-b35a-659ccda61d26",
   "metadata": {},
   "outputs": [],
   "source": [
    "!qiime dada2 denoise-single \\\n",
    "   --i-demultiplexed-seqs $data_dir/fungut_forward_reads.qza \\\n",
    "   --p-trim-left 0 \\\n",
    "   --p-trunc-len 160 \\\n",
    "   --p-min-fold-parent-over-abundance 4 \\\n",
    "   --p-max-ee 4 \\\n",
    "    --o-representative-sequences $data_dir/rep_seqs.qza \\\n",
    "    --o-table $data_dir/table.qza \\\n",
    "    --o-denoising-stats $data_dir/stats.qza"
   ]
  },
  {
   "cell_type": "markdown",
   "id": "82b02b51-f332-412a-9aa8-fd6173257d9e",
   "metadata": {
    "execution": {
     "iopub.execute_input": "2025-10-15T09:32:46.029016Z",
     "iopub.status.busy": "2025-10-15T09:32:46.028062Z",
     "iopub.status.idle": "2025-10-15T09:32:46.032468Z",
     "shell.execute_reply": "2025-10-15T09:32:46.031780Z",
     "shell.execute_reply.started": "2025-10-15T09:32:46.028955Z"
    },
    "tags": []
   },
   "source": [
    "# 03 Taxonomy"
   ]
  },
  {
   "cell_type": "code",
   "execution_count": null,
   "id": "5eecd432-9ba6-48e3-8b76-6e4e750db8d2",
   "metadata": {},
   "outputs": [],
   "source": []
  }
 ],
 "metadata": {
  "kernelspec": {
   "display_name": "QIIME 2",
   "language": "python",
   "name": "python3"
  },
  "language_info": {
   "codemirror_mode": {
    "name": "ipython",
    "version": 3
   },
   "file_extension": ".py",
   "mimetype": "text/x-python",
   "name": "python",
   "nbconvert_exporter": "python",
   "pygments_lexer": "ipython3",
   "version": "3.10.14"
  }
 },
 "nbformat": 4,
 "nbformat_minor": 5
}
