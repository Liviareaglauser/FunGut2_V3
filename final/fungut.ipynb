{
 "cells": [
  {
   "cell_type": "markdown",
   "id": "b5faf083-ac8b-47db-8ad8-763dcb6b7bcd",
   "metadata": {
    "tags": []
   },
   "source": [
    "# Fungut"
   ]
  },
  {
   "cell_type": "markdown",
   "id": "19941a9b-a21b-4edb-aab3-311eca5dabb5",
   "metadata": {},
   "source": [
    "# 00 Packages and Directory"
   ]
  },
  {
   "cell_type": "code",
   "execution_count": 1,
   "id": "56a5745e-add5-4f1e-907d-c95b249b4e45",
   "metadata": {
    "execution": {
     "iopub.execute_input": "2025-10-15T10:38:39.162304Z",
     "iopub.status.busy": "2025-10-15T10:38:39.161689Z",
     "iopub.status.idle": "2025-10-15T10:38:41.049738Z",
     "shell.execute_reply": "2025-10-15T10:38:41.048919Z",
     "shell.execute_reply.started": "2025-10-15T10:38:39.162253Z"
    },
    "tags": []
   },
   "outputs": [],
   "source": [
    "import IPython\n",
    "\n",
    "import pandas as pd\n",
    "import matplotlib.pyplot as plt\n",
    "import qiime2 as q2\n",
    "import seaborn as sns\n",
    "from qiime2 import Visualization\n",
    "\n",
    "\n",
    "import os\n",
    "\n",
    "import matplotlib.pyplot as plt\n",
    "%matplotlib inline"
   ]
  },
  {
   "cell_type": "markdown",
   "id": "38445ca3-9c18-4c47-8252-26fe43e9cd6c",
   "metadata": {},
   "source": [
    "# 01 Data import"
   ]
  },
  {
   "cell_type": "code",
   "execution_count": 4,
   "id": "60a3b4c3-e780-4bcd-99b6-c2fd567c6991",
   "metadata": {
    "execution": {
     "iopub.execute_input": "2025-10-15T10:38:57.783856Z",
     "iopub.status.busy": "2025-10-15T10:38:57.782438Z",
     "iopub.status.idle": "2025-10-15T10:38:57.791484Z",
     "shell.execute_reply": "2025-10-15T10:38:57.789216Z",
     "shell.execute_reply.started": "2025-10-15T10:38:57.783771Z"
    },
    "tags": []
   },
   "outputs": [],
   "source": [
    "PATH = \"fungut_data/fungut_metadata.tsv\""
   ]
  },
  {
   "cell_type": "code",
   "execution_count": 5,
   "id": "17f73795-faa9-49e8-b9a2-b090076c3597",
   "metadata": {
    "execution": {
     "iopub.execute_input": "2025-10-15T10:38:58.087810Z",
     "iopub.status.busy": "2025-10-15T10:38:58.087200Z",
     "iopub.status.idle": "2025-10-15T10:38:58.117636Z",
     "shell.execute_reply": "2025-10-15T10:38:58.116166Z",
     "shell.execute_reply.started": "2025-10-15T10:38:58.087761Z"
    },
    "tags": []
   },
   "outputs": [],
   "source": [
    "surveys_df = pd.read_csv(PATH, sep=\"\\t\")"
   ]
  },
  {
   "cell_type": "code",
   "execution_count": 15,
   "id": "6e2442fb-c4e4-4ec8-a1c1-77b61928357a",
   "metadata": {
    "execution": {
     "iopub.execute_input": "2025-10-15T11:44:14.516636Z",
     "iopub.status.busy": "2025-10-15T11:44:14.516248Z",
     "iopub.status.idle": "2025-10-15T11:44:14.522954Z",
     "shell.execute_reply": "2025-10-15T11:44:14.521464Z",
     "shell.execute_reply.started": "2025-10-15T11:44:14.516605Z"
    },
    "tags": []
   },
   "outputs": [],
   "source": [
    "data_dir = 'fungut_data'"
   ]
  },
  {
   "cell_type": "code",
   "execution_count": 16,
   "id": "c9a1920e-4c65-4299-b7cd-d5e2b2a2faf1",
   "metadata": {
    "collapsed": true,
    "execution": {
     "iopub.execute_input": "2025-10-15T11:44:15.040812Z",
     "iopub.status.busy": "2025-10-15T11:44:15.040424Z",
     "iopub.status.idle": "2025-10-15T11:44:16.615648Z",
     "shell.execute_reply": "2025-10-15T11:44:16.613981Z",
     "shell.execute_reply.started": "2025-10-15T11:44:15.040783Z"
    },
    "jupyter": {
     "outputs_hidden": true
    },
    "tags": []
   },
   "outputs": [
    {
     "name": "stdout",
     "output_type": "stream",
     "text": [
      "\u001b[32mUUID\u001b[0m:        3638611d-1767-413b-9390-70ee3d78e4ff\n",
      "\u001b[32mType\u001b[0m:        SampleData[SequencesWithQuality]\n",
      "\u001b[32mData format\u001b[0m: SingleLanePerSampleSingleEndFastqDirFmt\n"
     ]
    }
   ],
   "source": [
    "!qiime tools peek $data_dir/fungut_forward_reads.qza"
   ]
  },
  {
   "cell_type": "code",
   "execution_count": 21,
   "id": "a279d38a-b3ee-4e2b-a12d-6b2153ddeb36",
   "metadata": {
    "collapsed": true,
    "execution": {
     "iopub.execute_input": "2025-10-15T09:36:47.846114Z",
     "iopub.status.busy": "2025-10-15T09:36:47.845723Z",
     "iopub.status.idle": "2025-10-15T09:38:21.068601Z",
     "shell.execute_reply": "2025-10-15T09:38:21.067402Z",
     "shell.execute_reply.started": "2025-10-15T09:36:47.846084Z"
    },
    "jupyter": {
     "outputs_hidden": true
    },
    "tags": []
   },
   "outputs": [
    {
     "name": "stdout",
     "output_type": "stream",
     "text": [
      "/opt/conda/lib/python3.10/site-packages/unifrac/__init__.py:9: UserWarning: pkg_resources is deprecated as an API. See https://setuptools.pypa.io/en/latest/pkg_resources.html. The pkg_resources package is slated for removal as early as 2025-11-30. Refrain from using this package or pin to Setuptools<81.\n",
      "  import pkg_resources\n",
      "\u001b[32mSaved Visualization to: final/fungut_data/demux_summary.qzv\u001b[0m\n",
      "\u001b[0m\u001b[?25h"
     ]
    }
   ],
   "source": [
    "!qiime demux summarize \\\n",
    "  --i-data $data_dir/fungut_forward_reads.qza \\\n",
    "  --o-visualization $data_dir/demux_summary.qzv"
   ]
  },
  {
   "cell_type": "code",
   "execution_count": 9,
   "id": "c86a0e8d-b04c-4679-97ad-9c72eaf093e3",
   "metadata": {
    "collapsed": true,
    "execution": {
     "iopub.execute_input": "2025-10-15T10:39:13.113654Z",
     "iopub.status.busy": "2025-10-15T10:39:13.112254Z",
     "iopub.status.idle": "2025-10-15T10:39:13.181009Z",
     "shell.execute_reply": "2025-10-15T10:39:13.179158Z",
     "shell.execute_reply.started": "2025-10-15T10:39:13.113561Z"
    },
    "jupyter": {
     "outputs_hidden": true
    },
    "tags": []
   },
   "outputs": [
    {
     "data": {
      "text/html": [
       "<div><img onload=\"(function(div, url){\n",
       "if (typeof require !== 'undefined') {\n",
       "    var baseURL = require.toUrl('').split('/').slice(0, -2).join('/');\n",
       "} else {\n",
       "    var baseURL = JSON.parse(\n",
       "        document.getElementById('jupyter-config-data').innerHTML\n",
       "    ).baseUrl.slice(0, -1);\n",
       "}\n",
       "url = baseURL + url;\n",
       "fetch(url).then(function(res) {\n",
       "    if (res.status === 404) {\n",
       "        div.innerHTML = 'Install QIIME 2 Jupyter extension with:<br />' +\n",
       "                        '<code>jupyter server extension enable --py qiime2' +\n",
       "                        ' --sys-prefix</code><br />then restart your server.' +\n",
       "                        '<br /><br />(Interactive output not available on ' +\n",
       "                        'static notebook viewer services like nbviewer.)';\n",
       "    } else if (res.status === 409) {\n",
       "        div.innerHTML = 'Visualization no longer in scope. Re-run this cell' +\n",
       "                        ' to see the visualization.';\n",
       "    } else if (res.ok) {\n",
       "        url = res.url;\n",
       "        div.innerHTML = '<iframe src=\\'' + url + '\\' style=\\'' +\n",
       "                        'width: 100%; height: 700px; border: 0;\\'>' +\n",
       "                        '</iframe><hr />Open in a: <a href=\\'' + url + '\\'' +\n",
       "                        ' target=\\'_blank\\'>new window</a>'\n",
       "    } else {\n",
       "        div.innerHTML = 'Something has gone wrong. Check notebook server for' +\n",
       "                        ' errors.';\n",
       "    }\n",
       "});\n",
       "})(this.parentElement, '/qiime2/redirect?location=/tmp/qiime2/jovyan/data/f3cf44e4-fbc6-4d58-8edc-c3ecd63e6329')\" src=\"data:image/gif;base64,R0lGODlhAQABAIAAAP///wAAACH5BAEAAAAALAAAAAABAAEAAAICRAEAOw==\" /></div>"
      ],
      "text/plain": [
       "<visualization: Visualization uuid: f3cf44e4-fbc6-4d58-8edc-c3ecd63e6329>"
      ]
     },
     "execution_count": 9,
     "metadata": {},
     "output_type": "execute_result"
    }
   ],
   "source": [
    "Visualization.load(f\"{data_dir}/demux_summary.qzv\")"
   ]
  },
  {
   "cell_type": "markdown",
   "id": "1b853438-416a-4d66-a2ac-80eabfc1f842",
   "metadata": {},
   "source": [
    "# 02 Denoising"
   ]
  },
  {
   "cell_type": "markdown",
   "id": "a8031c55-a0e2-4acf-a2e8-5f265cf3269d",
   "metadata": {},
   "source": [
    "1. Denoising Versuch mit trim left 0 und trunc len 0"
   ]
  },
  {
   "cell_type": "code",
   "execution_count": 12,
   "id": "8cf3d1e5-2571-47fe-8f03-bdd9ea990c87",
   "metadata": {
    "collapsed": true,
    "execution": {
     "iopub.execute_input": "2025-10-15T11:13:00.520393Z",
     "iopub.status.busy": "2025-10-15T11:13:00.519615Z",
     "iopub.status.idle": "2025-10-15T11:27:18.916860Z",
     "shell.execute_reply": "2025-10-15T11:27:18.915642Z",
     "shell.execute_reply.started": "2025-10-15T11:13:00.520350Z"
    },
    "jupyter": {
     "outputs_hidden": true
    },
    "tags": []
   },
   "outputs": [
    {
     "name": "stdout",
     "output_type": "stream",
     "text": [
      "/opt/conda/lib/python3.10/site-packages/unifrac/__init__.py:9: UserWarning: pkg_resources is deprecated as an API. See https://setuptools.pypa.io/en/latest/pkg_resources.html. The pkg_resources package is slated for removal as early as 2025-11-30. Refrain from using this package or pin to Setuptools<81.\n",
      "  import pkg_resources\n",
      "\u001b[32mSaved FeatureTable[Frequency] to: fungut_data/dada2_table_1.qza\u001b[0m\n",
      "\u001b[32mSaved FeatureData[Sequence] to: fungut_data/dada2_rep_seqs_1.qza\u001b[0m\n",
      "\u001b[32mSaved SampleData[DADA2Stats] to: fungut_data/dada2_stats_1.qza\u001b[0m\n",
      "\u001b[0m\u001b[?25h"
     ]
    }
   ],
   "source": [
    "!qiime dada2 denoise-single \\\n",
    "   --i-demultiplexed-seqs $data_dir/fungut_forward_reads.qza \\\n",
    "   --p-trim-left 0 \\\n",
    "   --p-trunc-len 0 \\\n",
    "   --p-min-fold-parent-over-abundance 4 \\\n",
    "   --p-max-ee 4 \\\n",
    "    --o-representative-sequences $data_dir/dada2_rep_seqs_1.qza \\\n",
    "    --o-table $data_dir/dada2_table_1.qza \\\n",
    "    --o-denoising-stats $data_dir/dada2_stats_1.qza"
   ]
  },
  {
   "cell_type": "code",
   "execution_count": 20,
   "id": "9038f08b-5d53-4c61-873f-af915c5c8a5e",
   "metadata": {
    "collapsed": true,
    "execution": {
     "iopub.execute_input": "2025-10-15T11:51:06.435260Z",
     "iopub.status.busy": "2025-10-15T11:51:06.434841Z",
     "iopub.status.idle": "2025-10-15T11:51:38.830679Z",
     "shell.execute_reply": "2025-10-15T11:51:38.829791Z",
     "shell.execute_reply.started": "2025-10-15T11:51:06.435227Z"
    },
    "jupyter": {
     "outputs_hidden": true
    },
    "tags": []
   },
   "outputs": [
    {
     "name": "stdout",
     "output_type": "stream",
     "text": [
      "/opt/conda/lib/python3.10/site-packages/unifrac/__init__.py:9: UserWarning: pkg_resources is deprecated as an API. See https://setuptools.pypa.io/en/latest/pkg_resources.html. The pkg_resources package is slated for removal as early as 2025-11-30. Refrain from using this package or pin to Setuptools<81.\n",
      "  import pkg_resources\n",
      "\u001b[32mSaved Visualization to: fungut_data/dada2_stats_1.qzv\u001b[0m\n",
      "\u001b[0m\u001b[?25h"
     ]
    }
   ],
   "source": [
    "! qiime metadata tabulate \\\n",
    "    --m-input-file $data_dir/dada2_stats_1.qza \\\n",
    "    --o-visualization $data_dir/dada2_stats_1.qzv"
   ]
  },
  {
   "cell_type": "code",
   "execution_count": 23,
   "id": "c4520275-69d3-475d-a71a-f118e3b3df40",
   "metadata": {
    "collapsed": true,
    "execution": {
     "iopub.execute_input": "2025-10-15T11:52:03.466858Z",
     "iopub.status.busy": "2025-10-15T11:52:03.465515Z",
     "iopub.status.idle": "2025-10-15T11:52:03.512259Z",
     "shell.execute_reply": "2025-10-15T11:52:03.511117Z",
     "shell.execute_reply.started": "2025-10-15T11:52:03.466790Z"
    },
    "jupyter": {
     "outputs_hidden": true
    },
    "tags": []
   },
   "outputs": [
    {
     "data": {
      "text/html": [
       "<div><img onload=\"(function(div, url){\n",
       "if (typeof require !== 'undefined') {\n",
       "    var baseURL = require.toUrl('').split('/').slice(0, -2).join('/');\n",
       "} else {\n",
       "    var baseURL = JSON.parse(\n",
       "        document.getElementById('jupyter-config-data').innerHTML\n",
       "    ).baseUrl.slice(0, -1);\n",
       "}\n",
       "url = baseURL + url;\n",
       "fetch(url).then(function(res) {\n",
       "    if (res.status === 404) {\n",
       "        div.innerHTML = 'Install QIIME 2 Jupyter extension with:<br />' +\n",
       "                        '<code>jupyter server extension enable --py qiime2' +\n",
       "                        ' --sys-prefix</code><br />then restart your server.' +\n",
       "                        '<br /><br />(Interactive output not available on ' +\n",
       "                        'static notebook viewer services like nbviewer.)';\n",
       "    } else if (res.status === 409) {\n",
       "        div.innerHTML = 'Visualization no longer in scope. Re-run this cell' +\n",
       "                        ' to see the visualization.';\n",
       "    } else if (res.ok) {\n",
       "        url = res.url;\n",
       "        div.innerHTML = '<iframe src=\\'' + url + '\\' style=\\'' +\n",
       "                        'width: 100%; height: 700px; border: 0;\\'>' +\n",
       "                        '</iframe><hr />Open in a: <a href=\\'' + url + '\\'' +\n",
       "                        ' target=\\'_blank\\'>new window</a>'\n",
       "    } else {\n",
       "        div.innerHTML = 'Something has gone wrong. Check notebook server for' +\n",
       "                        ' errors.';\n",
       "    }\n",
       "});\n",
       "})(this.parentElement, '/qiime2/redirect?location=/tmp/qiime2/jovyan/data/0be95d0b-691d-4067-9bf4-7a742c4460a8')\" src=\"data:image/gif;base64,R0lGODlhAQABAIAAAP///wAAACH5BAEAAAAALAAAAAABAAEAAAICRAEAOw==\" /></div>"
      ],
      "text/plain": [
       "<visualization: Visualization uuid: 0be95d0b-691d-4067-9bf4-7a742c4460a8>"
      ]
     },
     "execution_count": 23,
     "metadata": {},
     "output_type": "execute_result"
    }
   ],
   "source": [
    "Visualization.load(f\"{data_dir}/dada2_stats_1.qzv\")"
   ]
  },
  {
   "cell_type": "code",
   "execution_count": 25,
   "id": "dbfa724b-0056-4f82-bb65-4550c0f6fba8",
   "metadata": {
    "collapsed": true,
    "execution": {
     "iopub.execute_input": "2025-10-15T12:04:05.344568Z",
     "iopub.status.busy": "2025-10-15T12:04:05.343274Z",
     "iopub.status.idle": "2025-10-15T12:04:35.220465Z",
     "shell.execute_reply": "2025-10-15T12:04:35.218949Z",
     "shell.execute_reply.started": "2025-10-15T12:04:05.344504Z"
    },
    "jupyter": {
     "outputs_hidden": true
    },
    "tags": []
   },
   "outputs": [
    {
     "name": "stdout",
     "output_type": "stream",
     "text": [
      "/opt/conda/lib/python3.10/site-packages/unifrac/__init__.py:9: UserWarning: pkg_resources is deprecated as an API. See https://setuptools.pypa.io/en/latest/pkg_resources.html. The pkg_resources package is slated for removal as early as 2025-11-30. Refrain from using this package or pin to Setuptools<81.\n",
      "  import pkg_resources\n",
      "\u001b[32mSaved Visualization to: fungut_data/dada2_rep_seqs_1.qzv\u001b[0m\n",
      "\u001b[0m\u001b[?25h"
     ]
    }
   ],
   "source": [
    "! qiime feature-table tabulate-seqs \\\n",
    "    --i-data $data_dir/dada2_rep_seqs_1.qza \\\n",
    "    --o-visualization $data_dir/dada2_rep_seqs_1.qzv"
   ]
  },
  {
   "cell_type": "code",
   "execution_count": 26,
   "id": "dc609b42-1349-4f40-9782-6cf646556e34",
   "metadata": {
    "execution": {
     "iopub.execute_input": "2025-10-15T12:04:43.780714Z",
     "iopub.status.busy": "2025-10-15T12:04:43.779459Z",
     "iopub.status.idle": "2025-10-15T12:04:43.813767Z",
     "shell.execute_reply": "2025-10-15T12:04:43.812954Z",
     "shell.execute_reply.started": "2025-10-15T12:04:43.780655Z"
    },
    "tags": []
   },
   "outputs": [
    {
     "data": {
      "text/html": [
       "<div><img onload=\"(function(div, url){\n",
       "if (typeof require !== 'undefined') {\n",
       "    var baseURL = require.toUrl('').split('/').slice(0, -2).join('/');\n",
       "} else {\n",
       "    var baseURL = JSON.parse(\n",
       "        document.getElementById('jupyter-config-data').innerHTML\n",
       "    ).baseUrl.slice(0, -1);\n",
       "}\n",
       "url = baseURL + url;\n",
       "fetch(url).then(function(res) {\n",
       "    if (res.status === 404) {\n",
       "        div.innerHTML = 'Install QIIME 2 Jupyter extension with:<br />' +\n",
       "                        '<code>jupyter server extension enable --py qiime2' +\n",
       "                        ' --sys-prefix</code><br />then restart your server.' +\n",
       "                        '<br /><br />(Interactive output not available on ' +\n",
       "                        'static notebook viewer services like nbviewer.)';\n",
       "    } else if (res.status === 409) {\n",
       "        div.innerHTML = 'Visualization no longer in scope. Re-run this cell' +\n",
       "                        ' to see the visualization.';\n",
       "    } else if (res.ok) {\n",
       "        url = res.url;\n",
       "        div.innerHTML = '<iframe src=\\'' + url + '\\' style=\\'' +\n",
       "                        'width: 100%; height: 700px; border: 0;\\'>' +\n",
       "                        '</iframe><hr />Open in a: <a href=\\'' + url + '\\'' +\n",
       "                        ' target=\\'_blank\\'>new window</a>'\n",
       "    } else {\n",
       "        div.innerHTML = 'Something has gone wrong. Check notebook server for' +\n",
       "                        ' errors.';\n",
       "    }\n",
       "});\n",
       "})(this.parentElement, '/qiime2/redirect?location=/tmp/qiime2/jovyan/data/7aff86e4-c64c-4acb-a684-425833003074')\" src=\"data:image/gif;base64,R0lGODlhAQABAIAAAP///wAAACH5BAEAAAAALAAAAAABAAEAAAICRAEAOw==\" /></div>"
      ],
      "text/plain": [
       "<visualization: Visualization uuid: 7aff86e4-c64c-4acb-a684-425833003074>"
      ]
     },
     "execution_count": 26,
     "metadata": {},
     "output_type": "execute_result"
    }
   ],
   "source": [
    "Visualization.load(f\"{data_dir}/dada2_rep_seqs_1.qzv\")"
   ]
  },
  {
   "cell_type": "code",
   "execution_count": 27,
   "id": "92090998-28bd-4b0a-9209-4a9f4b1c2074",
   "metadata": {
    "collapsed": true,
    "execution": {
     "iopub.execute_input": "2025-10-15T12:04:57.996578Z",
     "iopub.status.busy": "2025-10-15T12:04:57.994994Z",
     "iopub.status.idle": "2025-10-15T12:05:28.412923Z",
     "shell.execute_reply": "2025-10-15T12:05:28.410850Z",
     "shell.execute_reply.started": "2025-10-15T12:04:57.996519Z"
    },
    "jupyter": {
     "outputs_hidden": true
    },
    "tags": []
   },
   "outputs": [
    {
     "name": "stdout",
     "output_type": "stream",
     "text": [
      "/opt/conda/lib/python3.10/site-packages/unifrac/__init__.py:9: UserWarning: pkg_resources is deprecated as an API. See https://setuptools.pypa.io/en/latest/pkg_resources.html. The pkg_resources package is slated for removal as early as 2025-11-30. Refrain from using this package or pin to Setuptools<81.\n",
      "  import pkg_resources\n",
      "\u001b[32mSaved Visualization to: fungut_data/dada2_table_1.qzv\u001b[0m\n",
      "\u001b[0m\u001b[?25h"
     ]
    }
   ],
   "source": [
    "! qiime feature-table summarize \\\n",
    "    --i-table $data_dir/dada2_table_1.qza \\\n",
    "    --m-sample-metadata-file $data_dir/fungut_metadata.tsv \\\n",
    "    --o-visualization $data_dir/dada2_table_1.qzv"
   ]
  },
  {
   "cell_type": "code",
   "execution_count": 28,
   "id": "bbc6ac7e-5753-44e0-bd31-1d23fc02dc2a",
   "metadata": {
    "collapsed": true,
    "execution": {
     "iopub.execute_input": "2025-10-15T12:05:28.416315Z",
     "iopub.status.busy": "2025-10-15T12:05:28.415616Z",
     "iopub.status.idle": "2025-10-15T12:05:28.451060Z",
     "shell.execute_reply": "2025-10-15T12:05:28.450456Z",
     "shell.execute_reply.started": "2025-10-15T12:05:28.416257Z"
    },
    "jupyter": {
     "outputs_hidden": true
    },
    "tags": []
   },
   "outputs": [
    {
     "data": {
      "text/html": [
       "<div><img onload=\"(function(div, url){\n",
       "if (typeof require !== 'undefined') {\n",
       "    var baseURL = require.toUrl('').split('/').slice(0, -2).join('/');\n",
       "} else {\n",
       "    var baseURL = JSON.parse(\n",
       "        document.getElementById('jupyter-config-data').innerHTML\n",
       "    ).baseUrl.slice(0, -1);\n",
       "}\n",
       "url = baseURL + url;\n",
       "fetch(url).then(function(res) {\n",
       "    if (res.status === 404) {\n",
       "        div.innerHTML = 'Install QIIME 2 Jupyter extension with:<br />' +\n",
       "                        '<code>jupyter server extension enable --py qiime2' +\n",
       "                        ' --sys-prefix</code><br />then restart your server.' +\n",
       "                        '<br /><br />(Interactive output not available on ' +\n",
       "                        'static notebook viewer services like nbviewer.)';\n",
       "    } else if (res.status === 409) {\n",
       "        div.innerHTML = 'Visualization no longer in scope. Re-run this cell' +\n",
       "                        ' to see the visualization.';\n",
       "    } else if (res.ok) {\n",
       "        url = res.url;\n",
       "        div.innerHTML = '<iframe src=\\'' + url + '\\' style=\\'' +\n",
       "                        'width: 100%; height: 700px; border: 0;\\'>' +\n",
       "                        '</iframe><hr />Open in a: <a href=\\'' + url + '\\'' +\n",
       "                        ' target=\\'_blank\\'>new window</a>'\n",
       "    } else {\n",
       "        div.innerHTML = 'Something has gone wrong. Check notebook server for' +\n",
       "                        ' errors.';\n",
       "    }\n",
       "});\n",
       "})(this.parentElement, '/qiime2/redirect?location=/tmp/qiime2/jovyan/data/e2be7ee9-5060-4bcb-948e-d72b8af345f3')\" src=\"data:image/gif;base64,R0lGODlhAQABAIAAAP///wAAACH5BAEAAAAALAAAAAABAAEAAAICRAEAOw==\" /></div>"
      ],
      "text/plain": [
       "<visualization: Visualization uuid: e2be7ee9-5060-4bcb-948e-d72b8af345f3>"
      ]
     },
     "execution_count": 28,
     "metadata": {},
     "output_type": "execute_result"
    }
   ],
   "source": [
    "Visualization.load(f\"{data_dir}/dada2_table_1.qzv\")"
   ]
  },
  {
   "cell_type": "markdown",
   "id": "19b7bbe2-6461-4c19-aee6-83fa7b310d7d",
   "metadata": {},
   "source": []
  },
  {
   "cell_type": "markdown",
   "id": "c4889e58-38db-412c-b2c8-0568373b0e00",
   "metadata": {},
   "source": [
    "2. Denoising Versuch mit trim left 15 und trunc len 130"
   ]
  },
  {
   "cell_type": "code",
   "execution_count": 24,
   "id": "e2f10677-2f1f-4e8b-b35a-659ccda61d26",
   "metadata": {
    "collapsed": true,
    "execution": {
     "iopub.execute_input": "2025-10-15T11:52:18.958037Z",
     "iopub.status.busy": "2025-10-15T11:52:18.957296Z",
     "iopub.status.idle": "2025-10-15T12:03:34.927021Z",
     "shell.execute_reply": "2025-10-15T12:03:34.925041Z",
     "shell.execute_reply.started": "2025-10-15T11:52:18.957985Z"
    },
    "jupyter": {
     "outputs_hidden": true
    },
    "tags": []
   },
   "outputs": [
    {
     "name": "stdout",
     "output_type": "stream",
     "text": [
      "/opt/conda/lib/python3.10/site-packages/unifrac/__init__.py:9: UserWarning: pkg_resources is deprecated as an API. See https://setuptools.pypa.io/en/latest/pkg_resources.html. The pkg_resources package is slated for removal as early as 2025-11-30. Refrain from using this package or pin to Setuptools<81.\n",
      "  import pkg_resources\n",
      "\u001b[32mSaved FeatureTable[Frequency] to: fungut_data/dada2_table_2.qza\u001b[0m\n",
      "\u001b[32mSaved FeatureData[Sequence] to: fungut_data/dada2_rep_seqs_2.qza\u001b[0m\n",
      "\u001b[32mSaved SampleData[DADA2Stats] to: fungut_data/dada2_stats_2.qza\u001b[0m\n",
      "\u001b[0m\u001b[?25h"
     ]
    }
   ],
   "source": [
    "!qiime dada2 denoise-single \\\n",
    "   --i-demultiplexed-seqs $data_dir/fungut_forward_reads.qza \\\n",
    "   --p-trim-left 15 \\\n",
    "   --p-trunc-len 130 \\\n",
    "   --p-min-fold-parent-over-abundance 4 \\\n",
    "   --p-max-ee 4 \\\n",
    "    --o-representative-sequences $data_dir/dada2_rep_seqs_2.qza \\\n",
    "    --o-table $data_dir/dada2_table_2.qza \\\n",
    "    --o-denoising-stats $data_dir/dada2_stats_2.qza"
   ]
  },
  {
   "cell_type": "code",
   "execution_count": 29,
   "id": "cd199b20-b564-4936-be41-d22307c6c779",
   "metadata": {
    "collapsed": true,
    "execution": {
     "iopub.execute_input": "2025-10-15T12:05:55.846352Z",
     "iopub.status.busy": "2025-10-15T12:05:55.845751Z",
     "iopub.status.idle": "2025-10-15T12:06:25.482151Z",
     "shell.execute_reply": "2025-10-15T12:06:25.480657Z",
     "shell.execute_reply.started": "2025-10-15T12:05:55.846303Z"
    },
    "jupyter": {
     "outputs_hidden": true
    },
    "tags": []
   },
   "outputs": [
    {
     "name": "stdout",
     "output_type": "stream",
     "text": [
      "/opt/conda/lib/python3.10/site-packages/unifrac/__init__.py:9: UserWarning: pkg_resources is deprecated as an API. See https://setuptools.pypa.io/en/latest/pkg_resources.html. The pkg_resources package is slated for removal as early as 2025-11-30. Refrain from using this package or pin to Setuptools<81.\n",
      "  import pkg_resources\n",
      "\u001b[32mSaved Visualization to: fungut_data/dada2_stats_2.qzv\u001b[0m\n",
      "\u001b[0m\u001b[?25h"
     ]
    }
   ],
   "source": [
    "! qiime metadata tabulate \\\n",
    "    --m-input-file $data_dir/dada2_stats_2.qza \\\n",
    "    --o-visualization $data_dir/dada2_stats_2.qzv"
   ]
  },
  {
   "cell_type": "code",
   "execution_count": 30,
   "id": "bfdce52c-2692-4c70-90d3-f68e06a1b223",
   "metadata": {
    "collapsed": true,
    "execution": {
     "iopub.execute_input": "2025-10-15T12:06:25.485444Z",
     "iopub.status.busy": "2025-10-15T12:06:25.484887Z",
     "iopub.status.idle": "2025-10-15T12:06:25.525501Z",
     "shell.execute_reply": "2025-10-15T12:06:25.524435Z",
     "shell.execute_reply.started": "2025-10-15T12:06:25.485391Z"
    },
    "jupyter": {
     "outputs_hidden": true
    },
    "tags": []
   },
   "outputs": [
    {
     "data": {
      "text/html": [
       "<div><img onload=\"(function(div, url){\n",
       "if (typeof require !== 'undefined') {\n",
       "    var baseURL = require.toUrl('').split('/').slice(0, -2).join('/');\n",
       "} else {\n",
       "    var baseURL = JSON.parse(\n",
       "        document.getElementById('jupyter-config-data').innerHTML\n",
       "    ).baseUrl.slice(0, -1);\n",
       "}\n",
       "url = baseURL + url;\n",
       "fetch(url).then(function(res) {\n",
       "    if (res.status === 404) {\n",
       "        div.innerHTML = 'Install QIIME 2 Jupyter extension with:<br />' +\n",
       "                        '<code>jupyter server extension enable --py qiime2' +\n",
       "                        ' --sys-prefix</code><br />then restart your server.' +\n",
       "                        '<br /><br />(Interactive output not available on ' +\n",
       "                        'static notebook viewer services like nbviewer.)';\n",
       "    } else if (res.status === 409) {\n",
       "        div.innerHTML = 'Visualization no longer in scope. Re-run this cell' +\n",
       "                        ' to see the visualization.';\n",
       "    } else if (res.ok) {\n",
       "        url = res.url;\n",
       "        div.innerHTML = '<iframe src=\\'' + url + '\\' style=\\'' +\n",
       "                        'width: 100%; height: 700px; border: 0;\\'>' +\n",
       "                        '</iframe><hr />Open in a: <a href=\\'' + url + '\\'' +\n",
       "                        ' target=\\'_blank\\'>new window</a>'\n",
       "    } else {\n",
       "        div.innerHTML = 'Something has gone wrong. Check notebook server for' +\n",
       "                        ' errors.';\n",
       "    }\n",
       "});\n",
       "})(this.parentElement, '/qiime2/redirect?location=/tmp/qiime2/jovyan/data/194341aa-a4a6-4841-bd3e-30a012ab58e5')\" src=\"data:image/gif;base64,R0lGODlhAQABAIAAAP///wAAACH5BAEAAAAALAAAAAABAAEAAAICRAEAOw==\" /></div>"
      ],
      "text/plain": [
       "<visualization: Visualization uuid: 194341aa-a4a6-4841-bd3e-30a012ab58e5>"
      ]
     },
     "execution_count": 30,
     "metadata": {},
     "output_type": "execute_result"
    }
   ],
   "source": [
    "Visualization.load(f\"{data_dir}/dada2_stats_2.qzv\")"
   ]
  },
  {
   "cell_type": "code",
   "execution_count": 31,
   "id": "7c013a3e-03da-4655-a288-3cae5d8e1b81",
   "metadata": {
    "collapsed": true,
    "execution": {
     "iopub.execute_input": "2025-10-15T12:06:25.526658Z",
     "iopub.status.busy": "2025-10-15T12:06:25.526457Z",
     "iopub.status.idle": "2025-10-15T12:06:54.868155Z",
     "shell.execute_reply": "2025-10-15T12:06:54.866548Z",
     "shell.execute_reply.started": "2025-10-15T12:06:25.526640Z"
    },
    "jupyter": {
     "outputs_hidden": true
    },
    "tags": []
   },
   "outputs": [
    {
     "name": "stdout",
     "output_type": "stream",
     "text": [
      "/opt/conda/lib/python3.10/site-packages/unifrac/__init__.py:9: UserWarning: pkg_resources is deprecated as an API. See https://setuptools.pypa.io/en/latest/pkg_resources.html. The pkg_resources package is slated for removal as early as 2025-11-30. Refrain from using this package or pin to Setuptools<81.\n",
      "  import pkg_resources\n",
      "\u001b[32mSaved Visualization to: fungut_data/dada2_rep_seqs_2.qzv\u001b[0m\n",
      "\u001b[0m\u001b[?25h"
     ]
    }
   ],
   "source": [
    "! qiime feature-table tabulate-seqs \\\n",
    "    --i-data $data_dir/dada2_rep_seqs_2.qza \\\n",
    "    --o-visualization $data_dir/dada2_rep_seqs_2.qzv"
   ]
  },
  {
   "cell_type": "code",
   "execution_count": 32,
   "id": "b3d4373f-323c-40c2-9908-d8d5333c75fd",
   "metadata": {
    "collapsed": true,
    "execution": {
     "iopub.execute_input": "2025-10-15T12:06:54.873553Z",
     "iopub.status.busy": "2025-10-15T12:06:54.872210Z",
     "iopub.status.idle": "2025-10-15T12:06:54.905996Z",
     "shell.execute_reply": "2025-10-15T12:06:54.904554Z",
     "shell.execute_reply.started": "2025-10-15T12:06:54.873498Z"
    },
    "jupyter": {
     "outputs_hidden": true
    },
    "tags": []
   },
   "outputs": [
    {
     "data": {
      "text/html": [
       "<div><img onload=\"(function(div, url){\n",
       "if (typeof require !== 'undefined') {\n",
       "    var baseURL = require.toUrl('').split('/').slice(0, -2).join('/');\n",
       "} else {\n",
       "    var baseURL = JSON.parse(\n",
       "        document.getElementById('jupyter-config-data').innerHTML\n",
       "    ).baseUrl.slice(0, -1);\n",
       "}\n",
       "url = baseURL + url;\n",
       "fetch(url).then(function(res) {\n",
       "    if (res.status === 404) {\n",
       "        div.innerHTML = 'Install QIIME 2 Jupyter extension with:<br />' +\n",
       "                        '<code>jupyter server extension enable --py qiime2' +\n",
       "                        ' --sys-prefix</code><br />then restart your server.' +\n",
       "                        '<br /><br />(Interactive output not available on ' +\n",
       "                        'static notebook viewer services like nbviewer.)';\n",
       "    } else if (res.status === 409) {\n",
       "        div.innerHTML = 'Visualization no longer in scope. Re-run this cell' +\n",
       "                        ' to see the visualization.';\n",
       "    } else if (res.ok) {\n",
       "        url = res.url;\n",
       "        div.innerHTML = '<iframe src=\\'' + url + '\\' style=\\'' +\n",
       "                        'width: 100%; height: 700px; border: 0;\\'>' +\n",
       "                        '</iframe><hr />Open in a: <a href=\\'' + url + '\\'' +\n",
       "                        ' target=\\'_blank\\'>new window</a>'\n",
       "    } else {\n",
       "        div.innerHTML = 'Something has gone wrong. Check notebook server for' +\n",
       "                        ' errors.';\n",
       "    }\n",
       "});\n",
       "})(this.parentElement, '/qiime2/redirect?location=/tmp/qiime2/jovyan/data/d284a948-3cd7-469f-9327-7abb760e1706')\" src=\"data:image/gif;base64,R0lGODlhAQABAIAAAP///wAAACH5BAEAAAAALAAAAAABAAEAAAICRAEAOw==\" /></div>"
      ],
      "text/plain": [
       "<visualization: Visualization uuid: d284a948-3cd7-469f-9327-7abb760e1706>"
      ]
     },
     "execution_count": 32,
     "metadata": {},
     "output_type": "execute_result"
    }
   ],
   "source": [
    "Visualization.load(f\"{data_dir}/dada2_rep_seqs_2.qzv\")"
   ]
  },
  {
   "cell_type": "code",
   "execution_count": 33,
   "id": "fa47ca28-ad12-410f-ad26-cd8c11664187",
   "metadata": {
    "collapsed": true,
    "execution": {
     "iopub.execute_input": "2025-10-15T12:06:54.908346Z",
     "iopub.status.busy": "2025-10-15T12:06:54.907755Z",
     "iopub.status.idle": "2025-10-15T12:07:25.214193Z",
     "shell.execute_reply": "2025-10-15T12:07:25.212837Z",
     "shell.execute_reply.started": "2025-10-15T12:06:54.908301Z"
    },
    "jupyter": {
     "outputs_hidden": true
    },
    "tags": []
   },
   "outputs": [
    {
     "name": "stdout",
     "output_type": "stream",
     "text": [
      "/opt/conda/lib/python3.10/site-packages/unifrac/__init__.py:9: UserWarning: pkg_resources is deprecated as an API. See https://setuptools.pypa.io/en/latest/pkg_resources.html. The pkg_resources package is slated for removal as early as 2025-11-30. Refrain from using this package or pin to Setuptools<81.\n",
      "  import pkg_resources\n",
      "\u001b[32mSaved Visualization to: fungut_data/dada2_table_2.qzv\u001b[0m\n",
      "\u001b[0m\u001b[?25h"
     ]
    }
   ],
   "source": [
    "! qiime feature-table summarize \\\n",
    "    --i-table $data_dir/dada2_table_2.qza \\\n",
    "    --m-sample-metadata-file $data_dir/fungut_metadata.tsv \\\n",
    "    --o-visualization $data_dir/dada2_table_2.qzv"
   ]
  },
  {
   "cell_type": "code",
   "execution_count": 34,
   "id": "f7364e1b-8c83-4e1c-bb6b-669a08714c0a",
   "metadata": {
    "collapsed": true,
    "execution": {
     "iopub.execute_input": "2025-10-15T12:07:25.217020Z",
     "iopub.status.busy": "2025-10-15T12:07:25.216472Z",
     "iopub.status.idle": "2025-10-15T12:07:25.260072Z",
     "shell.execute_reply": "2025-10-15T12:07:25.259575Z",
     "shell.execute_reply.started": "2025-10-15T12:07:25.216970Z"
    },
    "jupyter": {
     "outputs_hidden": true
    },
    "tags": []
   },
   "outputs": [
    {
     "data": {
      "text/html": [
       "<div><img onload=\"(function(div, url){\n",
       "if (typeof require !== 'undefined') {\n",
       "    var baseURL = require.toUrl('').split('/').slice(0, -2).join('/');\n",
       "} else {\n",
       "    var baseURL = JSON.parse(\n",
       "        document.getElementById('jupyter-config-data').innerHTML\n",
       "    ).baseUrl.slice(0, -1);\n",
       "}\n",
       "url = baseURL + url;\n",
       "fetch(url).then(function(res) {\n",
       "    if (res.status === 404) {\n",
       "        div.innerHTML = 'Install QIIME 2 Jupyter extension with:<br />' +\n",
       "                        '<code>jupyter server extension enable --py qiime2' +\n",
       "                        ' --sys-prefix</code><br />then restart your server.' +\n",
       "                        '<br /><br />(Interactive output not available on ' +\n",
       "                        'static notebook viewer services like nbviewer.)';\n",
       "    } else if (res.status === 409) {\n",
       "        div.innerHTML = 'Visualization no longer in scope. Re-run this cell' +\n",
       "                        ' to see the visualization.';\n",
       "    } else if (res.ok) {\n",
       "        url = res.url;\n",
       "        div.innerHTML = '<iframe src=\\'' + url + '\\' style=\\'' +\n",
       "                        'width: 100%; height: 700px; border: 0;\\'>' +\n",
       "                        '</iframe><hr />Open in a: <a href=\\'' + url + '\\'' +\n",
       "                        ' target=\\'_blank\\'>new window</a>'\n",
       "    } else {\n",
       "        div.innerHTML = 'Something has gone wrong. Check notebook server for' +\n",
       "                        ' errors.';\n",
       "    }\n",
       "});\n",
       "})(this.parentElement, '/qiime2/redirect?location=/tmp/qiime2/jovyan/data/3e90f270-885e-47ea-a7e8-6d605b846014')\" src=\"data:image/gif;base64,R0lGODlhAQABAIAAAP///wAAACH5BAEAAAAALAAAAAABAAEAAAICRAEAOw==\" /></div>"
      ],
      "text/plain": [
       "<visualization: Visualization uuid: 3e90f270-885e-47ea-a7e8-6d605b846014>"
      ]
     },
     "execution_count": 34,
     "metadata": {},
     "output_type": "execute_result"
    }
   ],
   "source": [
    "Visualization.load(f\"{data_dir}/dada2_table_2.qzv\")"
   ]
  },
  {
   "cell_type": "markdown",
   "id": "82b02b51-f332-412a-9aa8-fd6173257d9e",
   "metadata": {
    "execution": {
     "iopub.execute_input": "2025-10-15T09:32:46.029016Z",
     "iopub.status.busy": "2025-10-15T09:32:46.028062Z",
     "iopub.status.idle": "2025-10-15T09:32:46.032468Z",
     "shell.execute_reply": "2025-10-15T09:32:46.031780Z",
     "shell.execute_reply.started": "2025-10-15T09:32:46.028955Z"
    },
    "tags": []
   },
   "source": [
    "# 03 Taxonomy"
   ]
  },
  {
   "cell_type": "code",
   "execution_count": null,
   "id": "5eecd432-9ba6-48e3-8b76-6e4e750db8d2",
   "metadata": {},
   "outputs": [],
   "source": []
  }
 ],
 "metadata": {
  "kernelspec": {
   "display_name": "QIIME 2",
   "language": "python",
   "name": "python3"
  },
  "language_info": {
   "codemirror_mode": {
    "name": "ipython",
    "version": 3
   },
   "file_extension": ".py",
   "mimetype": "text/x-python",
   "name": "python",
   "nbconvert_exporter": "python",
   "pygments_lexer": "ipython3",
   "version": "3.10.14"
  }
 },
 "nbformat": 4,
 "nbformat_minor": 5
}
