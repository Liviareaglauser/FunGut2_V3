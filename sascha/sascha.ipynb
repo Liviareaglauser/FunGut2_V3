{
 "cells": [
  {
   "cell_type": "code",
   "execution_count": null,
   "id": "d72ee92c-eca8-4a75-98d8-4349309c41bc",
   "metadata": {},
   "outputs": [],
   "source": [
    "hallo"
   ]
  },
  {
   "cell_type": "code",
   "execution_count": null,
   "id": "ca80d757-68e6-4f4e-9fa0-87824522fcdc",
   "metadata": {},
   "outputs": [],
   "source": [
    "ciao"
   ]
  }
 ],
 "metadata": {
  "kernelspec": {
   "display_name": "QIIME 2",
   "language": "python",
   "name": "python3"
  },
  "language_info": {
   "codemirror_mode": {
    "name": "ipython",
    "version": 3
   },
   "file_extension": ".py",
   "mimetype": "text/x-python",
   "name": "python",
   "nbconvert_exporter": "python",
   "pygments_lexer": "ipython3",
   "version": "3.10.14"
  }
 },
 "nbformat": 4,
 "nbformat_minor": 5
}
