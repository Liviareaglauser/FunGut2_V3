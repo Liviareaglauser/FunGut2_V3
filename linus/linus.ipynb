{
 "cells": [
  {
   "cell_type": "markdown",
   "id": "2cc1e140-76d9-441b-a299-42e47072e6ea",
   "metadata": {},
   "source": [
    "# FunGut - hell yeah lads lets get after it "
   ]
  },
  {
   "cell_type": "markdown",
   "id": "61ac85c4-6de2-4148-9b66-22c9612f4787",
   "metadata": {
    "tags": []
   },
   "source": [
    "# 0. Packages and Directory"
   ]
  },
  {
   "cell_type": "markdown",
   "id": "bedf2d50-39fa-4585-b331-ebc5592efa3c",
   "metadata": {
    "tags": []
   },
   "source": [
    "# 1. Data Import"
   ]
  },
  {
   "cell_type": "markdown",
   "id": "c863fb74-826f-4f93-a15a-ccb9435d72dc",
   "metadata": {},
   "source": [
    "import data here"
   ]
  },
  {
   "cell_type": "code",
   "execution_count": null,
   "id": "8abde71a-aa1a-48aa-bc0e-9e5a366fd954",
   "metadata": {},
   "outputs": [],
   "source": [
    "qiime demux summarize \\\n",
    "  --i-data your_sequences.qza \\\n",
    "  --o-visualization demux.qzv"
   ]
  },
  {
   "cell_type": "code",
   "execution_count": null,
   "id": "db335c1a-6d24-41c4-924a-710259c84043",
   "metadata": {},
   "outputs": [],
   "source": [
    "Visualization.load(f\"{data_dir}/demux.qzv\")"
   ]
  },
  {
   "cell_type": "markdown",
   "id": "447220a7-cb4a-4347-9496-880d85c7b448",
   "metadata": {
    "tags": []
   },
   "source": [
    "# 2. Denoising"
   ]
  },
  {
   "cell_type": "markdown",
   "id": "ffc2aa45-7ecb-420d-9159-91f2904c78b9",
   "metadata": {
    "tags": []
   },
   "source": [
    "# 3. Taxonomy"
   ]
  },
  {
   "cell_type": "markdown",
   "id": "c1bdbff7-6640-4396-9794-66b21d5ffd0f",
   "metadata": {},
   "source": [
    "## 3.1 Pre-trained classifier"
   ]
  },
  {
   "cell_type": "markdown",
   "id": "bea500e2-59a7-41b8-8948-6774386f2400",
   "metadata": {},
   "source": [
    "### 3.1.1 Download and Run a pretrained UNITE classifier trained for single-end ITS1 reads"
   ]
  },
  {
   "cell_type": "markdown",
   "id": "5d69ce12-8cf4-4dfb-865a-c485da44873a",
   "metadata": {
    "tags": []
   },
   "source": [
    "## 3.2 Training our own classifier"
   ]
  },
  {
   "cell_type": "markdown",
   "id": "0ee3d450-308a-451a-91f2-4cb3a0e72e8b",
   "metadata": {},
   "source": [
    "### 3.2.1 Import reference files"
   ]
  },
  {
   "cell_type": "markdown",
   "id": "0c1694ab-c12c-4cf2-a380-81025484e1af",
   "metadata": {},
   "source": [
    "### 3.2.2 Extract the region that matches our ITS1 amplicon"
   ]
  },
  {
   "cell_type": "markdown",
   "id": "0b604cf7-6b66-4111-8e89-243346f86481",
   "metadata": {},
   "source": [
    "### 3.2.3 Train the classifier"
   ]
  },
  {
   "cell_type": "markdown",
   "id": "6ef21473-e495-4397-bb30-bcee851861fa",
   "metadata": {},
   "source": [
    "### 3.2.4 Classifying our sequences"
   ]
  },
  {
   "cell_type": "markdown",
   "id": "970a7a94-5286-4480-8168-d7f278f4b5aa",
   "metadata": {},
   "source": [
    "### 3.2.5 Post-classification checks"
   ]
  }
 ],
 "metadata": {
  "kernelspec": {
   "display_name": "QIIME 2",
   "language": "python",
   "name": "python3"
  },
  "language_info": {
   "codemirror_mode": {
    "name": "ipython",
    "version": 3
   },
   "file_extension": ".py",
   "mimetype": "text/x-python",
   "name": "python",
   "nbconvert_exporter": "python",
   "pygments_lexer": "ipython3",
   "version": "3.10.14"
  }
 },
 "nbformat": 4,
 "nbformat_minor": 5
}
