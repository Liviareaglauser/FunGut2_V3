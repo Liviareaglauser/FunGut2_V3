{
 "cells": [
  {
   "cell_type": "markdown",
   "id": "b5faf083-ac8b-47db-8ad8-763dcb6b7bcd",
   "metadata": {
    "tags": []
   },
   "source": [
    "# Fungut"
   ]
  },
  {
   "cell_type": "markdown",
   "id": "19941a9b-a21b-4edb-aab3-311eca5dabb5",
   "metadata": {},
   "source": [
    "# 00 Packages and Directory"
   ]
  },
  {
   "cell_type": "code",
   "execution_count": 1,
   "id": "56a5745e-add5-4f1e-907d-c95b249b4e45",
   "metadata": {
    "execution": {
     "iopub.execute_input": "2025-10-22T08:17:30.405324Z",
     "iopub.status.busy": "2025-10-22T08:17:30.405034Z",
     "iopub.status.idle": "2025-10-22T08:17:32.206097Z",
     "shell.execute_reply": "2025-10-22T08:17:32.205202Z",
     "shell.execute_reply.started": "2025-10-22T08:17:30.405300Z"
    },
    "tags": []
   },
   "outputs": [],
   "source": [
    "import IPython\n",
    "\n",
    "import pandas as pd\n",
    "import matplotlib.pyplot as plt\n",
    "import qiime2 as q2\n",
    "import seaborn as sns\n",
    "from qiime2 import Visualization\n",
    "\n",
    "\n",
    "import os\n",
    "\n",
    "import matplotlib.pyplot as plt\n",
    "%matplotlib inline"
   ]
  },
  {
   "cell_type": "markdown",
   "id": "38445ca3-9c18-4c47-8252-26fe43e9cd6c",
   "metadata": {},
   "source": [
    "# 01 Data import"
   ]
  },
  {
   "cell_type": "code",
   "execution_count": 2,
   "id": "60a3b4c3-e780-4bcd-99b6-c2fd567c6991",
   "metadata": {
    "execution": {
     "iopub.execute_input": "2025-10-22T08:17:32.207458Z",
     "iopub.status.busy": "2025-10-22T08:17:32.207106Z",
     "iopub.status.idle": "2025-10-22T08:17:32.210886Z",
     "shell.execute_reply": "2025-10-22T08:17:32.209788Z",
     "shell.execute_reply.started": "2025-10-22T08:17:32.207439Z"
    },
    "tags": []
   },
   "outputs": [],
   "source": [
    "PATH = \"fungut_data/fungut_metadata.tsv\""
   ]
  },
  {
   "cell_type": "code",
   "execution_count": 3,
   "id": "17f73795-faa9-49e8-b9a2-b090076c3597",
   "metadata": {
    "execution": {
     "iopub.execute_input": "2025-10-22T08:17:32.211778Z",
     "iopub.status.busy": "2025-10-22T08:17:32.211567Z",
     "iopub.status.idle": "2025-10-22T08:17:32.224636Z",
     "shell.execute_reply": "2025-10-22T08:17:32.224021Z",
     "shell.execute_reply.started": "2025-10-22T08:17:32.211758Z"
    },
    "tags": []
   },
   "outputs": [],
   "source": [
    "surveys_df = pd.read_csv(PATH, sep=\"\\t\")"
   ]
  },
  {
   "cell_type": "code",
   "execution_count": 4,
   "id": "6e2442fb-c4e4-4ec8-a1c1-77b61928357a",
   "metadata": {
    "execution": {
     "iopub.execute_input": "2025-10-22T08:17:32.225962Z",
     "iopub.status.busy": "2025-10-22T08:17:32.225710Z",
     "iopub.status.idle": "2025-10-22T08:17:32.229076Z",
     "shell.execute_reply": "2025-10-22T08:17:32.228329Z",
     "shell.execute_reply.started": "2025-10-22T08:17:32.225941Z"
    },
    "tags": []
   },
   "outputs": [],
   "source": [
    "data_dir = 'fungut_data'"
   ]
  },
  {
   "cell_type": "code",
   "execution_count": 16,
   "id": "c9a1920e-4c65-4299-b7cd-d5e2b2a2faf1",
   "metadata": {
    "collapsed": true,
    "execution": {
     "iopub.execute_input": "2025-10-15T11:44:15.040812Z",
     "iopub.status.busy": "2025-10-15T11:44:15.040424Z",
     "iopub.status.idle": "2025-10-15T11:44:16.615648Z",
     "shell.execute_reply": "2025-10-15T11:44:16.613981Z",
     "shell.execute_reply.started": "2025-10-15T11:44:15.040783Z"
    },
    "jupyter": {
     "outputs_hidden": true
    },
    "tags": []
   },
   "outputs": [
    {
     "name": "stdout",
     "output_type": "stream",
     "text": [
      "\u001b[32mUUID\u001b[0m:        3638611d-1767-413b-9390-70ee3d78e4ff\n",
      "\u001b[32mType\u001b[0m:        SampleData[SequencesWithQuality]\n",
      "\u001b[32mData format\u001b[0m: SingleLanePerSampleSingleEndFastqDirFmt\n"
     ]
    }
   ],
   "source": [
    "!qiime tools peek $data_dir/fungut_forward_reads.qza"
   ]
  },
  {
   "cell_type": "code",
   "execution_count": 21,
   "id": "a279d38a-b3ee-4e2b-a12d-6b2153ddeb36",
   "metadata": {
    "collapsed": true,
    "execution": {
     "iopub.execute_input": "2025-10-15T09:36:47.846114Z",
     "iopub.status.busy": "2025-10-15T09:36:47.845723Z",
     "iopub.status.idle": "2025-10-15T09:38:21.068601Z",
     "shell.execute_reply": "2025-10-15T09:38:21.067402Z",
     "shell.execute_reply.started": "2025-10-15T09:36:47.846084Z"
    },
    "jupyter": {
     "outputs_hidden": true
    },
    "tags": []
   },
   "outputs": [
    {
     "name": "stdout",
     "output_type": "stream",
     "text": [
      "/opt/conda/lib/python3.10/site-packages/unifrac/__init__.py:9: UserWarning: pkg_resources is deprecated as an API. See https://setuptools.pypa.io/en/latest/pkg_resources.html. The pkg_resources package is slated for removal as early as 2025-11-30. Refrain from using this package or pin to Setuptools<81.\n",
      "  import pkg_resources\n",
      "\u001b[32mSaved Visualization to: final/fungut_data/demux_summary.qzv\u001b[0m\n",
      "\u001b[0m\u001b[?25h"
     ]
    }
   ],
   "source": [
    "!qiime demux summarize \\\n",
    "  --i-data $data_dir/fungut_forward_reads.qza \\\n",
    "  --o-visualization $data_dir/demux_summary.qzv"
   ]
  },
  {
   "cell_type": "code",
   "execution_count": 9,
   "id": "c86a0e8d-b04c-4679-97ad-9c72eaf093e3",
   "metadata": {
    "collapsed": true,
    "execution": {
     "iopub.execute_input": "2025-10-22T08:19:32.607065Z",
     "iopub.status.busy": "2025-10-22T08:19:32.606230Z",
     "iopub.status.idle": "2025-10-22T08:19:32.663885Z",
     "shell.execute_reply": "2025-10-22T08:19:32.663186Z",
     "shell.execute_reply.started": "2025-10-22T08:19:32.607034Z"
    },
    "jupyter": {
     "outputs_hidden": true
    },
    "tags": []
   },
   "outputs": [
    {
     "data": {
      "text/html": [
       "<div><img onload=\"(function(div, url){\n",
       "if (typeof require !== 'undefined') {\n",
       "    var baseURL = require.toUrl('').split('/').slice(0, -2).join('/');\n",
       "} else {\n",
       "    var baseURL = JSON.parse(\n",
       "        document.getElementById('jupyter-config-data').innerHTML\n",
       "    ).baseUrl.slice(0, -1);\n",
       "}\n",
       "url = baseURL + url;\n",
       "fetch(url).then(function(res) {\n",
       "    if (res.status === 404) {\n",
       "        div.innerHTML = 'Install QIIME 2 Jupyter extension with:<br />' +\n",
       "                        '<code>jupyter server extension enable --py qiime2' +\n",
       "                        ' --sys-prefix</code><br />then restart your server.' +\n",
       "                        '<br /><br />(Interactive output not available on ' +\n",
       "                        'static notebook viewer services like nbviewer.)';\n",
       "    } else if (res.status === 409) {\n",
       "        div.innerHTML = 'Visualization no longer in scope. Re-run this cell' +\n",
       "                        ' to see the visualization.';\n",
       "    } else if (res.ok) {\n",
       "        url = res.url;\n",
       "        div.innerHTML = '<iframe src=\\'' + url + '\\' style=\\'' +\n",
       "                        'width: 100%; height: 700px; border: 0;\\'>' +\n",
       "                        '</iframe><hr />Open in a: <a href=\\'' + url + '\\'' +\n",
       "                        ' target=\\'_blank\\'>new window</a>'\n",
       "    } else {\n",
       "        div.innerHTML = 'Something has gone wrong. Check notebook server for' +\n",
       "                        ' errors.';\n",
       "    }\n",
       "});\n",
       "})(this.parentElement, '/qiime2/redirect?location=/tmp/qiime2/jovyan/data/f3cf44e4-fbc6-4d58-8edc-c3ecd63e6329')\" src=\"data:image/gif;base64,R0lGODlhAQABAIAAAP///wAAACH5BAEAAAAALAAAAAABAAEAAAICRAEAOw==\" /></div>"
      ],
      "text/plain": [
       "<visualization: Visualization uuid: f3cf44e4-fbc6-4d58-8edc-c3ecd63e6329>"
      ]
     },
     "execution_count": 9,
     "metadata": {},
     "output_type": "execute_result"
    }
   ],
   "source": [
    "Visualization.load(f\"{data_dir}/demux_summary.qzv\")"
   ]
  },
  {
   "cell_type": "markdown",
   "id": "1b853438-416a-4d66-a2ac-80eabfc1f842",
   "metadata": {},
   "source": [
    "# 02 Denoising"
   ]
  },
  {
   "cell_type": "markdown",
   "id": "a8031c55-a0e2-4acf-a2e8-5f265cf3269d",
   "metadata": {},
   "source": [
    "1. Denoising Versuch mit trim left 0 und trunc len 0"
   ]
  },
  {
   "cell_type": "code",
   "execution_count": 12,
   "id": "8cf3d1e5-2571-47fe-8f03-bdd9ea990c87",
   "metadata": {
    "collapsed": true,
    "execution": {
     "iopub.execute_input": "2025-10-15T11:13:00.520393Z",
     "iopub.status.busy": "2025-10-15T11:13:00.519615Z",
     "iopub.status.idle": "2025-10-15T11:27:18.916860Z",
     "shell.execute_reply": "2025-10-15T11:27:18.915642Z",
     "shell.execute_reply.started": "2025-10-15T11:13:00.520350Z"
    },
    "jupyter": {
     "outputs_hidden": true
    },
    "tags": []
   },
   "outputs": [
    {
     "name": "stdout",
     "output_type": "stream",
     "text": [
      "/opt/conda/lib/python3.10/site-packages/unifrac/__init__.py:9: UserWarning: pkg_resources is deprecated as an API. See https://setuptools.pypa.io/en/latest/pkg_resources.html. The pkg_resources package is slated for removal as early as 2025-11-30. Refrain from using this package or pin to Setuptools<81.\n",
      "  import pkg_resources\n",
      "\u001b[32mSaved FeatureTable[Frequency] to: fungut_data/dada2_table_1.qza\u001b[0m\n",
      "\u001b[32mSaved FeatureData[Sequence] to: fungut_data/dada2_rep_seqs_1.qza\u001b[0m\n",
      "\u001b[32mSaved SampleData[DADA2Stats] to: fungut_data/dada2_stats_1.qza\u001b[0m\n",
      "\u001b[0m\u001b[?25h"
     ]
    }
   ],
   "source": [
    "!qiime dada2 denoise-single \\\n",
    "   --i-demultiplexed-seqs $data_dir/fungut_forward_reads.qza \\\n",
    "   --p-trim-left 0 \\\n",
    "   --p-trunc-len 0 \\\n",
    "   --p-min-fold-parent-over-abundance 4 \\\n",
    "   --p-max-ee 4 \\\n",
    "    --o-representative-sequences $data_dir/dada2_rep_seqs_1.qza \\\n",
    "    --o-table $data_dir/dada2_table_1.qza \\\n",
    "    --o-denoising-stats $data_dir/dada2_stats_1.qza"
   ]
  },
  {
   "cell_type": "code",
   "execution_count": 5,
   "id": "9038f08b-5d53-4c61-873f-af915c5c8a5e",
   "metadata": {
    "collapsed": true,
    "execution": {
     "iopub.execute_input": "2025-10-22T08:17:39.246806Z",
     "iopub.status.busy": "2025-10-22T08:17:39.246532Z",
     "iopub.status.idle": "2025-10-22T08:17:53.689093Z",
     "shell.execute_reply": "2025-10-22T08:17:53.688166Z",
     "shell.execute_reply.started": "2025-10-22T08:17:39.246786Z"
    },
    "jupyter": {
     "outputs_hidden": true
    },
    "tags": []
   },
   "outputs": [
    {
     "name": "stdout",
     "output_type": "stream",
     "text": [
      "/opt/conda/lib/python3.10/site-packages/unifrac/__init__.py:9: UserWarning: pkg_resources is deprecated as an API. See https://setuptools.pypa.io/en/latest/pkg_resources.html. The pkg_resources package is slated for removal as early as 2025-11-30. Refrain from using this package or pin to Setuptools<81.\n",
      "  import pkg_resources\n",
      "^C\n",
      "R[write to console]: \n",
      "\n",
      "Traceback (most recent call last):\n",
      "  File \"/opt/conda/lib/python3.10/site-packages/q2cli/util.py\", line 275, in get_plugin_manager\n",
      "    return qiime2.sdk.PluginManager.reuse_existing()\n",
      "  File \"/opt/conda/lib/python3.10/site-packages/qiime2/sdk/plugin_manager.py\", line 58, in reuse_existing\n",
      "    raise UninitializedPluginManagerError\n",
      "qiime2.sdk.plugin_manager.UninitializedPluginManagerError\n",
      "\n",
      "During handling of the above exception, another exception occurred:\n",
      "\n",
      "Traceback (most recent call last):\n",
      "  File \"/opt/conda/bin/qiime\", line 11, in <module>\n",
      "    sys.exit(qiime())\n",
      "  File \"/opt/conda/lib/python3.10/site-packages/click/core.py\", line 1161, in __call__\n",
      "    return self.main(*args, **kwargs)\n",
      "  File \"/opt/conda/lib/python3.10/site-packages/click/core.py\", line 1082, in main\n",
      "    rv = self.invoke(ctx)\n",
      "  File \"/opt/conda/lib/python3.10/site-packages/click/core.py\", line 1697, in invoke\n",
      "    return _process_result(sub_ctx.command.invoke(sub_ctx))\n",
      "  File \"/opt/conda/lib/python3.10/site-packages/click/core.py\", line 1695, in invoke\n",
      "    sub_ctx = cmd.make_context(cmd_name, args, parent=ctx)\n",
      "  File \"/opt/conda/lib/python3.10/site-packages/click/core.py\", line 949, in make_context\n",
      "    self.parse_args(ctx, args)\n",
      "  File \"/opt/conda/lib/python3.10/site-packages/q2cli/click/command.py\", line 60, in parse_args\n",
      "    value, args = param.handle_parse_result(ctx, opts, args)\n",
      "  File \"/opt/conda/lib/python3.10/site-packages/click/core.py\", line 2403, in handle_parse_result\n",
      "    value = self.process_value(ctx, value)\n",
      "  File \"/opt/conda/lib/python3.10/site-packages/q2cli/click/option.py\", line 181, in process_value\n",
      "    return super().process_value(ctx, value)\n",
      "  File \"/opt/conda/lib/python3.10/site-packages/click/core.py\", line 2359, in process_value\n",
      "    value = self.type_cast_value(ctx, value)\n",
      "  File \"/opt/conda/lib/python3.10/site-packages/q2cli/click/option.py\", line 237, in type_cast_value\n",
      "    value = super().type_cast_value(ctx, value)\n",
      "  File \"/opt/conda/lib/python3.10/site-packages/click/core.py\", line 2345, in type_cast_value\n",
      "    return tuple(convert(x) for x in check_iter(value))\n",
      "  File \"/opt/conda/lib/python3.10/site-packages/click/core.py\", line 2345, in <genexpr>\n",
      "    return tuple(convert(x) for x in check_iter(value))\n",
      "  File \"/opt/conda/lib/python3.10/site-packages/click/core.py\", line 2319, in convert\n",
      "    return self.type(value, param=self, ctx=ctx)\n",
      "  File \"/opt/conda/lib/python3.10/site-packages/click/types.py\", line 84, in __call__\n",
      "    return self.convert(value, param, ctx)\n",
      "  File \"/opt/conda/lib/python3.10/site-packages/q2cli/click/type.py\", line 79, in convert\n",
      "    return self._convert_metadata(value, param, ctx)\n",
      "  File \"/opt/conda/lib/python3.10/site-packages/q2cli/click/type.py\", line 155, in _convert_metadata\n",
      "    metadata = q2cli.util.load_metadata(value)\n",
      "  File \"/opt/conda/lib/python3.10/site-packages/q2cli/util.py\", line 294, in load_metadata\n",
      "    metadata, error = _load_metadata_artifact(fp)\n",
      "  File \"/opt/conda/lib/python3.10/site-packages/q2cli/util.py\", line 313, in _load_metadata_artifact\n",
      "    artifact, error = _load_input(fp)\n",
      "  File \"/opt/conda/lib/python3.10/site-packages/q2cli/util.py\", line 355, in _load_input\n",
      "    _ = get_plugin_manager()\n",
      "  File \"/opt/conda/lib/python3.10/site-packages/q2cli/util.py\", line 287, in get_plugin_manager\n",
      "    return qiime2.sdk.PluginManager()\n",
      "  File \"/opt/conda/lib/python3.10/site-packages/qiime2/sdk/plugin_manager.py\", line 67, in __new__\n",
      "    self._init(add_plugins=add_plugins)\n",
      "  File \"/opt/conda/lib/python3.10/site-packages/qiime2/sdk/plugin_manager.py\", line 105, in _init\n",
      "    plugin = entry_point.load()\n",
      "  File \"/opt/conda/lib/python3.10/importlib/metadata/__init__.py\", line 171, in load\n",
      "    module = import_module(match.group('module'))\n",
      "  File \"/opt/conda/lib/python3.10/importlib/__init__.py\", line 126, in import_module\n",
      "    return _bootstrap._gcd_import(name[level:], package, level)\n",
      "  File \"<frozen importlib._bootstrap>\", line 1050, in _gcd_import\n",
      "  File \"<frozen importlib._bootstrap>\", line 1027, in _find_and_load\n",
      "  File \"<frozen importlib._bootstrap>\", line 992, in _find_and_load_unlocked\n",
      "  File \"<frozen importlib._bootstrap>\", line 241, in _call_with_frames_removed\n",
      "  File \"<frozen importlib._bootstrap>\", line 1050, in _gcd_import\n",
      "  File \"<frozen importlib._bootstrap>\", line 1027, in _find_and_load\n",
      "  File \"<frozen importlib._bootstrap>\", line 1006, in _find_and_load_unlocked\n",
      "  File \"<frozen importlib._bootstrap>\", line 688, in _load_unlocked\n",
      "  File \"<frozen importlib._bootstrap_external>\", line 883, in exec_module\n",
      "  File \"<frozen importlib._bootstrap>\", line 241, in _call_with_frames_removed\n",
      "  File \"/opt/conda/lib/python3.10/site-packages/q2_composition/__init__.py\", line 18, in <module>\n",
      "    from ._ancombc2 import ancombc2, ancombc2_visualizer\n",
      "  File \"/opt/conda/lib/python3.10/site-packages/q2_composition/_ancombc2.py\", line 35, in <module>\n",
      "    r_ancombc2 = importr('ANCOMBC')\n",
      "  File \"/opt/conda/lib/python3.10/site-packages/rpy2/robjects/packages.py\", line 477, in importr\n",
      "    ok = quiet_require(name, lib_loc=lib_loc)\n",
      "  File \"/opt/conda/lib/python3.10/site-packages/rpy2/robjects/packages.py\", line 90, in quiet_require\n",
      "    ok = _eval_quiet(expr)\n",
      "  File \"/opt/conda/lib/python3.10/site-packages/rpy2/robjects/packages.py\", line 54, in run_withoutwarnings\n",
      "    raise e\n",
      "  File \"/opt/conda/lib/python3.10/site-packages/rpy2/robjects/packages.py\", line 49, in run_withoutwarnings\n",
      "    res = func(*args, **kwargs)\n",
      "  File \"/opt/conda/lib/python3.10/site-packages/rpy2/robjects/packages.py\", line 62, in _eval_quiet\n",
      "    return _reval(expr)\n",
      "  File \"/opt/conda/lib/python3.10/site-packages/rpy2/rinterface_lib/conversion.py\", line 45, in _\n",
      "    cdata = function(*args, **kwargs)\n",
      "  File \"/opt/conda/lib/python3.10/site-packages/rpy2/rinterface.py\", line 817, in __call__\n",
      "    raise embedded.RRuntimeError(_rinterface._geterrmessage())\n",
      "rpy2.rinterface_lib.embedded.RRuntimeError\n",
      "\u001b[?25h"
     ]
    }
   ],
   "source": [
    "! qiime metadata tabulate \\\n",
    "    --m-input-file $data_dir/dada2_stats_1.qza \\\n",
    "    --o-visualization $data_dir/dada2_stats_1.qzv"
   ]
  },
  {
   "cell_type": "code",
   "execution_count": 6,
   "id": "c4520275-69d3-475d-a71a-f118e3b3df40",
   "metadata": {
    "execution": {
     "iopub.execute_input": "2025-10-22T08:17:57.621566Z",
     "iopub.status.busy": "2025-10-22T08:17:57.621266Z",
     "iopub.status.idle": "2025-10-22T08:17:57.713359Z",
     "shell.execute_reply": "2025-10-22T08:17:57.712833Z",
     "shell.execute_reply.started": "2025-10-22T08:17:57.621541Z"
    },
    "tags": []
   },
   "outputs": [
    {
     "data": {
      "text/html": [
       "<div><img onload=\"(function(div, url){\n",
       "if (typeof require !== 'undefined') {\n",
       "    var baseURL = require.toUrl('').split('/').slice(0, -2).join('/');\n",
       "} else {\n",
       "    var baseURL = JSON.parse(\n",
       "        document.getElementById('jupyter-config-data').innerHTML\n",
       "    ).baseUrl.slice(0, -1);\n",
       "}\n",
       "url = baseURL + url;\n",
       "fetch(url).then(function(res) {\n",
       "    if (res.status === 404) {\n",
       "        div.innerHTML = 'Install QIIME 2 Jupyter extension with:<br />' +\n",
       "                        '<code>jupyter server extension enable --py qiime2' +\n",
       "                        ' --sys-prefix</code><br />then restart your server.' +\n",
       "                        '<br /><br />(Interactive output not available on ' +\n",
       "                        'static notebook viewer services like nbviewer.)';\n",
       "    } else if (res.status === 409) {\n",
       "        div.innerHTML = 'Visualization no longer in scope. Re-run this cell' +\n",
       "                        ' to see the visualization.';\n",
       "    } else if (res.ok) {\n",
       "        url = res.url;\n",
       "        div.innerHTML = '<iframe src=\\'' + url + '\\' style=\\'' +\n",
       "                        'width: 100%; height: 700px; border: 0;\\'>' +\n",
       "                        '</iframe><hr />Open in a: <a href=\\'' + url + '\\'' +\n",
       "                        ' target=\\'_blank\\'>new window</a>'\n",
       "    } else {\n",
       "        div.innerHTML = 'Something has gone wrong. Check notebook server for' +\n",
       "                        ' errors.';\n",
       "    }\n",
       "});\n",
       "})(this.parentElement, '/qiime2/redirect?location=/tmp/qiime2/jovyan/data/0be95d0b-691d-4067-9bf4-7a742c4460a8')\" src=\"data:image/gif;base64,R0lGODlhAQABAIAAAP///wAAACH5BAEAAAAALAAAAAABAAEAAAICRAEAOw==\" /></div>"
      ],
      "text/plain": [
       "<visualization: Visualization uuid: 0be95d0b-691d-4067-9bf4-7a742c4460a8>"
      ]
     },
     "execution_count": 6,
     "metadata": {},
     "output_type": "execute_result"
    }
   ],
   "source": [
    "Visualization.load(f\"{data_dir}/dada2_stats_1.qzv\")"
   ]
  },
  {
   "cell_type": "code",
   "execution_count": 25,
   "id": "dbfa724b-0056-4f82-bb65-4550c0f6fba8",
   "metadata": {
    "collapsed": true,
    "execution": {
     "iopub.execute_input": "2025-10-15T12:04:05.344568Z",
     "iopub.status.busy": "2025-10-15T12:04:05.343274Z",
     "iopub.status.idle": "2025-10-15T12:04:35.220465Z",
     "shell.execute_reply": "2025-10-15T12:04:35.218949Z",
     "shell.execute_reply.started": "2025-10-15T12:04:05.344504Z"
    },
    "jupyter": {
     "outputs_hidden": true
    },
    "tags": []
   },
   "outputs": [
    {
     "name": "stdout",
     "output_type": "stream",
     "text": [
      "/opt/conda/lib/python3.10/site-packages/unifrac/__init__.py:9: UserWarning: pkg_resources is deprecated as an API. See https://setuptools.pypa.io/en/latest/pkg_resources.html. The pkg_resources package is slated for removal as early as 2025-11-30. Refrain from using this package or pin to Setuptools<81.\n",
      "  import pkg_resources\n",
      "\u001b[32mSaved Visualization to: fungut_data/dada2_rep_seqs_1.qzv\u001b[0m\n",
      "\u001b[0m\u001b[?25h"
     ]
    }
   ],
   "source": [
    "! qiime feature-table tabulate-seqs \\\n",
    "    --i-data $data_dir/dada2_rep_seqs_1.qza \\\n",
    "    --o-visualization $data_dir/dada2_rep_seqs_1.qzv"
   ]
  },
  {
   "cell_type": "code",
   "execution_count": 7,
   "id": "dc609b42-1349-4f40-9782-6cf646556e34",
   "metadata": {
    "execution": {
     "iopub.execute_input": "2025-10-22T08:18:32.096556Z",
     "iopub.status.busy": "2025-10-22T08:18:32.096258Z",
     "iopub.status.idle": "2025-10-22T08:18:32.147380Z",
     "shell.execute_reply": "2025-10-22T08:18:32.146858Z",
     "shell.execute_reply.started": "2025-10-22T08:18:32.096529Z"
    },
    "tags": []
   },
   "outputs": [
    {
     "data": {
      "text/html": [
       "<div><img onload=\"(function(div, url){\n",
       "if (typeof require !== 'undefined') {\n",
       "    var baseURL = require.toUrl('').split('/').slice(0, -2).join('/');\n",
       "} else {\n",
       "    var baseURL = JSON.parse(\n",
       "        document.getElementById('jupyter-config-data').innerHTML\n",
       "    ).baseUrl.slice(0, -1);\n",
       "}\n",
       "url = baseURL + url;\n",
       "fetch(url).then(function(res) {\n",
       "    if (res.status === 404) {\n",
       "        div.innerHTML = 'Install QIIME 2 Jupyter extension with:<br />' +\n",
       "                        '<code>jupyter server extension enable --py qiime2' +\n",
       "                        ' --sys-prefix</code><br />then restart your server.' +\n",
       "                        '<br /><br />(Interactive output not available on ' +\n",
       "                        'static notebook viewer services like nbviewer.)';\n",
       "    } else if (res.status === 409) {\n",
       "        div.innerHTML = 'Visualization no longer in scope. Re-run this cell' +\n",
       "                        ' to see the visualization.';\n",
       "    } else if (res.ok) {\n",
       "        url = res.url;\n",
       "        div.innerHTML = '<iframe src=\\'' + url + '\\' style=\\'' +\n",
       "                        'width: 100%; height: 700px; border: 0;\\'>' +\n",
       "                        '</iframe><hr />Open in a: <a href=\\'' + url + '\\'' +\n",
       "                        ' target=\\'_blank\\'>new window</a>'\n",
       "    } else {\n",
       "        div.innerHTML = 'Something has gone wrong. Check notebook server for' +\n",
       "                        ' errors.';\n",
       "    }\n",
       "});\n",
       "})(this.parentElement, '/qiime2/redirect?location=/tmp/qiime2/jovyan/data/7aff86e4-c64c-4acb-a684-425833003074')\" src=\"data:image/gif;base64,R0lGODlhAQABAIAAAP///wAAACH5BAEAAAAALAAAAAABAAEAAAICRAEAOw==\" /></div>"
      ],
      "text/plain": [
       "<visualization: Visualization uuid: 7aff86e4-c64c-4acb-a684-425833003074>"
      ]
     },
     "execution_count": 7,
     "metadata": {},
     "output_type": "execute_result"
    }
   ],
   "source": [
    "Visualization.load(f\"{data_dir}/dada2_rep_seqs_1.qzv\")"
   ]
  },
  {
   "cell_type": "code",
   "execution_count": 27,
   "id": "92090998-28bd-4b0a-9209-4a9f4b1c2074",
   "metadata": {
    "collapsed": true,
    "execution": {
     "iopub.execute_input": "2025-10-15T12:04:57.996578Z",
     "iopub.status.busy": "2025-10-15T12:04:57.994994Z",
     "iopub.status.idle": "2025-10-15T12:05:28.412923Z",
     "shell.execute_reply": "2025-10-15T12:05:28.410850Z",
     "shell.execute_reply.started": "2025-10-15T12:04:57.996519Z"
    },
    "jupyter": {
     "outputs_hidden": true
    },
    "tags": []
   },
   "outputs": [
    {
     "name": "stdout",
     "output_type": "stream",
     "text": [
      "/opt/conda/lib/python3.10/site-packages/unifrac/__init__.py:9: UserWarning: pkg_resources is deprecated as an API. See https://setuptools.pypa.io/en/latest/pkg_resources.html. The pkg_resources package is slated for removal as early as 2025-11-30. Refrain from using this package or pin to Setuptools<81.\n",
      "  import pkg_resources\n",
      "\u001b[32mSaved Visualization to: fungut_data/dada2_table_1.qzv\u001b[0m\n",
      "\u001b[0m\u001b[?25h"
     ]
    }
   ],
   "source": [
    "! qiime feature-table summarize \\\n",
    "    --i-table $data_dir/dada2_table_1.qza \\\n",
    "    --m-sample-metadata-file $data_dir/fungut_metadata.tsv \\\n",
    "    --o-visualization $data_dir/dada2_table_1.qzv"
   ]
  },
  {
   "cell_type": "code",
   "execution_count": 8,
   "id": "bbc6ac7e-5753-44e0-bd31-1d23fc02dc2a",
   "metadata": {
    "execution": {
     "iopub.execute_input": "2025-10-22T08:18:38.956168Z",
     "iopub.status.busy": "2025-10-22T08:18:38.955401Z",
     "iopub.status.idle": "2025-10-22T08:18:39.026190Z",
     "shell.execute_reply": "2025-10-22T08:18:39.025664Z",
     "shell.execute_reply.started": "2025-10-22T08:18:38.956136Z"
    },
    "tags": []
   },
   "outputs": [
    {
     "data": {
      "text/html": [
       "<div><img onload=\"(function(div, url){\n",
       "if (typeof require !== 'undefined') {\n",
       "    var baseURL = require.toUrl('').split('/').slice(0, -2).join('/');\n",
       "} else {\n",
       "    var baseURL = JSON.parse(\n",
       "        document.getElementById('jupyter-config-data').innerHTML\n",
       "    ).baseUrl.slice(0, -1);\n",
       "}\n",
       "url = baseURL + url;\n",
       "fetch(url).then(function(res) {\n",
       "    if (res.status === 404) {\n",
       "        div.innerHTML = 'Install QIIME 2 Jupyter extension with:<br />' +\n",
       "                        '<code>jupyter server extension enable --py qiime2' +\n",
       "                        ' --sys-prefix</code><br />then restart your server.' +\n",
       "                        '<br /><br />(Interactive output not available on ' +\n",
       "                        'static notebook viewer services like nbviewer.)';\n",
       "    } else if (res.status === 409) {\n",
       "        div.innerHTML = 'Visualization no longer in scope. Re-run this cell' +\n",
       "                        ' to see the visualization.';\n",
       "    } else if (res.ok) {\n",
       "        url = res.url;\n",
       "        div.innerHTML = '<iframe src=\\'' + url + '\\' style=\\'' +\n",
       "                        'width: 100%; height: 700px; border: 0;\\'>' +\n",
       "                        '</iframe><hr />Open in a: <a href=\\'' + url + '\\'' +\n",
       "                        ' target=\\'_blank\\'>new window</a>'\n",
       "    } else {\n",
       "        div.innerHTML = 'Something has gone wrong. Check notebook server for' +\n",
       "                        ' errors.';\n",
       "    }\n",
       "});\n",
       "})(this.parentElement, '/qiime2/redirect?location=/tmp/qiime2/jovyan/data/e2be7ee9-5060-4bcb-948e-d72b8af345f3')\" src=\"data:image/gif;base64,R0lGODlhAQABAIAAAP///wAAACH5BAEAAAAALAAAAAABAAEAAAICRAEAOw==\" /></div>"
      ],
      "text/plain": [
       "<visualization: Visualization uuid: e2be7ee9-5060-4bcb-948e-d72b8af345f3>"
      ]
     },
     "execution_count": 8,
     "metadata": {},
     "output_type": "execute_result"
    }
   ],
   "source": [
    "Visualization.load(f\"{data_dir}/dada2_table_1.qzv\")"
   ]
  },
  {
   "cell_type": "markdown",
   "id": "19b7bbe2-6461-4c19-aee6-83fa7b310d7d",
   "metadata": {},
   "source": []
  },
  {
   "cell_type": "markdown",
   "id": "c4889e58-38db-412c-b2c8-0568373b0e00",
   "metadata": {},
   "source": [
    "2. Denoising Versuch mit trim left 15 und trunc len 130"
   ]
  },
  {
   "cell_type": "code",
   "execution_count": 24,
   "id": "e2f10677-2f1f-4e8b-b35a-659ccda61d26",
   "metadata": {
    "collapsed": true,
    "execution": {
     "iopub.execute_input": "2025-10-15T11:52:18.958037Z",
     "iopub.status.busy": "2025-10-15T11:52:18.957296Z",
     "iopub.status.idle": "2025-10-15T12:03:34.927021Z",
     "shell.execute_reply": "2025-10-15T12:03:34.925041Z",
     "shell.execute_reply.started": "2025-10-15T11:52:18.957985Z"
    },
    "jupyter": {
     "outputs_hidden": true
    },
    "tags": []
   },
   "outputs": [
    {
     "name": "stdout",
     "output_type": "stream",
     "text": [
      "/opt/conda/lib/python3.10/site-packages/unifrac/__init__.py:9: UserWarning: pkg_resources is deprecated as an API. See https://setuptools.pypa.io/en/latest/pkg_resources.html. The pkg_resources package is slated for removal as early as 2025-11-30. Refrain from using this package or pin to Setuptools<81.\n",
      "  import pkg_resources\n",
      "\u001b[32mSaved FeatureTable[Frequency] to: fungut_data/dada2_table_2.qza\u001b[0m\n",
      "\u001b[32mSaved FeatureData[Sequence] to: fungut_data/dada2_rep_seqs_2.qza\u001b[0m\n",
      "\u001b[32mSaved SampleData[DADA2Stats] to: fungut_data/dada2_stats_2.qza\u001b[0m\n",
      "\u001b[0m\u001b[?25h"
     ]
    }
   ],
   "source": [
    "!qiime dada2 denoise-single \\\n",
    "   --i-demultiplexed-seqs $data_dir/fungut_forward_reads.qza \\\n",
    "   --p-trim-left 15 \\\n",
    "   --p-trunc-len 130 \\\n",
    "   --p-min-fold-parent-over-abundance 4 \\\n",
    "   --p-max-ee 4 \\\n",
    "    --o-representative-sequences $data_dir/dada2_rep_seqs_2.qza \\\n",
    "    --o-table $data_dir/dada2_table_2.qza \\\n",
    "    --o-denoising-stats $data_dir/dada2_stats_2.qza"
   ]
  },
  {
   "cell_type": "code",
   "execution_count": 29,
   "id": "cd199b20-b564-4936-be41-d22307c6c779",
   "metadata": {
    "collapsed": true,
    "execution": {
     "iopub.execute_input": "2025-10-15T12:05:55.846352Z",
     "iopub.status.busy": "2025-10-15T12:05:55.845751Z",
     "iopub.status.idle": "2025-10-15T12:06:25.482151Z",
     "shell.execute_reply": "2025-10-15T12:06:25.480657Z",
     "shell.execute_reply.started": "2025-10-15T12:05:55.846303Z"
    },
    "jupyter": {
     "outputs_hidden": true
    },
    "tags": []
   },
   "outputs": [
    {
     "name": "stdout",
     "output_type": "stream",
     "text": [
      "/opt/conda/lib/python3.10/site-packages/unifrac/__init__.py:9: UserWarning: pkg_resources is deprecated as an API. See https://setuptools.pypa.io/en/latest/pkg_resources.html. The pkg_resources package is slated for removal as early as 2025-11-30. Refrain from using this package or pin to Setuptools<81.\n",
      "  import pkg_resources\n",
      "\u001b[32mSaved Visualization to: fungut_data/dada2_stats_2.qzv\u001b[0m\n",
      "\u001b[0m\u001b[?25h"
     ]
    }
   ],
   "source": [
    "! qiime metadata tabulate \\\n",
    "    --m-input-file $data_dir/dada2_stats_2.qza \\\n",
    "    --o-visualization $data_dir/dada2_stats_2.qzv"
   ]
  },
  {
   "cell_type": "code",
   "execution_count": 7,
   "id": "bfdce52c-2692-4c70-90d3-f68e06a1b223",
   "metadata": {
    "collapsed": true,
    "execution": {
     "iopub.execute_input": "2025-10-17T10:30:45.823965Z",
     "iopub.status.busy": "2025-10-17T10:30:45.823672Z",
     "iopub.status.idle": "2025-10-17T10:30:45.909384Z",
     "shell.execute_reply": "2025-10-17T10:30:45.908794Z",
     "shell.execute_reply.started": "2025-10-17T10:30:45.823942Z"
    },
    "jupyter": {
     "outputs_hidden": true
    },
    "tags": []
   },
   "outputs": [
    {
     "data": {
      "text/html": [
       "<div><img onload=\"(function(div, url){\n",
       "if (typeof require !== 'undefined') {\n",
       "    var baseURL = require.toUrl('').split('/').slice(0, -2).join('/');\n",
       "} else {\n",
       "    var baseURL = JSON.parse(\n",
       "        document.getElementById('jupyter-config-data').innerHTML\n",
       "    ).baseUrl.slice(0, -1);\n",
       "}\n",
       "url = baseURL + url;\n",
       "fetch(url).then(function(res) {\n",
       "    if (res.status === 404) {\n",
       "        div.innerHTML = 'Install QIIME 2 Jupyter extension with:<br />' +\n",
       "                        '<code>jupyter server extension enable --py qiime2' +\n",
       "                        ' --sys-prefix</code><br />then restart your server.' +\n",
       "                        '<br /><br />(Interactive output not available on ' +\n",
       "                        'static notebook viewer services like nbviewer.)';\n",
       "    } else if (res.status === 409) {\n",
       "        div.innerHTML = 'Visualization no longer in scope. Re-run this cell' +\n",
       "                        ' to see the visualization.';\n",
       "    } else if (res.ok) {\n",
       "        url = res.url;\n",
       "        div.innerHTML = '<iframe src=\\'' + url + '\\' style=\\'' +\n",
       "                        'width: 100%; height: 700px; border: 0;\\'>' +\n",
       "                        '</iframe><hr />Open in a: <a href=\\'' + url + '\\'' +\n",
       "                        ' target=\\'_blank\\'>new window</a>'\n",
       "    } else {\n",
       "        div.innerHTML = 'Something has gone wrong. Check notebook server for' +\n",
       "                        ' errors.';\n",
       "    }\n",
       "});\n",
       "})(this.parentElement, '/qiime2/redirect?location=/tmp/qiime2/jovyan/data/194341aa-a4a6-4841-bd3e-30a012ab58e5')\" src=\"data:image/gif;base64,R0lGODlhAQABAIAAAP///wAAACH5BAEAAAAALAAAAAABAAEAAAICRAEAOw==\" /></div>"
      ],
      "text/plain": [
       "<visualization: Visualization uuid: 194341aa-a4a6-4841-bd3e-30a012ab58e5>"
      ]
     },
     "execution_count": 7,
     "metadata": {},
     "output_type": "execute_result"
    }
   ],
   "source": [
    "Visualization.load(f\"{data_dir}/dada2_stats_2.qzv\")"
   ]
  },
  {
   "cell_type": "code",
   "execution_count": 31,
   "id": "7c013a3e-03da-4655-a288-3cae5d8e1b81",
   "metadata": {
    "collapsed": true,
    "execution": {
     "iopub.execute_input": "2025-10-15T12:06:25.526658Z",
     "iopub.status.busy": "2025-10-15T12:06:25.526457Z",
     "iopub.status.idle": "2025-10-15T12:06:54.868155Z",
     "shell.execute_reply": "2025-10-15T12:06:54.866548Z",
     "shell.execute_reply.started": "2025-10-15T12:06:25.526640Z"
    },
    "jupyter": {
     "outputs_hidden": true
    },
    "tags": []
   },
   "outputs": [
    {
     "name": "stdout",
     "output_type": "stream",
     "text": [
      "/opt/conda/lib/python3.10/site-packages/unifrac/__init__.py:9: UserWarning: pkg_resources is deprecated as an API. See https://setuptools.pypa.io/en/latest/pkg_resources.html. The pkg_resources package is slated for removal as early as 2025-11-30. Refrain from using this package or pin to Setuptools<81.\n",
      "  import pkg_resources\n",
      "\u001b[32mSaved Visualization to: fungut_data/dada2_rep_seqs_2.qzv\u001b[0m\n",
      "\u001b[0m\u001b[?25h"
     ]
    }
   ],
   "source": [
    "! qiime feature-table tabulate-seqs \\\n",
    "    --i-data $data_dir/dada2_rep_seqs_2.qza \\\n",
    "    --o-visualization $data_dir/dada2_rep_seqs_2.qzv"
   ]
  },
  {
   "cell_type": "code",
   "execution_count": 32,
   "id": "b3d4373f-323c-40c2-9908-d8d5333c75fd",
   "metadata": {
    "collapsed": true,
    "execution": {
     "iopub.execute_input": "2025-10-15T12:06:54.873553Z",
     "iopub.status.busy": "2025-10-15T12:06:54.872210Z",
     "iopub.status.idle": "2025-10-15T12:06:54.905996Z",
     "shell.execute_reply": "2025-10-15T12:06:54.904554Z",
     "shell.execute_reply.started": "2025-10-15T12:06:54.873498Z"
    },
    "jupyter": {
     "outputs_hidden": true
    },
    "tags": []
   },
   "outputs": [
    {
     "data": {
      "text/html": [
       "<div><img onload=\"(function(div, url){\n",
       "if (typeof require !== 'undefined') {\n",
       "    var baseURL = require.toUrl('').split('/').slice(0, -2).join('/');\n",
       "} else {\n",
       "    var baseURL = JSON.parse(\n",
       "        document.getElementById('jupyter-config-data').innerHTML\n",
       "    ).baseUrl.slice(0, -1);\n",
       "}\n",
       "url = baseURL + url;\n",
       "fetch(url).then(function(res) {\n",
       "    if (res.status === 404) {\n",
       "        div.innerHTML = 'Install QIIME 2 Jupyter extension with:<br />' +\n",
       "                        '<code>jupyter server extension enable --py qiime2' +\n",
       "                        ' --sys-prefix</code><br />then restart your server.' +\n",
       "                        '<br /><br />(Interactive output not available on ' +\n",
       "                        'static notebook viewer services like nbviewer.)';\n",
       "    } else if (res.status === 409) {\n",
       "        div.innerHTML = 'Visualization no longer in scope. Re-run this cell' +\n",
       "                        ' to see the visualization.';\n",
       "    } else if (res.ok) {\n",
       "        url = res.url;\n",
       "        div.innerHTML = '<iframe src=\\'' + url + '\\' style=\\'' +\n",
       "                        'width: 100%; height: 700px; border: 0;\\'>' +\n",
       "                        '</iframe><hr />Open in a: <a href=\\'' + url + '\\'' +\n",
       "                        ' target=\\'_blank\\'>new window</a>'\n",
       "    } else {\n",
       "        div.innerHTML = 'Something has gone wrong. Check notebook server for' +\n",
       "                        ' errors.';\n",
       "    }\n",
       "});\n",
       "})(this.parentElement, '/qiime2/redirect?location=/tmp/qiime2/jovyan/data/d284a948-3cd7-469f-9327-7abb760e1706')\" src=\"data:image/gif;base64,R0lGODlhAQABAIAAAP///wAAACH5BAEAAAAALAAAAAABAAEAAAICRAEAOw==\" /></div>"
      ],
      "text/plain": [
       "<visualization: Visualization uuid: d284a948-3cd7-469f-9327-7abb760e1706>"
      ]
     },
     "execution_count": 32,
     "metadata": {},
     "output_type": "execute_result"
    }
   ],
   "source": [
    "Visualization.load(f\"{data_dir}/dada2_rep_seqs_2.qzv\")"
   ]
  },
  {
   "cell_type": "code",
   "execution_count": 33,
   "id": "fa47ca28-ad12-410f-ad26-cd8c11664187",
   "metadata": {
    "collapsed": true,
    "execution": {
     "iopub.execute_input": "2025-10-15T12:06:54.908346Z",
     "iopub.status.busy": "2025-10-15T12:06:54.907755Z",
     "iopub.status.idle": "2025-10-15T12:07:25.214193Z",
     "shell.execute_reply": "2025-10-15T12:07:25.212837Z",
     "shell.execute_reply.started": "2025-10-15T12:06:54.908301Z"
    },
    "jupyter": {
     "outputs_hidden": true
    },
    "tags": []
   },
   "outputs": [
    {
     "name": "stdout",
     "output_type": "stream",
     "text": [
      "/opt/conda/lib/python3.10/site-packages/unifrac/__init__.py:9: UserWarning: pkg_resources is deprecated as an API. See https://setuptools.pypa.io/en/latest/pkg_resources.html. The pkg_resources package is slated for removal as early as 2025-11-30. Refrain from using this package or pin to Setuptools<81.\n",
      "  import pkg_resources\n",
      "\u001b[32mSaved Visualization to: fungut_data/dada2_table_2.qzv\u001b[0m\n",
      "\u001b[0m\u001b[?25h"
     ]
    }
   ],
   "source": [
    "! qiime feature-table summarize \\\n",
    "    --i-table $data_dir/dada2_table_2.qza \\\n",
    "    --m-sample-metadata-file $data_dir/fungut_metadata.tsv \\\n",
    "    --o-visualization $data_dir/dada2_table_2.qzv"
   ]
  },
  {
   "cell_type": "code",
   "execution_count": 12,
   "id": "f7364e1b-8c83-4e1c-bb6b-669a08714c0a",
   "metadata": {
    "collapsed": true,
    "execution": {
     "iopub.execute_input": "2025-10-17T10:39:52.606647Z",
     "iopub.status.busy": "2025-10-17T10:39:52.606125Z",
     "iopub.status.idle": "2025-10-17T10:39:52.663485Z",
     "shell.execute_reply": "2025-10-17T10:39:52.662900Z",
     "shell.execute_reply.started": "2025-10-17T10:39:52.606621Z"
    },
    "jupyter": {
     "outputs_hidden": true
    },
    "tags": []
   },
   "outputs": [
    {
     "data": {
      "text/html": [
       "<div><img onload=\"(function(div, url){\n",
       "if (typeof require !== 'undefined') {\n",
       "    var baseURL = require.toUrl('').split('/').slice(0, -2).join('/');\n",
       "} else {\n",
       "    var baseURL = JSON.parse(\n",
       "        document.getElementById('jupyter-config-data').innerHTML\n",
       "    ).baseUrl.slice(0, -1);\n",
       "}\n",
       "url = baseURL + url;\n",
       "fetch(url).then(function(res) {\n",
       "    if (res.status === 404) {\n",
       "        div.innerHTML = 'Install QIIME 2 Jupyter extension with:<br />' +\n",
       "                        '<code>jupyter server extension enable --py qiime2' +\n",
       "                        ' --sys-prefix</code><br />then restart your server.' +\n",
       "                        '<br /><br />(Interactive output not available on ' +\n",
       "                        'static notebook viewer services like nbviewer.)';\n",
       "    } else if (res.status === 409) {\n",
       "        div.innerHTML = 'Visualization no longer in scope. Re-run this cell' +\n",
       "                        ' to see the visualization.';\n",
       "    } else if (res.ok) {\n",
       "        url = res.url;\n",
       "        div.innerHTML = '<iframe src=\\'' + url + '\\' style=\\'' +\n",
       "                        'width: 100%; height: 700px; border: 0;\\'>' +\n",
       "                        '</iframe><hr />Open in a: <a href=\\'' + url + '\\'' +\n",
       "                        ' target=\\'_blank\\'>new window</a>'\n",
       "    } else {\n",
       "        div.innerHTML = 'Something has gone wrong. Check notebook server for' +\n",
       "                        ' errors.';\n",
       "    }\n",
       "});\n",
       "})(this.parentElement, '/qiime2/redirect?location=/tmp/qiime2/jovyan/data/3e90f270-885e-47ea-a7e8-6d605b846014')\" src=\"data:image/gif;base64,R0lGODlhAQABAIAAAP///wAAACH5BAEAAAAALAAAAAABAAEAAAICRAEAOw==\" /></div>"
      ],
      "text/plain": [
       "<visualization: Visualization uuid: 3e90f270-885e-47ea-a7e8-6d605b846014>"
      ]
     },
     "execution_count": 12,
     "metadata": {},
     "output_type": "execute_result"
    }
   ],
   "source": [
    "Visualization.load(f\"{data_dir}/dada2_table_2.qzv\")"
   ]
  },
  {
   "cell_type": "markdown",
   "id": "d0983d8b-afd1-4921-9d19-592e85c8b158",
   "metadata": {},
   "source": [
    "Comparing denoised data 1&2:\n",
    "ITS sequences are more variable in length than 16S data. There is the risk of cutting the truncation length too short and loose valid ITS reads. Regarding that the the original data was good overall (everywhere over 30), it is better to keep all sequences. With this conclusion, it is decided to continue further steps with the data optained by run 1."
   ]
  },
  {
   "cell_type": "code",
   "execution_count": 10,
   "id": "f28b9d60-3e83-43e4-9406-200cc3d36cfe",
   "metadata": {
    "collapsed": true,
    "execution": {
     "iopub.execute_input": "2025-10-22T08:55:14.466200Z",
     "iopub.status.busy": "2025-10-22T08:55:14.465580Z",
     "iopub.status.idle": "2025-10-22T08:55:16.317493Z",
     "shell.execute_reply": "2025-10-22T08:55:16.316645Z",
     "shell.execute_reply.started": "2025-10-22T08:55:14.466174Z"
    },
    "jupyter": {
     "outputs_hidden": true
    },
    "tags": []
   },
   "outputs": [
    {
     "name": "stdout",
     "output_type": "stream",
     "text": [
      "Usage: \u001b[94mqiime feature-classifier classify-sklearn\u001b[0m [OPTIONS]\n",
      "\n",
      "  Classify reads by taxon using a fitted classifier.\n",
      "\n",
      "\u001b[1mInputs\u001b[0m:\n",
      "  \u001b[94m\u001b[4m--i-reads\u001b[0m ARTIFACT \u001b[32mFeatureData[Sequence]\u001b[0m\n",
      "                         The feature data to be classified.         \u001b[35m[required]\u001b[0m\n",
      "  \u001b[94m\u001b[4m--i-classifier\u001b[0m ARTIFACT\n",
      "    \u001b[32mTaxonomicClassifier\u001b[0m  The taxonomic classifier for classifying the reads.\n",
      "                                                                    \u001b[35m[required]\u001b[0m\n",
      "\u001b[1mParameters\u001b[0m:\n",
      "  \u001b[94m--p-reads-per-batch\u001b[0m VALUE \u001b[32mInt % Range(1, None) | Str % Choices('auto')\u001b[0m\n",
      "                         Number of reads to process in each batch. If \"auto\",\n",
      "                         this parameter is autoscaled to min( number of query\n",
      "                         sequences / \u001b[4mn-jobs\u001b[0m, 20000).         \u001b[35m[default: 'auto']\u001b[0m\n",
      "  \u001b[94m--p-n-jobs\u001b[0m NTHREADS    The maximum number of concurrent worker processes.\n",
      "                         If 0 all CPUs are used. If 1 is given, no parallel\n",
      "                         computing code is used at all, which is useful for\n",
      "                         debugging.                               \u001b[35m[default: 1]\u001b[0m\n",
      "  \u001b[94m--p-pre-dispatch\u001b[0m TEXT  \"all\" or expression, as in \"3*n_jobs\". The number of\n",
      "                         batches (of tasks) to be pre-dispatched.\n",
      "                                                         \u001b[35m[default: '2*n_jobs']\u001b[0m\n",
      "  \u001b[94m--p-confidence\u001b[0m VALUE \u001b[32mFloat % Range(0, 1, inclusive_end=True) | Str %\u001b[0m\n",
      "    \u001b[32mChoices('disable')\u001b[0m   Confidence threshold for limiting taxonomic depth.\n",
      "                         Set to \"disable\" to disable confidence calculation,\n",
      "                         or 0 to calculate confidence but not apply it to\n",
      "                         limit the taxonomic depth of the assignments.\n",
      "                                                                \u001b[35m[default: 0.7]\u001b[0m\n",
      "  \u001b[94m--p-read-orientation\u001b[0m TEXT \u001b[32mChoices('same', 'reverse-complement', 'auto',\u001b[0m\n",
      "    \u001b[32m'both')\u001b[0m              Direction of reads with respect to reference\n",
      "                         sequences. same will cause reads to be classified\n",
      "                         unchanged; reverse-complement will cause reads to be\n",
      "                         reversed and complemented prior to classification.\n",
      "                         Both will classify sequences unchanged and in\n",
      "                         reverse-complement and retain the classification with\n",
      "                         higher confidence. auto will autodetect orientation\n",
      "                         based on the confidence estimates for the first 100\n",
      "                         reads.                              \u001b[35m[default: 'auto']\u001b[0m\n",
      "\u001b[1mOutputs\u001b[0m:\n",
      "  \u001b[94m\u001b[4m--o-classification\u001b[0m ARTIFACT \u001b[32mFeatureData[Taxonomy]\u001b[0m\n",
      "                                                                    \u001b[35m[required]\u001b[0m\n",
      "\u001b[1mMiscellaneous\u001b[0m:\n",
      "  \u001b[94m--output-dir\u001b[0m PATH      Output unspecified results to a directory\n",
      "  \u001b[94m--verbose\u001b[0m / \u001b[94m--quiet\u001b[0m    Display verbose output to stdout and/or stderr\n",
      "                         during execution of this action. Or silence output if\n",
      "                         execution is successful (silence is golden).\n",
      "  \u001b[94m--example-data\u001b[0m PATH    Write example data and exit.\n",
      "  \u001b[94m--citations\u001b[0m            Show citations and exit.\n",
      "  \u001b[94m--use-cache\u001b[0m DIRECTORY  Specify the cache to be used for the intermediate\n",
      "                         work of this action. If not provided, the default\n",
      "                         cache under $TMP/qiime2/<uname> will be used.\n",
      "                         IMPORTANT FOR HPC USERS: If you are on an HPC system\n",
      "                         and are using parallel execution it is important to\n",
      "                         set this to a location that is globally accessible to\n",
      "                         all nodes in the cluster.\n",
      "  \u001b[94m--help\u001b[0m                 Show this message and exit.\n",
      "\n",
      "\u001b[33m                  There were some problems with the command:                  \u001b[0m\n",
      "\u001b[31m\u001b[1m (1/4) Missing option '--i-reads'.\u001b[0m\n",
      "\u001b[31m\u001b[1m (2/4) Missing option '--i-classifier'.\u001b[0m\n",
      "\u001b[31m\u001b[1m (3/4) Missing option '--o-classification'. (\"--output-dir\" may also be used)\u001b[0m\n",
      "\u001b[31m\u001b[1m (4/4) Got unexpected extra argument (?)\u001b[0m\n"
     ]
    }
   ],
   "source": [
    "! qiime feature-classifier classify-sklearn ?\n"
   ]
  },
  {
   "cell_type": "markdown",
   "id": "82b02b51-f332-412a-9aa8-fd6173257d9e",
   "metadata": {
    "execution": {
     "iopub.execute_input": "2025-10-15T09:32:46.029016Z",
     "iopub.status.busy": "2025-10-15T09:32:46.028062Z",
     "iopub.status.idle": "2025-10-15T09:32:46.032468Z",
     "shell.execute_reply": "2025-10-15T09:32:46.031780Z",
     "shell.execute_reply.started": "2025-10-15T09:32:46.028955Z"
    },
    "tags": []
   },
   "source": [
    "# 03 Taxonomy"
   ]
  },
  {
   "cell_type": "code",
   "execution_count": null,
   "id": "6cc3ad55-b50f-4fe6-abbf-73026668f7e8",
   "metadata": {},
   "outputs": [],
   "source": [
    "Zuerst (Primers)\n",
    "\n",
    "! qiime feature-classifier extract-reads \\\n",
    "    --i-sequences $data_dir/ncbi-refseqs-filtered.qza \\\n",
    "    --p-f-primer GTGCCAGCMGCCGCGGTAA \\\n",
    "    --p-r-primer GGACTACHVGGGTWTCTAAT \\\n",
    "    --p-n-jobs 3 \\\n",
    "    --p-read-orientation 'forward' \\\n",
    "    --o-reads $data_dir/ncbi-refseqs-515f-806r.qza"
   ]
  },
  {
   "cell_type": "code",
   "execution_count": null,
   "id": "237ba254-6731-46bd-9c76-92776ba6da55",
   "metadata": {},
   "outputs": [],
   "source": [
    "Danach (Dereplication)\n",
    "\n",
    "! qiime rescript dereplicate \\\n",
    "    --i-sequences $data_dir/ncbi-refseqs-515f-806r.qza \\\n",
    "    --i-taxa $data_dir/ncbi-refseqs-taxonomy-unfiltered.qza \\\n",
    "    --p-threads 3 \\\n",
    "    --p-mode 'lca' \\\n",
    "    --o-dereplicated-sequences $data_dir/ncbi-refseqs-515f-806r-lca.qza \\\n",
    "    --o-dereplicated-taxa  $data_dir/ncbi-refseqs-taxonomy-515f-806r-derep-lca.qza"
   ]
  },
  {
   "cell_type": "code",
   "execution_count": null,
   "id": "66834e75-ec3a-43d7-a8da-9b29621a417c",
   "metadata": {},
   "outputs": [],
   "source": [
    "Taxonomy mit Euler"
   ]
  },
  {
   "cell_type": "code",
   "execution_count": null,
   "id": "6899591a-4374-4d1b-883b-531465939a8a",
   "metadata": {},
   "outputs": [],
   "source": [
    "euler:\n",
    "    miniconda und chiime auf euler laden\n",
    "    jetzt könne wir mit euler kommunizieren\n",
    "    für jeden job die parameter definieren + wo sollen datein abgespeichert werden\n",
    "    laufen lassen\n",
    "    Hat es funktioniert?"
   ]
  },
  {
   "cell_type": "code",
   "execution_count": null,
   "id": "5eecd432-9ba6-48e3-8b76-6e4e750db8d2",
   "metadata": {},
   "outputs": [],
   "source": [
    "conda \n",
    "-> ampicon distribution (nicht m)\n",
    "transferring files\n",
    "zeit: 24h\n",
    "cpu: nach datenbank orientieren -> etwas mehr als das\n"
   ]
  }
 ],
 "metadata": {
  "kernelspec": {
   "display_name": "QIIME 2",
   "language": "python",
   "name": "python3"
  },
  "language_info": {
   "codemirror_mode": {
    "name": "ipython",
    "version": 3
   },
   "file_extension": ".py",
   "mimetype": "text/x-python",
   "name": "python",
   "nbconvert_exporter": "python",
   "pygments_lexer": "ipython3",
   "version": "3.10.14"
  }
 },
 "nbformat": 4,
 "nbformat_minor": 5
}
